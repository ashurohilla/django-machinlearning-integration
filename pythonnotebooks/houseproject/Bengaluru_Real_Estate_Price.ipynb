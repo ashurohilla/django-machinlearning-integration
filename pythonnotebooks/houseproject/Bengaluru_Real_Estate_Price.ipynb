{
 "cells": [
  {
   "cell_type": "markdown",
   "id": "53f29b4a-d428-44e4-9021-6c8ac7bc3eb7",
   "metadata": {},
   "source": [
    "# <font color ='blue'>Data Science Project: Predicting Home Prices in Bangalore</font>\n",
    "\n",
    "##### Real Estate Price Prediction\n",
    "##### Predicting price of a Real Estate Property on the basis of certain features\n",
    "##### Data set we are using is Bengaluru's House data set\n",
    "##### Will be Using Regression to solve the problem \n",
    "\n",
    "##### <font color ='blue'>Note</font>: Price is in lakhs "
   ]
  },
  {
   "cell_type": "code",
   "execution_count": 8,
   "id": "92b8bd6d-eda3-404d-8469-2715c08cfc06",
   "metadata": {},
   "outputs": [],
   "source": [
    "import numpy as np\n",
    "import pandas as pd\n",
    "import seaborn as sns\n",
    "import matplotlib.pyplot as plt\n",
    "from scipy import stats\n",
    "from sklearn.model_selection import train_test_split\n",
    "from sklearn.linear_model import LinearRegression\n",
    "from sklearn.tree import DecisionTreeRegressor\n",
    "from sklearn.ensemble import RandomForestRegressor\n",
    "from sklearn.metrics import mean_squared_error as mse\n",
    "from sklearn.model_selection import cross_val_score\n",
    "from sklearn.model_selection import KFold\n",
    "%matplotlib inline \n",
    "#stored within the notebook\n",
    "import matplotlib\n",
    "matplotlib.rcParams['figure.figsize'] = (20, 10)\n",
    "import warnings\n",
    "warnings.filterwarnings('ignore')"
   ]
  },
  {
   "cell_type": "code",
   "execution_count": 9,
   "id": "4b0986b0-fc43-4c35-bd76-9df516673221",
   "metadata": {},
   "outputs": [
    {
     "data": {
      "text/html": [
       "<div>\n",
       "<style scoped>\n",
       "    .dataframe tbody tr th:only-of-type {\n",
       "        vertical-align: middle;\n",
       "    }\n",
       "\n",
       "    .dataframe tbody tr th {\n",
       "        vertical-align: top;\n",
       "    }\n",
       "\n",
       "    .dataframe thead th {\n",
       "        text-align: right;\n",
       "    }\n",
       "</style>\n",
       "<table border=\"1\" class=\"dataframe\">\n",
       "  <thead>\n",
       "    <tr style=\"text-align: right;\">\n",
       "      <th></th>\n",
       "      <th>area_type</th>\n",
       "      <th>availability</th>\n",
       "      <th>location</th>\n",
       "      <th>size</th>\n",
       "      <th>society</th>\n",
       "      <th>total_sqft</th>\n",
       "      <th>bath</th>\n",
       "      <th>balcony</th>\n",
       "      <th>price</th>\n",
       "    </tr>\n",
       "  </thead>\n",
       "  <tbody>\n",
       "    <tr>\n",
       "      <th>0</th>\n",
       "      <td>Super built-up  Area</td>\n",
       "      <td>19-Dec</td>\n",
       "      <td>Electronic City Phase II</td>\n",
       "      <td>2 BHK</td>\n",
       "      <td>Coomee</td>\n",
       "      <td>1056</td>\n",
       "      <td>2.00</td>\n",
       "      <td>1.00</td>\n",
       "      <td>39.07</td>\n",
       "    </tr>\n",
       "    <tr>\n",
       "      <th>1</th>\n",
       "      <td>Plot  Area</td>\n",
       "      <td>Ready To Move</td>\n",
       "      <td>Chikka Tirupathi</td>\n",
       "      <td>4 Bedroom</td>\n",
       "      <td>Theanmp</td>\n",
       "      <td>2600</td>\n",
       "      <td>5.00</td>\n",
       "      <td>3.00</td>\n",
       "      <td>120.00</td>\n",
       "    </tr>\n",
       "    <tr>\n",
       "      <th>2</th>\n",
       "      <td>Built-up  Area</td>\n",
       "      <td>Ready To Move</td>\n",
       "      <td>Uttarahalli</td>\n",
       "      <td>3 BHK</td>\n",
       "      <td>NaN</td>\n",
       "      <td>1440</td>\n",
       "      <td>2.00</td>\n",
       "      <td>3.00</td>\n",
       "      <td>62.00</td>\n",
       "    </tr>\n",
       "    <tr>\n",
       "      <th>3</th>\n",
       "      <td>Super built-up  Area</td>\n",
       "      <td>Ready To Move</td>\n",
       "      <td>Lingadheeranahalli</td>\n",
       "      <td>3 BHK</td>\n",
       "      <td>Soiewre</td>\n",
       "      <td>1521</td>\n",
       "      <td>3.00</td>\n",
       "      <td>1.00</td>\n",
       "      <td>95.00</td>\n",
       "    </tr>\n",
       "    <tr>\n",
       "      <th>4</th>\n",
       "      <td>Super built-up  Area</td>\n",
       "      <td>Ready To Move</td>\n",
       "      <td>Kothanur</td>\n",
       "      <td>2 BHK</td>\n",
       "      <td>NaN</td>\n",
       "      <td>1200</td>\n",
       "      <td>2.00</td>\n",
       "      <td>1.00</td>\n",
       "      <td>51.00</td>\n",
       "    </tr>\n",
       "    <tr>\n",
       "      <th>5</th>\n",
       "      <td>Super built-up  Area</td>\n",
       "      <td>Ready To Move</td>\n",
       "      <td>Whitefield</td>\n",
       "      <td>2 BHK</td>\n",
       "      <td>DuenaTa</td>\n",
       "      <td>1170</td>\n",
       "      <td>2.00</td>\n",
       "      <td>1.00</td>\n",
       "      <td>38.00</td>\n",
       "    </tr>\n",
       "    <tr>\n",
       "      <th>6</th>\n",
       "      <td>Super built-up  Area</td>\n",
       "      <td>18-May</td>\n",
       "      <td>Old Airport Road</td>\n",
       "      <td>4 BHK</td>\n",
       "      <td>Jaades</td>\n",
       "      <td>2732</td>\n",
       "      <td>4.00</td>\n",
       "      <td>NaN</td>\n",
       "      <td>204.00</td>\n",
       "    </tr>\n",
       "    <tr>\n",
       "      <th>7</th>\n",
       "      <td>Super built-up  Area</td>\n",
       "      <td>Ready To Move</td>\n",
       "      <td>Rajaji Nagar</td>\n",
       "      <td>4 BHK</td>\n",
       "      <td>Brway G</td>\n",
       "      <td>3300</td>\n",
       "      <td>4.00</td>\n",
       "      <td>NaN</td>\n",
       "      <td>600.00</td>\n",
       "    </tr>\n",
       "    <tr>\n",
       "      <th>8</th>\n",
       "      <td>Super built-up  Area</td>\n",
       "      <td>Ready To Move</td>\n",
       "      <td>Marathahalli</td>\n",
       "      <td>3 BHK</td>\n",
       "      <td>NaN</td>\n",
       "      <td>1310</td>\n",
       "      <td>3.00</td>\n",
       "      <td>1.00</td>\n",
       "      <td>63.25</td>\n",
       "    </tr>\n",
       "    <tr>\n",
       "      <th>9</th>\n",
       "      <td>Plot  Area</td>\n",
       "      <td>Ready To Move</td>\n",
       "      <td>Gandhi Bazar</td>\n",
       "      <td>6 Bedroom</td>\n",
       "      <td>NaN</td>\n",
       "      <td>1020</td>\n",
       "      <td>6.00</td>\n",
       "      <td>NaN</td>\n",
       "      <td>370.00</td>\n",
       "    </tr>\n",
       "  </tbody>\n",
       "</table>\n",
       "</div>"
      ],
      "text/plain": [
       "              area_type   availability                  location       size  \\\n",
       "0  Super built-up  Area         19-Dec  Electronic City Phase II      2 BHK   \n",
       "1            Plot  Area  Ready To Move          Chikka Tirupathi  4 Bedroom   \n",
       "2        Built-up  Area  Ready To Move               Uttarahalli      3 BHK   \n",
       "3  Super built-up  Area  Ready To Move        Lingadheeranahalli      3 BHK   \n",
       "4  Super built-up  Area  Ready To Move                  Kothanur      2 BHK   \n",
       "5  Super built-up  Area  Ready To Move                Whitefield      2 BHK   \n",
       "6  Super built-up  Area         18-May          Old Airport Road      4 BHK   \n",
       "7  Super built-up  Area  Ready To Move              Rajaji Nagar      4 BHK   \n",
       "8  Super built-up  Area  Ready To Move              Marathahalli      3 BHK   \n",
       "9            Plot  Area  Ready To Move              Gandhi Bazar  6 Bedroom   \n",
       "\n",
       "   society total_sqft  bath  balcony  price  \n",
       "0  Coomee        1056  2.00     1.00  39.07  \n",
       "1  Theanmp       2600  5.00     3.00 120.00  \n",
       "2      NaN       1440  2.00     3.00  62.00  \n",
       "3  Soiewre       1521  3.00     1.00  95.00  \n",
       "4      NaN       1200  2.00     1.00  51.00  \n",
       "5  DuenaTa       1170  2.00     1.00  38.00  \n",
       "6  Jaades        2732  4.00      NaN 204.00  \n",
       "7  Brway G       3300  4.00      NaN 600.00  \n",
       "8      NaN       1310  3.00     1.00  63.25  \n",
       "9      NaN       1020  6.00      NaN 370.00  "
      ]
     },
     "execution_count": 9,
     "metadata": {},
     "output_type": "execute_result"
    }
   ],
   "source": [
    "#Bengaluru_House_Data -> Data set \n",
    "#Importing the data set\n",
    "Data_frame = pd.read_csv(\"Bengaluru_House_Data.csv\", na_values=[' ?'])\n",
    "Data_frame.head(10)"
   ]
  },
  {
   "cell_type": "code",
   "execution_count": 10,
   "id": "c44b8354-2bf5-4b21-af0a-e1ffd8da066b",
   "metadata": {},
   "outputs": [
    {
     "name": "stdout",
     "output_type": "stream",
     "text": [
      "Super built-up  Area    8790\n",
      "Built-up  Area          2418\n",
      "Plot  Area              2025\n",
      "Carpet  Area              87\n",
      "Name: area_type, dtype: int64\n",
      "\n",
      "\n",
      "Ready To Move    10581\n",
      "18-Dec             307\n",
      "18-May             295\n",
      "18-Apr             271\n",
      "18-Aug             200\n",
      "                 ...  \n",
      "15-Aug               1\n",
      "17-Jan               1\n",
      "16-Nov               1\n",
      "16-Jan               1\n",
      "14-Jul               1\n",
      "Name: availability, Length: 81, dtype: int64\n",
      "\n",
      "\n",
      "Whitefield                        540\n",
      "Sarjapur  Road                    399\n",
      "Electronic City                   302\n",
      "Kanakpura Road                    273\n",
      "Thanisandra                       234\n",
      "                                 ... \n",
      "Bapuji Layout                       1\n",
      "1st Stage Radha Krishna Layout      1\n",
      "BEML Layout 5th stage               1\n",
      "singapura paradise                  1\n",
      "Abshot Layout                       1\n",
      "Name: location, Length: 1305, dtype: int64\n",
      "\n",
      "\n",
      "2 BHK         5199\n",
      "3 BHK         4310\n",
      "4 Bedroom      826\n",
      "4 BHK          591\n",
      "3 Bedroom      547\n",
      "1 BHK          538\n",
      "2 Bedroom      329\n",
      "5 Bedroom      297\n",
      "6 Bedroom      191\n",
      "1 Bedroom      105\n",
      "8 Bedroom       84\n",
      "7 Bedroom       83\n",
      "5 BHK           59\n",
      "9 Bedroom       46\n",
      "6 BHK           30\n",
      "7 BHK           17\n",
      "1 RK            13\n",
      "10 Bedroom      12\n",
      "9 BHK            8\n",
      "8 BHK            5\n",
      "11 BHK           2\n",
      "11 Bedroom       2\n",
      "10 BHK           2\n",
      "14 BHK           1\n",
      "13 BHK           1\n",
      "12 Bedroom       1\n",
      "27 BHK           1\n",
      "43 Bedroom       1\n",
      "16 BHK           1\n",
      "19 BHK           1\n",
      "18 Bedroom       1\n",
      "Name: size, dtype: int64\n",
      "\n",
      "\n",
      "GrrvaGr    80\n",
      "PrarePa    76\n",
      "Sryalan    59\n",
      "Prtates    59\n",
      "GMown E    56\n",
      "           ..\n",
      "Amionce     1\n",
      "JaghtDe     1\n",
      "Jauraht     1\n",
      "Brity U     1\n",
      "RSntsAp     1\n",
      "Name: society, Length: 2688, dtype: int64\n",
      "\n",
      "\n",
      "1200    843\n",
      "1100    221\n",
      "1500    205\n",
      "2400    196\n",
      "600     180\n",
      "       ... \n",
      "3580      1\n",
      "2461      1\n",
      "1437      1\n",
      "2155      1\n",
      "4689      1\n",
      "Name: total_sqft, Length: 2117, dtype: int64\n",
      "\n",
      "\n",
      "2.00     6908\n",
      "3.00     3286\n",
      "4.00     1226\n",
      "1.00      788\n",
      "5.00      524\n",
      "6.00      273\n",
      "7.00      102\n",
      "8.00       64\n",
      "9.00       43\n",
      "10.00      13\n",
      "12.00       7\n",
      "13.00       3\n",
      "11.00       3\n",
      "16.00       2\n",
      "27.00       1\n",
      "40.00       1\n",
      "15.00       1\n",
      "14.00       1\n",
      "18.00       1\n",
      "Name: bath, dtype: int64\n",
      "\n",
      "\n",
      "2.00    5113\n",
      "1.00    4897\n",
      "3.00    1672\n",
      "0.00    1029\n",
      "Name: balcony, dtype: int64\n",
      "\n",
      "\n",
      "75.00     310\n",
      "65.00     302\n",
      "55.00     275\n",
      "60.00     270\n",
      "45.00     240\n",
      "         ... \n",
      "351.00      1\n",
      "54.10       1\n",
      "80.64       1\n",
      "32.73       1\n",
      "488.00      1\n",
      "Name: price, Length: 1994, dtype: int64\n",
      "\n",
      "\n"
     ]
    }
   ],
   "source": [
    "for i in Data_frame.columns:\n",
    "    print(Data_frame[i].value_counts())\n",
    "    print(\"\\n\")"
   ]
  },
  {
   "cell_type": "code",
   "execution_count": 11,
   "id": "1a73bbce-7cff-4ff0-a7c7-a80d9ee5fd2b",
   "metadata": {},
   "outputs": [
    {
     "name": "stdout",
     "output_type": "stream",
     "text": [
      "area_type \n",
      " ['Super built-up  Area' 'Plot  Area' 'Built-up  Area' 'Carpet  Area']\n",
      "\n",
      "\n",
      "availability \n",
      " ['19-Dec' 'Ready To Move' '18-May' '18-Feb' '18-Nov' '20-Dec' '17-Oct'\n",
      " '21-Dec' '19-Sep' '20-Sep' '18-Mar' '20-Feb' '18-Apr' '20-Aug' '18-Oct'\n",
      " '19-Mar' '17-Sep' '18-Dec' '17-Aug' '19-Apr' '18-Jun' '22-Dec' '22-Jan'\n",
      " '18-Aug' '19-Jan' '17-Jul' '18-Jul' '21-Jun' '20-May' '19-Aug' '18-Sep'\n",
      " '17-May' '17-Jun' '21-May' '18-Jan' '20-Mar' '17-Dec' '16-Mar' '19-Jun'\n",
      " '22-Jun' '19-Jul' '21-Feb' 'Immediate Possession' '19-May' '17-Nov'\n",
      " '20-Oct' '20-Jun' '19-Feb' '21-Oct' '21-Jan' '17-Mar' '17-Apr' '22-May'\n",
      " '19-Oct' '21-Jul' '21-Nov' '21-Mar' '16-Dec' '22-Mar' '20-Jan' '21-Sep'\n",
      " '21-Aug' '14-Nov' '19-Nov' '15-Nov' '16-Jul' '15-Jun' '17-Feb' '20-Nov'\n",
      " '20-Jul' '16-Sep' '15-Oct' '15-Dec' '16-Oct' '22-Nov' '15-Aug' '17-Jan'\n",
      " '16-Nov' '20-Apr' '16-Jan' '14-Jul']\n",
      "\n",
      "\n",
      "location \n",
      " ['Electronic City Phase II' 'Chikka Tirupathi' 'Uttarahalli' ...\n",
      " '12th cross srinivas nagar banshankari 3rd stage' 'Havanur extension'\n",
      " 'Abshot Layout']\n",
      "\n",
      "\n",
      "size \n",
      " ['2 BHK' '4 Bedroom' '3 BHK' '4 BHK' '6 Bedroom' '3 Bedroom' '1 BHK'\n",
      " '1 RK' '1 Bedroom' '8 Bedroom' '2 Bedroom' '7 Bedroom' '5 BHK' '7 BHK'\n",
      " '6 BHK' '5 Bedroom' '11 BHK' '9 BHK' nan '9 Bedroom' '27 BHK'\n",
      " '10 Bedroom' '11 Bedroom' '10 BHK' '19 BHK' '16 BHK' '43 Bedroom'\n",
      " '14 BHK' '8 BHK' '12 Bedroom' '13 BHK' '18 Bedroom']\n",
      "\n",
      "\n",
      "society \n",
      " ['Coomee ' 'Theanmp' nan ... 'SJovest' 'ThhtsV ' 'RSntsAp']\n",
      "\n",
      "\n",
      "total_sqft \n",
      " ['1056' '2600' '1440' ... '1133 - 1384' '774' '4689']\n",
      "\n",
      "\n",
      "bath \n",
      " [ 2.  5.  3.  4.  6.  1.  9. nan  8.  7. 11. 10. 14. 27. 12. 16. 40. 15.\n",
      " 13. 18.]\n",
      "\n",
      "\n",
      "balcony \n",
      " [ 1.  3. nan  2.  0.]\n",
      "\n",
      "\n",
      "price \n",
      " [ 39.07 120.    62.   ...  40.14 231.   488.  ]\n",
      "\n",
      "\n"
     ]
    }
   ],
   "source": [
    "for i in Data_frame.columns:\n",
    "    print(f'{i} \\n {Data_frame[i].unique()}')\n",
    "    print(\"\\n\")"
   ]
  },
  {
   "cell_type": "code",
   "execution_count": 12,
   "id": "b20d0ca2-5314-439c-88a9-c86c718f1dcc",
   "metadata": {},
   "outputs": [
    {
     "data": {
      "text/plain": [
       "(13320, 9)"
      ]
     },
     "execution_count": 12,
     "metadata": {},
     "output_type": "execute_result"
    }
   ],
   "source": [
    "Data_frame.shape"
   ]
  },
  {
   "cell_type": "code",
   "execution_count": 13,
   "id": "e2329cdf-f552-4f14-8603-c62fccd3c511",
   "metadata": {},
   "outputs": [
    {
     "data": {
      "text/html": [
       "<div>\n",
       "<style scoped>\n",
       "    .dataframe tbody tr th:only-of-type {\n",
       "        vertical-align: middle;\n",
       "    }\n",
       "\n",
       "    .dataframe tbody tr th {\n",
       "        vertical-align: top;\n",
       "    }\n",
       "\n",
       "    .dataframe thead th {\n",
       "        text-align: right;\n",
       "    }\n",
       "</style>\n",
       "<table border=\"1\" class=\"dataframe\">\n",
       "  <thead>\n",
       "    <tr style=\"text-align: right;\">\n",
       "      <th></th>\n",
       "      <th>area_type</th>\n",
       "      <th>availability</th>\n",
       "      <th>location</th>\n",
       "      <th>size</th>\n",
       "      <th>society</th>\n",
       "      <th>total_sqft</th>\n",
       "      <th>bath</th>\n",
       "      <th>balcony</th>\n",
       "      <th>price</th>\n",
       "    </tr>\n",
       "  </thead>\n",
       "  <tbody>\n",
       "    <tr>\n",
       "      <th>count</th>\n",
       "      <td>13320</td>\n",
       "      <td>13320</td>\n",
       "      <td>13319</td>\n",
       "      <td>13304</td>\n",
       "      <td>7818</td>\n",
       "      <td>13320</td>\n",
       "      <td>13247.00</td>\n",
       "      <td>12711.00</td>\n",
       "      <td>13320.00</td>\n",
       "    </tr>\n",
       "    <tr>\n",
       "      <th>unique</th>\n",
       "      <td>4</td>\n",
       "      <td>81</td>\n",
       "      <td>1305</td>\n",
       "      <td>31</td>\n",
       "      <td>2688</td>\n",
       "      <td>2117</td>\n",
       "      <td>NaN</td>\n",
       "      <td>NaN</td>\n",
       "      <td>NaN</td>\n",
       "    </tr>\n",
       "    <tr>\n",
       "      <th>top</th>\n",
       "      <td>Super built-up  Area</td>\n",
       "      <td>Ready To Move</td>\n",
       "      <td>Whitefield</td>\n",
       "      <td>2 BHK</td>\n",
       "      <td>GrrvaGr</td>\n",
       "      <td>1200</td>\n",
       "      <td>NaN</td>\n",
       "      <td>NaN</td>\n",
       "      <td>NaN</td>\n",
       "    </tr>\n",
       "    <tr>\n",
       "      <th>freq</th>\n",
       "      <td>8790</td>\n",
       "      <td>10581</td>\n",
       "      <td>540</td>\n",
       "      <td>5199</td>\n",
       "      <td>80</td>\n",
       "      <td>843</td>\n",
       "      <td>NaN</td>\n",
       "      <td>NaN</td>\n",
       "      <td>NaN</td>\n",
       "    </tr>\n",
       "    <tr>\n",
       "      <th>mean</th>\n",
       "      <td>NaN</td>\n",
       "      <td>NaN</td>\n",
       "      <td>NaN</td>\n",
       "      <td>NaN</td>\n",
       "      <td>NaN</td>\n",
       "      <td>NaN</td>\n",
       "      <td>2.69</td>\n",
       "      <td>1.58</td>\n",
       "      <td>112.57</td>\n",
       "    </tr>\n",
       "    <tr>\n",
       "      <th>std</th>\n",
       "      <td>NaN</td>\n",
       "      <td>NaN</td>\n",
       "      <td>NaN</td>\n",
       "      <td>NaN</td>\n",
       "      <td>NaN</td>\n",
       "      <td>NaN</td>\n",
       "      <td>1.34</td>\n",
       "      <td>0.82</td>\n",
       "      <td>148.97</td>\n",
       "    </tr>\n",
       "    <tr>\n",
       "      <th>min</th>\n",
       "      <td>NaN</td>\n",
       "      <td>NaN</td>\n",
       "      <td>NaN</td>\n",
       "      <td>NaN</td>\n",
       "      <td>NaN</td>\n",
       "      <td>NaN</td>\n",
       "      <td>1.00</td>\n",
       "      <td>0.00</td>\n",
       "      <td>8.00</td>\n",
       "    </tr>\n",
       "    <tr>\n",
       "      <th>25%</th>\n",
       "      <td>NaN</td>\n",
       "      <td>NaN</td>\n",
       "      <td>NaN</td>\n",
       "      <td>NaN</td>\n",
       "      <td>NaN</td>\n",
       "      <td>NaN</td>\n",
       "      <td>2.00</td>\n",
       "      <td>1.00</td>\n",
       "      <td>50.00</td>\n",
       "    </tr>\n",
       "    <tr>\n",
       "      <th>50%</th>\n",
       "      <td>NaN</td>\n",
       "      <td>NaN</td>\n",
       "      <td>NaN</td>\n",
       "      <td>NaN</td>\n",
       "      <td>NaN</td>\n",
       "      <td>NaN</td>\n",
       "      <td>2.00</td>\n",
       "      <td>2.00</td>\n",
       "      <td>72.00</td>\n",
       "    </tr>\n",
       "    <tr>\n",
       "      <th>75%</th>\n",
       "      <td>NaN</td>\n",
       "      <td>NaN</td>\n",
       "      <td>NaN</td>\n",
       "      <td>NaN</td>\n",
       "      <td>NaN</td>\n",
       "      <td>NaN</td>\n",
       "      <td>3.00</td>\n",
       "      <td>2.00</td>\n",
       "      <td>120.00</td>\n",
       "    </tr>\n",
       "    <tr>\n",
       "      <th>max</th>\n",
       "      <td>NaN</td>\n",
       "      <td>NaN</td>\n",
       "      <td>NaN</td>\n",
       "      <td>NaN</td>\n",
       "      <td>NaN</td>\n",
       "      <td>NaN</td>\n",
       "      <td>40.00</td>\n",
       "      <td>3.00</td>\n",
       "      <td>3600.00</td>\n",
       "    </tr>\n",
       "  </tbody>\n",
       "</table>\n",
       "</div>"
      ],
      "text/plain": [
       "                   area_type   availability    location   size  society  \\\n",
       "count                  13320          13320       13319  13304     7818   \n",
       "unique                     4             81        1305     31     2688   \n",
       "top     Super built-up  Area  Ready To Move  Whitefield  2 BHK  GrrvaGr   \n",
       "freq                    8790          10581         540   5199       80   \n",
       "mean                     NaN            NaN         NaN    NaN      NaN   \n",
       "std                      NaN            NaN         NaN    NaN      NaN   \n",
       "min                      NaN            NaN         NaN    NaN      NaN   \n",
       "25%                      NaN            NaN         NaN    NaN      NaN   \n",
       "50%                      NaN            NaN         NaN    NaN      NaN   \n",
       "75%                      NaN            NaN         NaN    NaN      NaN   \n",
       "max                      NaN            NaN         NaN    NaN      NaN   \n",
       "\n",
       "       total_sqft     bath  balcony    price  \n",
       "count       13320 13247.00 12711.00 13320.00  \n",
       "unique       2117      NaN      NaN      NaN  \n",
       "top          1200      NaN      NaN      NaN  \n",
       "freq          843      NaN      NaN      NaN  \n",
       "mean          NaN     2.69     1.58   112.57  \n",
       "std           NaN     1.34     0.82   148.97  \n",
       "min           NaN     1.00     0.00     8.00  \n",
       "25%           NaN     2.00     1.00    50.00  \n",
       "50%           NaN     2.00     2.00    72.00  \n",
       "75%           NaN     3.00     2.00   120.00  \n",
       "max           NaN    40.00     3.00  3600.00  "
      ]
     },
     "execution_count": 13,
     "metadata": {},
     "output_type": "execute_result"
    }
   ],
   "source": [
    "Data_frame.describe(include='all') "
   ]
  },
  {
   "cell_type": "markdown",
   "id": "bfad2094-bf4f-419f-8998-f974d6a90031",
   "metadata": {},
   "source": [
    "##### In predicting Price of a property, 'availability' and 'society' are not THAT important factor in comparison to other features"
   ]
  },
  {
   "cell_type": "code",
   "execution_count": 14,
   "id": "a129d96d-b3c2-4e45-a4b4-eeb01b6e0d0d",
   "metadata": {},
   "outputs": [],
   "source": [
    "Data_frame_copy = Data_frame.copy()\n",
    "Data_frame.drop(['availability', 'society'], axis=1, inplace=True)"
   ]
  },
  {
   "cell_type": "markdown",
   "id": "8c22221b-d8ba-499b-b1ae-8bcc7b291d20",
   "metadata": {},
   "source": [
    "## <font color ='blue'>Handeling Missing Values / Data cleaning</font>\n",
    "##### Data is Missing in several columns as total rows/enteries are 13320 and in some features the count does not match"
   ]
  },
  {
   "cell_type": "code",
   "execution_count": 15,
   "id": "1f222cf5-67b3-4ad3-bc06-d58aa8d9cd77",
   "metadata": {},
   "outputs": [
    {
     "data": {
      "text/plain": [
       "area_type       0\n",
       "location        1\n",
       "size           16\n",
       "total_sqft      0\n",
       "bath           73\n",
       "balcony       609\n",
       "price           0\n",
       "dtype: int64"
      ]
     },
     "execution_count": 15,
     "metadata": {},
     "output_type": "execute_result"
    }
   ],
   "source": [
    "Data_frame.isnull().sum()"
   ]
  },
  {
   "cell_type": "markdown",
   "id": "055703be-efd9-46c7-9c3e-a86920161d68",
   "metadata": {},
   "source": [
    "#### Prob1 -> Droping and Replacing Missing Values \n",
    "##### 1, 16, 73 are negligible amount in front of 13320 enteries so we can drop, in the case of balcony -> 609 we might wanna replace them with either mean or median depending on outliers"
   ]
  },
  {
   "cell_type": "code",
   "execution_count": 16,
   "id": "0609d154-30bc-43ea-9ecc-c657af7906d5",
   "metadata": {},
   "outputs": [
    {
     "data": {
      "text/plain": [
       "(13246, 7)"
      ]
     },
     "execution_count": 16,
     "metadata": {},
     "output_type": "execute_result"
    }
   ],
   "source": [
    "# Droping Missing Values \n",
    "Data_frame.dropna(subset = ['location', 'size', 'bath'], inplace=True)\n",
    "Data_frame.shape"
   ]
  },
  {
   "cell_type": "code",
   "execution_count": 17,
   "id": "ef71cc42-fd4f-4758-80ef-5c331d463a78",
   "metadata": {},
   "outputs": [
    {
     "name": "stdout",
     "output_type": "stream",
     "text": [
      "<class 'pandas.core.frame.DataFrame'>\n",
      "Int64Index: 13246 entries, 0 to 13319\n",
      "Data columns (total 7 columns):\n",
      " #   Column      Non-Null Count  Dtype  \n",
      "---  ------      --------------  -----  \n",
      " 0   area_type   13246 non-null  object \n",
      " 1   location    13246 non-null  object \n",
      " 2   size        13246 non-null  object \n",
      " 3   total_sqft  13246 non-null  object \n",
      " 4   bath        13246 non-null  float64\n",
      " 5   balcony     12710 non-null  float64\n",
      " 6   price       13246 non-null  float64\n",
      "dtypes: float64(3), object(4)\n",
      "memory usage: 827.9+ KB\n"
     ]
    }
   ],
   "source": [
    "Data_frame.info()"
   ]
  },
  {
   "cell_type": "code",
   "execution_count": 18,
   "id": "2ce17fe7-bbdc-4636-9306-87b4c3bc07e8",
   "metadata": {},
   "outputs": [
    {
     "data": {
      "image/png": "[encoded data removed]",
      "text/plain": [
       "<Figure size 1440x720 with 1 Axes>"
      ]
     },
     "metadata": {
      "needs_background": "light"
     },
     "output_type": "display_data"
    }
   ],
   "source": [
    "#Replacing Missing Values\n",
    "sns.boxplot(x='balcony', data=Data_frame)\n",
    "plt.title(\"Balcony-BoxPlot\")\n",
    "plt.show()\n",
    "#Replacing the missing data with mean \n",
    "Data_frame['balcony'].replace(np.nan, Data_frame['balcony'].mean(), inplace=True)"
   ]
  },
  {
   "cell_type": "code",
   "execution_count": 19,
   "id": "ce091668-dda0-482b-8e16-07e89097de81",
   "metadata": {},
   "outputs": [
    {
     "data": {
      "text/plain": [
       "area_type     0\n",
       "location      0\n",
       "size          0\n",
       "total_sqft    0\n",
       "bath          0\n",
       "balcony       0\n",
       "price         0\n",
       "dtype: int64"
      ]
     },
     "execution_count": 19,
     "metadata": {},
     "output_type": "execute_result"
    }
   ],
   "source": [
    "Data_frame.isnull().sum()"
   ]
  },
  {
   "cell_type": "markdown",
   "id": "2b45b9f6-8794-4f70-840f-8d0f00f6aebd",
   "metadata": {},
   "source": [
    "#### Prob2 \n",
    "##### In size feature, some enteries are in the form of 2 BHK and some are in 2 bedrooms , Both are same so we can solve this by taking only the numeric value from the size feature"
   ]
  },
  {
   "cell_type": "code",
   "execution_count": 20,
   "id": "a59d4a14-7fae-4307-a612-6f8794177393",
   "metadata": {},
   "outputs": [
    {
     "data": {
      "text/html": [
       "<div>\n",
       "<style scoped>\n",
       "    .dataframe tbody tr th:only-of-type {\n",
       "        vertical-align: middle;\n",
       "    }\n",
       "\n",
       "    .dataframe tbody tr th {\n",
       "        vertical-align: top;\n",
       "    }\n",
       "\n",
       "    .dataframe thead th {\n",
       "        text-align: right;\n",
       "    }\n",
       "</style>\n",
       "<table border=\"1\" class=\"dataframe\">\n",
       "  <thead>\n",
       "    <tr style=\"text-align: right;\">\n",
       "      <th></th>\n",
       "      <th>area_type</th>\n",
       "      <th>location</th>\n",
       "      <th>total_sqft</th>\n",
       "      <th>bath</th>\n",
       "      <th>balcony</th>\n",
       "      <th>price</th>\n",
       "      <th>BHK</th>\n",
       "    </tr>\n",
       "  </thead>\n",
       "  <tbody>\n",
       "    <tr>\n",
       "      <th>0</th>\n",
       "      <td>Super built-up  Area</td>\n",
       "      <td>Electronic City Phase II</td>\n",
       "      <td>1056</td>\n",
       "      <td>2.00</td>\n",
       "      <td>1.00</td>\n",
       "      <td>39.07</td>\n",
       "      <td>2</td>\n",
       "    </tr>\n",
       "    <tr>\n",
       "      <th>1</th>\n",
       "      <td>Plot  Area</td>\n",
       "      <td>Chikka Tirupathi</td>\n",
       "      <td>2600</td>\n",
       "      <td>5.00</td>\n",
       "      <td>3.00</td>\n",
       "      <td>120.00</td>\n",
       "      <td>4</td>\n",
       "    </tr>\n",
       "    <tr>\n",
       "      <th>2</th>\n",
       "      <td>Built-up  Area</td>\n",
       "      <td>Uttarahalli</td>\n",
       "      <td>1440</td>\n",
       "      <td>2.00</td>\n",
       "      <td>3.00</td>\n",
       "      <td>62.00</td>\n",
       "      <td>3</td>\n",
       "    </tr>\n",
       "    <tr>\n",
       "      <th>3</th>\n",
       "      <td>Super built-up  Area</td>\n",
       "      <td>Lingadheeranahalli</td>\n",
       "      <td>1521</td>\n",
       "      <td>3.00</td>\n",
       "      <td>1.00</td>\n",
       "      <td>95.00</td>\n",
       "      <td>3</td>\n",
       "    </tr>\n",
       "    <tr>\n",
       "      <th>4</th>\n",
       "      <td>Super built-up  Area</td>\n",
       "      <td>Kothanur</td>\n",
       "      <td>1200</td>\n",
       "      <td>2.00</td>\n",
       "      <td>1.00</td>\n",
       "      <td>51.00</td>\n",
       "      <td>2</td>\n",
       "    </tr>\n",
       "  </tbody>\n",
       "</table>\n",
       "</div>"
      ],
      "text/plain": [
       "              area_type                  location total_sqft  bath  balcony  \\\n",
       "0  Super built-up  Area  Electronic City Phase II       1056  2.00     1.00   \n",
       "1            Plot  Area          Chikka Tirupathi       2600  5.00     3.00   \n",
       "2        Built-up  Area               Uttarahalli       1440  2.00     3.00   \n",
       "3  Super built-up  Area        Lingadheeranahalli       1521  3.00     1.00   \n",
       "4  Super built-up  Area                  Kothanur       1200  2.00     1.00   \n",
       "\n",
       "   price  BHK  \n",
       "0  39.07    2  \n",
       "1 120.00    4  \n",
       "2  62.00    3  \n",
       "3  95.00    3  \n",
       "4  51.00    2  "
      ]
     },
     "execution_count": 20,
     "metadata": {},
     "output_type": "execute_result"
    }
   ],
   "source": [
    "Data_frame['BHK'] = Data_frame['size'].apply(lambda x: int(x.split(' ')[0]))\n",
    "Data_frame.drop(['size'], axis=1, inplace=True)\n",
    "Data_frame.head()"
   ]
  },
  {
   "cell_type": "markdown",
   "id": "832eca6e-3b8a-4986-b010-d46e30fe14d9",
   "metadata": {},
   "source": [
    "#### Prob3 \n",
    "##### total_sqft should be float or numeric but here it is object [ because of dim1-dim2 input ] [and inputs like \n",
    "##### sq Yards, Grounds, etc..]\n",
    "##### The data is Not Structured\n",
    "#### Solution  \n",
    "##### so the best way would be to find an avg value of all dim1-dim2 input and replace it \n",
    "##### and convert the different types of meaurement to sqft\n",
    "##### while doing so,  all the values going in the total_sqft feature will make the data type of that feature -> float "
   ]
  },
  {
   "cell_type": "code",
   "execution_count": 21,
   "id": "23bada5c-f9f1-4ac9-89a5-757f3fb50f28",
   "metadata": {},
   "outputs": [
    {
     "name": "stdout",
     "output_type": "stream",
     "text": [
      "1200    843\n",
      "1100    221\n",
      "1500    204\n",
      "2400    195\n",
      "600     180\n",
      "       ... \n",
      "5985      1\n",
      "3580      1\n",
      "2461      1\n",
      "1437      1\n",
      "4689      1\n",
      "Name: total_sqft, Length: 2067, dtype: int64 \n",
      "\n",
      " ['1056' '2600' '1440' ... '1133 - 1384' '774' '4689']\n"
     ]
    }
   ],
   "source": [
    "print(f\"{Data_frame['total_sqft'].value_counts()} \\n\\n {Data_frame['total_sqft'].unique()}\")"
   ]
  },
  {
   "cell_type": "code",
   "execution_count": 22,
   "id": "f47b7fdb-b5bb-4ddd-b305-c89475617f70",
   "metadata": {},
   "outputs": [],
   "source": [
    "# We can convert these values to float but values with ranges will give us error so we can create a filter type function\n",
    "\n",
    "def is_float(x):\n",
    "    try:\n",
    "        float(x)\n",
    "    except:\n",
    "        return False\n",
    "    return True\n",
    "\n",
    "~Data_frame['total_sqft'].apply(is_float)\n",
    "Temp_df = Data_frame[~Data_frame['total_sqft'].apply(is_float)]\n"
   ]
  },
  {
   "cell_type": "code",
   "execution_count": 23,
   "id": "134a19ba-89f6-442d-b32e-c2251d623166",
   "metadata": {},
   "outputs": [
    {
     "data": {
      "text/plain": [
       "142.61Sq. Meter    2\n",
       "34.46Sq. Meter     1\n",
       "1Grounds           1\n",
       "24Guntha           1\n",
       "697Sq. Meter       1\n",
       "1500Cents          1\n",
       "132Sq. Yards       1\n",
       "2Acres             1\n",
       "1100Sq. Meter      1\n",
       "15Acres            1\n",
       "1.26Acres          1\n",
       "151.11Sq. Yards    1\n",
       "2940Sq. Yards      1\n",
       "84.53Sq. Meter     1\n",
       "45.06Sq. Meter     1\n",
       "1.25Acres          1\n",
       "86.72Sq. Meter     1\n",
       "38Guntha           1\n",
       "6Acres             1\n",
       "120Sq. Yards       1\n",
       "24Sq. Meter        1\n",
       "142.84Sq. Meter    1\n",
       "2.09Acres          1\n",
       "122Sq. Yards       1\n",
       "4125Perch          1\n",
       "117Sq. Yards       1\n",
       "1000Sq. Meter      1\n",
       "1100Sq. Yards      1\n",
       "5.31Acres          1\n",
       "30Acres            1\n",
       "716Sq. Meter       1\n",
       "1500Sq. Meter      1\n",
       "1574Sq. Yards      1\n",
       "361.33Sq. Yards    1\n",
       "3040Sq. Meter      1\n",
       "78.03Sq. Meter     1\n",
       "500Sq. Yards       1\n",
       "167Sq. Meter       1\n",
       "315Sq. Yards       1\n",
       "3Cents             1\n",
       "188.89Sq. Yards    1\n",
       "204Sq. Meter       1\n",
       "45Sq. Yards        1\n",
       "133.3Sq. Yards     1\n",
       "300Sq. Yards       1\n",
       "Name: total_sqft, dtype: int64"
      ]
     },
     "execution_count": 23,
     "metadata": {},
     "output_type": "execute_result"
    }
   ],
   "source": [
    "def check_abnormal(x):\n",
    "    if '-' in x:\n",
    "        return False\n",
    "    else:\n",
    "        return True\n",
    "\n",
    "Temp_df['total_sqft'][Temp_df['total_sqft'].apply(check_abnormal)].value_counts()"
   ]
  },
  {
   "cell_type": "code",
   "execution_count": 24,
   "id": "a105e78d-18a0-49fe-be0f-c8b7aaaf1173",
   "metadata": {},
   "outputs": [
    {
     "data": {
      "text/plain": [
       "45"
      ]
     },
     "execution_count": 24,
     "metadata": {},
     "output_type": "execute_result"
    }
   ],
   "source": [
    "len(Temp_df['total_sqft'][Temp_df['total_sqft'].apply(check_abnormal)].unique())"
   ]
  },
  {
   "cell_type": "markdown",
   "id": "f4ce71d7-0bd5-4189-ac75-728954f223e2",
   "metadata": {},
   "source": [
    "##### Sq.Meter, Perch, Sq.Yards, Acres, Cents, Guntha, Grounds.\n",
    "##### 1 Sq.Meter = 10.76 sqft\n",
    "##### 1 Perch = 272.25 sqft\n",
    "##### 1 Sq.Yard = 9 sqft\n",
    "##### 1 Acre = 43560.04 sqft\n",
    "##### 1 Cent = 435.56 sqft\n",
    "##### 1 Guntha = 1089 sqft\n",
    "##### 1 Ground = 2400.35 sqft"
   ]
  },
  {
   "cell_type": "code",
   "execution_count": 25,
   "id": "50872c8a-c1c8-40bd-a38a-40628a810fc7",
   "metadata": {},
   "outputs": [],
   "source": [
    "#Creating Function to Convert ranges to a single Value \n",
    "\n",
    "def abnormal_change(x):\n",
    "    if \"Sq. Meter\" in x:\n",
    "        num = x.split(\"S\")\n",
    "        result = float(num[0]) * 10.76\n",
    "        return result\n",
    "    if \"Perch\" in x:\n",
    "        num = x.split(\"P\")\n",
    "        result = float(num[0]) * 272.25\n",
    "        return result\n",
    "    if \"Sq. Yards\" in x:\n",
    "        num = x.split(\"S\")\n",
    "        result = float(num[0]) * 9.00\n",
    "        return result\n",
    "    if \"Acres\" in x:\n",
    "        num = x.split(\"A\")\n",
    "        result = float(num[0]) * 43560.04\n",
    "        return result\n",
    "    if \"Cents\" in x:\n",
    "        num = x.split(\"C\")\n",
    "        result = float(num[0]) * 435.56\n",
    "        return result\n",
    "    if \"Guntha\" in x:\n",
    "        num = x.split(\"G\")\n",
    "        result = float(num[0]) * 1089.00\n",
    "        return result\n",
    "    if \"Grounds\" in x:\n",
    "        num = x.split(\"G\")\n",
    "        result = float(num[0]) * 2400.35\n",
    "        return result\n",
    "\n",
    "def convert_range_to_num(x):\n",
    "    if '-' in x:\n",
    "        num = x.split('-')\n",
    "        result1 = (float(num[0]) + float(num[1]))/2\n",
    "    else:\n",
    "        bool_val = x.upper().isupper()\n",
    "        if bool_val == True:\n",
    "            result1 = abnormal_change(x)\n",
    "        else:\n",
    "            result1 = float(x)\n",
    "    return result1\n",
    "\n",
    "Data_frame['total_sqft'] = Data_frame['total_sqft'].apply(convert_range_to_num)"
   ]
  },
  {
   "cell_type": "code",
   "execution_count": 26,
   "id": "090e0af7-d9a5-405e-8d6b-1998a68ee288",
   "metadata": {},
   "outputs": [
    {
     "data": {
      "text/plain": [
       "area_type     0\n",
       "location      0\n",
       "total_sqft    0\n",
       "bath          0\n",
       "balcony       0\n",
       "price         0\n",
       "BHK           0\n",
       "dtype: int64"
      ]
     },
     "execution_count": 26,
     "metadata": {},
     "output_type": "execute_result"
    }
   ],
   "source": [
    "Data_frame.isnull().sum()"
   ]
  },
  {
   "cell_type": "code",
   "execution_count": 27,
   "id": "7d2ecd86-7ca5-4c2b-9832-ed73f346ac20",
   "metadata": {},
   "outputs": [
    {
     "name": "stdout",
     "output_type": "stream",
     "text": [
      "<class 'pandas.core.frame.DataFrame'>\n",
      "Int64Index: 13246 entries, 0 to 13319\n",
      "Data columns (total 7 columns):\n",
      " #   Column      Non-Null Count  Dtype  \n",
      "---  ------      --------------  -----  \n",
      " 0   area_type   13246 non-null  object \n",
      " 1   location    13246 non-null  object \n",
      " 2   total_sqft  13246 non-null  float64\n",
      " 3   bath        13246 non-null  float64\n",
      " 4   balcony     13246 non-null  float64\n",
      " 5   price       13246 non-null  float64\n",
      " 6   BHK         13246 non-null  int64  \n",
      "dtypes: float64(4), int64(1), object(2)\n",
      "memory usage: 827.9+ KB\n"
     ]
    }
   ],
   "source": [
    "Data_frame.info()"
   ]
  },
  {
   "cell_type": "code",
   "execution_count": 28,
   "id": "d5f6db40-887c-45b3-b15c-9482fcb5d47e",
   "metadata": {},
   "outputs": [
    {
     "data": {
      "text/plain": [
       "Index(['area_type', 'location', 'total_sqft', 'bathroom', 'balcony', 'price',\n",
       "       'BHK'],\n",
       "      dtype='object')"
      ]
     },
     "execution_count": 28,
     "metadata": {},
     "output_type": "execute_result"
    }
   ],
   "source": [
    "Data_frame.rename(columns = {'bath':'bathroom'}, inplace=True)\n",
    "Data_frame.columns"
   ]
  },
  {
   "cell_type": "code",
   "execution_count": 29,
   "id": "873f5afa-8384-45b2-a098-90871704545d",
   "metadata": {},
   "outputs": [
    {
     "data": {
      "text/html": [
       "<div>\n",
       "<style scoped>\n",
       "    .dataframe tbody tr th:only-of-type {\n",
       "        vertical-align: middle;\n",
       "    }\n",
       "\n",
       "    .dataframe tbody tr th {\n",
       "        vertical-align: top;\n",
       "    }\n",
       "\n",
       "    .dataframe thead th {\n",
       "        text-align: right;\n",
       "    }\n",
       "</style>\n",
       "<table border=\"1\" class=\"dataframe\">\n",
       "  <thead>\n",
       "    <tr style=\"text-align: right;\">\n",
       "      <th></th>\n",
       "      <th>area_type</th>\n",
       "      <th>location</th>\n",
       "      <th>total_sqft</th>\n",
       "      <th>bathroom</th>\n",
       "      <th>balcony</th>\n",
       "      <th>price</th>\n",
       "      <th>BHK</th>\n",
       "      <th>price_per_sqft</th>\n",
       "    </tr>\n",
       "  </thead>\n",
       "  <tbody>\n",
       "    <tr>\n",
       "      <th>0</th>\n",
       "      <td>Super built-up  Area</td>\n",
       "      <td>Electronic City Phase II</td>\n",
       "      <td>1056.00</td>\n",
       "      <td>2.00</td>\n",
       "      <td>1.00</td>\n",
       "      <td>39.07</td>\n",
       "      <td>2</td>\n",
       "      <td>3699.81</td>\n",
       "    </tr>\n",
       "    <tr>\n",
       "      <th>1</th>\n",
       "      <td>Plot  Area</td>\n",
       "      <td>Chikka Tirupathi</td>\n",
       "      <td>2600.00</td>\n",
       "      <td>5.00</td>\n",
       "      <td>3.00</td>\n",
       "      <td>120.00</td>\n",
       "      <td>4</td>\n",
       "      <td>4615.38</td>\n",
       "    </tr>\n",
       "    <tr>\n",
       "      <th>2</th>\n",
       "      <td>Built-up  Area</td>\n",
       "      <td>Uttarahalli</td>\n",
       "      <td>1440.00</td>\n",
       "      <td>2.00</td>\n",
       "      <td>3.00</td>\n",
       "      <td>62.00</td>\n",
       "      <td>3</td>\n",
       "      <td>4305.56</td>\n",
       "    </tr>\n",
       "    <tr>\n",
       "      <th>3</th>\n",
       "      <td>Super built-up  Area</td>\n",
       "      <td>Lingadheeranahalli</td>\n",
       "      <td>1521.00</td>\n",
       "      <td>3.00</td>\n",
       "      <td>1.00</td>\n",
       "      <td>95.00</td>\n",
       "      <td>3</td>\n",
       "      <td>6245.89</td>\n",
       "    </tr>\n",
       "    <tr>\n",
       "      <th>4</th>\n",
       "      <td>Super built-up  Area</td>\n",
       "      <td>Kothanur</td>\n",
       "      <td>1200.00</td>\n",
       "      <td>2.00</td>\n",
       "      <td>1.00</td>\n",
       "      <td>51.00</td>\n",
       "      <td>2</td>\n",
       "      <td>4250.00</td>\n",
       "    </tr>\n",
       "  </tbody>\n",
       "</table>\n",
       "</div>"
      ],
      "text/plain": [
       "              area_type                  location  total_sqft  bathroom  \\\n",
       "0  Super built-up  Area  Electronic City Phase II     1056.00      2.00   \n",
       "1            Plot  Area          Chikka Tirupathi     2600.00      5.00   \n",
       "2        Built-up  Area               Uttarahalli     1440.00      2.00   \n",
       "3  Super built-up  Area        Lingadheeranahalli     1521.00      3.00   \n",
       "4  Super built-up  Area                  Kothanur     1200.00      2.00   \n",
       "\n",
       "   balcony  price  BHK  price_per_sqft  \n",
       "0     1.00  39.07    2         3699.81  \n",
       "1     3.00 120.00    4         4615.38  \n",
       "2     3.00  62.00    3         4305.56  \n",
       "3     1.00  95.00    3         6245.89  \n",
       "4     1.00  51.00    2         4250.00  "
      ]
     },
     "execution_count": 29,
     "metadata": {},
     "output_type": "execute_result"
    }
   ],
   "source": [
    "# Adding a Column / Feature which is important for future use [outlier treatment ] + gives a proper insight of a property\n",
    "Data_frame['price_per_sqft'] = Data_frame['price']*100000 / Data_frame['total_sqft']\n",
    "Data_frame.head()"
   ]
  },
  {
   "cell_type": "markdown",
   "id": "94c914d8-d4af-442d-96a5-b57443ac5fdd",
   "metadata": {},
   "source": [
    "#### Now we have 2 Categorical values , They are required in encoding\n",
    "##### Label encoding causes error in order of Data - which we cannot solve [as it depends on natural order of alphabets]\n",
    "##### One-hot encoding can cause error in dimensions [increasing dimensions, known as dimensionality curse ]\n",
    "##### we can decrease them by replacing those enteries which have low count \n",
    "##### [as they will not be that significant in prediction] as others [Putting them in a general category]\n",
    "\n",
    "##### area_type will not cause any problems\n",
    "##### Have to check for location "
   ]
  },
  {
   "cell_type": "code",
   "execution_count": 30,
   "id": "39163401-d42b-4543-b1c9-c215b4ad5d32",
   "metadata": {},
   "outputs": [
    {
     "name": "stdout",
     "output_type": "stream",
     "text": [
      "1304\n"
     ]
    },
    {
     "data": {
      "text/plain": [
       "location\n",
       "Whitefield                     534\n",
       "Sarjapur  Road                 392\n",
       "Electronic City                302\n",
       "Kanakpura Road                 266\n",
       "Thanisandra                    233\n",
       "Yelahanka                      210\n",
       "Uttarahalli                    186\n",
       "Hebbal                         176\n",
       "Marathahalli                   175\n",
       "Raja Rajeshwari Nagar          171\n",
       "Bannerghatta Road              152\n",
       "Hennur Road                    150\n",
       "7th Phase JP Nagar             149\n",
       "Haralur Road                   141\n",
       "Electronic City Phase II       131\n",
       "Rajaji Nagar                   106\n",
       "Chandapura                      98\n",
       "Bellandur                       96\n",
       "KR Puram                        88\n",
       "Hoodi                           88\n",
       "Electronics City Phase 1        87\n",
       "Yeshwanthpur                    85\n",
       "Begur Road                      84\n",
       "Sarjapur                        81\n",
       "Kasavanhalli                    79\n",
       "Harlur                          79\n",
       "Banashankari                    74\n",
       "Hormavu                         74\n",
       "Ramamurthy Nagar                73\n",
       "Kengeri                         73\n",
       "Koramangala                     72\n",
       "Hosa Road                       72\n",
       "Old Madras Road                 70\n",
       "Varthur                         70\n",
       "Jakkur                          68\n",
       "JP Nagar                        67\n",
       "Kothanur                        66\n",
       "Kaggadasapura                   64\n",
       "Nagarbhavi                      63\n",
       "Akshaya Nagar                   62\n",
       "Thigalarapalya                  62\n",
       "TC Palaya                       60\n",
       "Malleshwaram                    57\n",
       "8th Phase JP Nagar              57\n",
       "Rachenahalli                    56\n",
       "Budigere                        54\n",
       "HSR Layout                      53\n",
       "Hennur                          52\n",
       "Hulimavu                        52\n",
       "Jigani                          52\n",
       "Jalahalli                       52\n",
       "Bisuvanahalli                   51\n",
       "Panathur                        51\n",
       "Ramagondanahalli                50\n",
       "Hegde Nagar                     49\n",
       "Gottigere                       48\n",
       "Bhoganhalli                     48\n",
       "Mysore Road                     48\n",
       "Brookefield                     47\n",
       "Kundalahalli                    47\n",
       "Hosur Road                      46\n",
       "Balagere                        45\n",
       "Indira Nagar                    44\n",
       "9th Phase JP Nagar              43\n",
       "Vidyaranyapura                  43\n",
       "Vittasandra                     43\n",
       "CV Raman Nagar                  43\n",
       "Subramanyapura                  43\n",
       "Attibele                        42\n",
       "Horamavu Agara                  42\n",
       "Kanakapura                      42\n",
       "Vijayanagar                     42\n",
       "Kadugodi                        42\n",
       "Yelahanka New Town              41\n",
       "Kengeri Satellite Town          40\n",
       "Talaghattapura                  40\n",
       "Devanahalli                     40\n",
       "Green Glen Layout               39\n",
       "5th Phase JP Nagar              39\n",
       "Sahakara Nagar                  39\n",
       "Channasandra                    38\n",
       "Kudlu Gate                      38\n",
       "Bommasandra                     37\n",
       "Frazer Town                     36\n",
       "Hosakerehalli                   36\n",
       "Lakshminarayana Pura            36\n",
       "R.T. Nagar                      36\n",
       "Anekal                          35\n",
       "Hebbal Kempapura                34\n",
       "Bommanahalli                    34\n",
       "Old Airport Road                33\n",
       "Tumkur Road                     33\n",
       "Kalena Agrahara                 33\n",
       "Mahadevpura                     31\n",
       "Basavangudi                     31\n",
       "Ambedkar Nagar                  31\n",
       "Doddathoguru                    30\n",
       "Kumaraswami Layout              30\n",
       "Ananth Nagar                    30\n",
       "Chikkalasandra                  30\n",
       "BTM 2nd Stage                   29\n",
       "Kudlu                           29\n",
       "Dodda Nekkundi                  29\n",
       "Kammasandra                     29\n",
       "Horamavu Banaswadi              28\n",
       "Somasundara Palya               28\n",
       "Padmanabhanagar                 28\n",
       "Anandapura                      27\n",
       "Singasandra                     27\n",
       "Ambalipura                      27\n",
       "Banashankari Stage III          27\n",
       "Kodichikkanahalli               27\n",
       "Kothannur                       26\n",
       "Choodasandra                    26\n",
       "Margondanahalli                 26\n",
       "Bommasandra Industrial Area     26\n",
       "Gubbalala                       26\n",
       "Iblur Village                   25\n",
       "Magadi Road                     25\n",
       "Babusapalaya                    25\n",
       "Kogilu                          25\n",
       "Seegehalli                      25\n",
       "1st Phase JP Nagar              25\n",
       "2nd Stage Nagarbhavi            24\n",
       "Ardendale                       24\n",
       "Amruthahalli                    24\n",
       "Abbigere                        24\n",
       "Kambipura                       24\n",
       "Munnekollal                     24\n",
       "Battarahalli                    24\n",
       "6th Phase JP Nagar              23\n",
       "EPIP Zone                       23\n",
       "Lingadheeranahalli              23\n",
       "Rayasandra                      22\n",
       "Kaval Byrasandra                22\n",
       "Thubarahalli                    22\n",
       "Domlur                          22\n",
       "Kathriguppe                     22\n",
       "Sonnenahalli                    22\n",
       "Gunjur                          22\n",
       "Hoskote                         21\n",
       "Ulsoor                          21\n",
       "Basaveshwara Nagar              21\n",
       "Binny Pete                      20\n",
       "HBR Layout                      20\n",
       "Poorna Pragna Layout            20\n",
       "Yelachenahalli                  20\n",
       "Sanjay nagar                    20\n",
       "Kaggalipura                     19\n",
       "Kalyan nagar                    19\n",
       "Pai Layout                      19\n",
       "OMBR Layout                     19\n",
       "HRBR Layout                     19\n",
       "Kannamangala                    18\n",
       "Billekahalli                    18\n",
       "Garudachar Palya                18\n",
       "Chikka Tirupathi                17\n",
       "BTM Layout                      17\n",
       "Kaikondrahalli                  17\n",
       "Bannerghatta                    17\n",
       "Dasarahalli                     17\n",
       "Sarjapura - Attibele Road       17\n",
       "Kammanahalli                    17\n",
       "Arekere                         17\n",
       "Malleshpalya                    17\n",
       "Nagavara                        17\n",
       "Sector 2 HSR Layout             16\n",
       "Begur                           16\n",
       "Judicial Layout                 16\n",
       "Parappana Agrahara              16\n",
       "Anjanapura                      16\n",
       "Kereguddadahalli                16\n",
       "Cooke Town                      16\n",
       "Mallasandra                     16\n",
       "Kenchenahalli                   16\n",
       "Dasanapura                      16\n",
       "Banashankari Stage II           16\n",
       "Banashankari Stage VI           16\n",
       "Kasturi Nagar                   16\n",
       "Banaswadi                       16\n",
       "Varthur Road                    15\n",
       "Chamrajpet                      15\n",
       "Nagavarapalya                   15\n",
       "Kodihalli                       15\n",
       "Benson Town                     15\n",
       "Sultan Palaya                   14\n",
       " Devarachikkanahalli            14\n",
       "Doddakallasandra                14\n",
       "Murugeshpalya                   14\n",
       "NGR Layout                      14\n",
       "Giri Nagar                      14\n",
       "1st Block Jayanagar             14\n",
       "NRI Layout                      14\n",
       "Jalahalli East                  14\n",
       "Sarakki Nagar                   14\n",
       "Rajiv Nagar                     13\n",
       "Shivaji Nagar                   13\n",
       "Chikkabanavar                   13\n",
       "Yelenahalli                     13\n",
       "Mahalakshmi Layout              13\n",
       "Name: location, dtype: int64"
      ]
     },
     "execution_count": 30,
     "metadata": {},
     "output_type": "execute_result"
    }
   ],
   "source": [
    "count_location = len(Data_frame['location'].unique())\n",
    "print(count_location)\n",
    "pd.set_option('display.max_rows', count_location)\n",
    "Location_data = Data_frame.groupby('location')['location'].agg('count').sort_values(ascending=False)\n",
    "Location_data.head(200)"
   ]
  },
  {
   "cell_type": "code",
   "execution_count": 31,
   "id": "f4a9dce9-ef98-4f6d-9351-a0b376dddeca",
   "metadata": {},
   "outputs": [
    {
     "data": {
      "text/plain": [
       "1124"
      ]
     },
     "execution_count": 31,
     "metadata": {},
     "output_type": "execute_result"
    }
   ],
   "source": [
    "filt = Location_data <= 15\n",
    "len(Location_data[filt])"
   ]
  },
  {
   "cell_type": "code",
   "execution_count": 32,
   "id": "1786d444-ceb1-4ae6-bb66-b7bea9d69817",
   "metadata": {},
   "outputs": [
    {
     "data": {
      "text/plain": [
       "location\n",
       "Varthur Road     15\n",
       "Chamrajpet       15\n",
       "Nagavarapalya    15\n",
       "Kodihalli        15\n",
       "Benson Town      15\n",
       "Name: location, dtype: int64"
      ]
     },
     "execution_count": 32,
     "metadata": {},
     "output_type": "execute_result"
    }
   ],
   "source": [
    "Location_data_less_than_15 = Location_data[filt]\n",
    "Location_data_less_than_15.head()"
   ]
  },
  {
   "cell_type": "code",
   "execution_count": 33,
   "id": "70f94121-26b5-4dbc-833a-275d6015233f",
   "metadata": {},
   "outputs": [
    {
     "data": {
      "text/plain": [
       "location\n",
       " Banaswadi             1\n",
       "Kanakadasa Layout      1\n",
       "Kanakapur main road    1\n",
       "Kanakapura  Rod        1\n",
       "whitefiled             1\n",
       "Name: location, dtype: int64"
      ]
     },
     "execution_count": 33,
     "metadata": {},
     "output_type": "execute_result"
    }
   ],
   "source": [
    "Location_data_less_than_15.tail()"
   ]
  },
  {
   "cell_type": "code",
   "execution_count": 34,
   "id": "4a6c9e6d-b3dd-492b-a26a-62dce0a66d8c",
   "metadata": {},
   "outputs": [
    {
     "name": "stdout",
     "output_type": "stream",
     "text": [
      "1304\n",
      "181\n"
     ]
    },
    {
     "data": {
      "text/html": [
       "<div>\n",
       "<style scoped>\n",
       "    .dataframe tbody tr th:only-of-type {\n",
       "        vertical-align: middle;\n",
       "    }\n",
       "\n",
       "    .dataframe tbody tr th {\n",
       "        vertical-align: top;\n",
       "    }\n",
       "\n",
       "    .dataframe thead th {\n",
       "        text-align: right;\n",
       "    }\n",
       "</style>\n",
       "<table border=\"1\" class=\"dataframe\">\n",
       "  <thead>\n",
       "    <tr style=\"text-align: right;\">\n",
       "      <th></th>\n",
       "      <th>area_type</th>\n",
       "      <th>location</th>\n",
       "      <th>total_sqft</th>\n",
       "      <th>bathroom</th>\n",
       "      <th>balcony</th>\n",
       "      <th>price</th>\n",
       "      <th>BHK</th>\n",
       "      <th>price_per_sqft</th>\n",
       "    </tr>\n",
       "  </thead>\n",
       "  <tbody>\n",
       "    <tr>\n",
       "      <th>0</th>\n",
       "      <td>Super built-up  Area</td>\n",
       "      <td>Electronic City Phase II</td>\n",
       "      <td>1056.00</td>\n",
       "      <td>2.00</td>\n",
       "      <td>1.00</td>\n",
       "      <td>39.07</td>\n",
       "      <td>2</td>\n",
       "      <td>3699.81</td>\n",
       "    </tr>\n",
       "    <tr>\n",
       "      <th>1</th>\n",
       "      <td>Plot  Area</td>\n",
       "      <td>Chikka Tirupathi</td>\n",
       "      <td>2600.00</td>\n",
       "      <td>5.00</td>\n",
       "      <td>3.00</td>\n",
       "      <td>120.00</td>\n",
       "      <td>4</td>\n",
       "      <td>4615.38</td>\n",
       "    </tr>\n",
       "    <tr>\n",
       "      <th>2</th>\n",
       "      <td>Built-up  Area</td>\n",
       "      <td>Uttarahalli</td>\n",
       "      <td>1440.00</td>\n",
       "      <td>2.00</td>\n",
       "      <td>3.00</td>\n",
       "      <td>62.00</td>\n",
       "      <td>3</td>\n",
       "      <td>4305.56</td>\n",
       "    </tr>\n",
       "    <tr>\n",
       "      <th>3</th>\n",
       "      <td>Super built-up  Area</td>\n",
       "      <td>Lingadheeranahalli</td>\n",
       "      <td>1521.00</td>\n",
       "      <td>3.00</td>\n",
       "      <td>1.00</td>\n",
       "      <td>95.00</td>\n",
       "      <td>3</td>\n",
       "      <td>6245.89</td>\n",
       "    </tr>\n",
       "    <tr>\n",
       "      <th>4</th>\n",
       "      <td>Super built-up  Area</td>\n",
       "      <td>Kothanur</td>\n",
       "      <td>1200.00</td>\n",
       "      <td>2.00</td>\n",
       "      <td>1.00</td>\n",
       "      <td>51.00</td>\n",
       "      <td>2</td>\n",
       "      <td>4250.00</td>\n",
       "    </tr>\n",
       "    <tr>\n",
       "      <th>5</th>\n",
       "      <td>Super built-up  Area</td>\n",
       "      <td>Whitefield</td>\n",
       "      <td>1170.00</td>\n",
       "      <td>2.00</td>\n",
       "      <td>1.00</td>\n",
       "      <td>38.00</td>\n",
       "      <td>2</td>\n",
       "      <td>3247.86</td>\n",
       "    </tr>\n",
       "    <tr>\n",
       "      <th>6</th>\n",
       "      <td>Super built-up  Area</td>\n",
       "      <td>Old Airport Road</td>\n",
       "      <td>2732.00</td>\n",
       "      <td>4.00</td>\n",
       "      <td>1.58</td>\n",
       "      <td>204.00</td>\n",
       "      <td>4</td>\n",
       "      <td>7467.06</td>\n",
       "    </tr>\n",
       "    <tr>\n",
       "      <th>7</th>\n",
       "      <td>Super built-up  Area</td>\n",
       "      <td>Rajaji Nagar</td>\n",
       "      <td>3300.00</td>\n",
       "      <td>4.00</td>\n",
       "      <td>1.58</td>\n",
       "      <td>600.00</td>\n",
       "      <td>4</td>\n",
       "      <td>18181.82</td>\n",
       "    </tr>\n",
       "    <tr>\n",
       "      <th>8</th>\n",
       "      <td>Super built-up  Area</td>\n",
       "      <td>Marathahalli</td>\n",
       "      <td>1310.00</td>\n",
       "      <td>3.00</td>\n",
       "      <td>1.00</td>\n",
       "      <td>63.25</td>\n",
       "      <td>3</td>\n",
       "      <td>4828.24</td>\n",
       "    </tr>\n",
       "    <tr>\n",
       "      <th>9</th>\n",
       "      <td>Plot  Area</td>\n",
       "      <td>Other</td>\n",
       "      <td>1020.00</td>\n",
       "      <td>6.00</td>\n",
       "      <td>1.58</td>\n",
       "      <td>370.00</td>\n",
       "      <td>6</td>\n",
       "      <td>36274.51</td>\n",
       "    </tr>\n",
       "  </tbody>\n",
       "</table>\n",
       "</div>"
      ],
      "text/plain": [
       "              area_type                  location  total_sqft  bathroom  \\\n",
       "0  Super built-up  Area  Electronic City Phase II     1056.00      2.00   \n",
       "1            Plot  Area          Chikka Tirupathi     2600.00      5.00   \n",
       "2        Built-up  Area               Uttarahalli     1440.00      2.00   \n",
       "3  Super built-up  Area        Lingadheeranahalli     1521.00      3.00   \n",
       "4  Super built-up  Area                  Kothanur     1200.00      2.00   \n",
       "5  Super built-up  Area                Whitefield     1170.00      2.00   \n",
       "6  Super built-up  Area          Old Airport Road     2732.00      4.00   \n",
       "7  Super built-up  Area              Rajaji Nagar     3300.00      4.00   \n",
       "8  Super built-up  Area              Marathahalli     1310.00      3.00   \n",
       "9            Plot  Area                     Other     1020.00      6.00   \n",
       "\n",
       "   balcony  price  BHK  price_per_sqft  \n",
       "0     1.00  39.07    2         3699.81  \n",
       "1     3.00 120.00    4         4615.38  \n",
       "2     3.00  62.00    3         4305.56  \n",
       "3     1.00  95.00    3         6245.89  \n",
       "4     1.00  51.00    2         4250.00  \n",
       "5     1.00  38.00    2         3247.86  \n",
       "6     1.58 204.00    4         7467.06  \n",
       "7     1.58 600.00    4        18181.82  \n",
       "8     1.00  63.25    3         4828.24  \n",
       "9     1.58 370.00    6        36274.51  "
      ]
     },
     "execution_count": 34,
     "metadata": {},
     "output_type": "execute_result"
    }
   ],
   "source": [
    "Data_frame['location'] = Data_frame['location'].apply(lambda x: 'Other' if x in Location_data_less_than_15 else x)\n",
    "print(count_location)\n",
    "count_location_dimen_red = len(Data_frame['location'].unique())\n",
    "print(count_location_dimen_red)\n",
    "Data_frame.head(10)"
   ]
  },
  {
   "cell_type": "markdown",
   "id": "6abab4e8-3047-464e-b101-a0d10f01ef89",
   "metadata": {},
   "source": [
    "# <font color ='blue'>Outlier Detection and Removal</font> \n",
    "\n",
    "##### Outliers are those data points those are way off from our main data set [ abnormal data points ]\n",
    "##### Now they can be of\n",
    "##### Type1->  Data points / numerical \n",
    "##### Type2 -> Domain error [ abnormality in the Domain Knowledge ] \n",
    "##### Type1 and Type2 are similar, Not that Different"
   ]
  },
  {
   "cell_type": "code",
   "execution_count": 35,
   "id": "80776be5-e1cc-4326-a4e1-c5bca537ff72",
   "metadata": {},
   "outputs": [
    {
     "data": {
      "text/html": [
       "<div>\n",
       "<style scoped>\n",
       "    .dataframe tbody tr th:only-of-type {\n",
       "        vertical-align: middle;\n",
       "    }\n",
       "\n",
       "    .dataframe tbody tr th {\n",
       "        vertical-align: top;\n",
       "    }\n",
       "\n",
       "    .dataframe thead th {\n",
       "        text-align: right;\n",
       "    }\n",
       "</style>\n",
       "<table border=\"1\" class=\"dataframe\">\n",
       "  <thead>\n",
       "    <tr style=\"text-align: right;\">\n",
       "      <th></th>\n",
       "      <th>total_sqft</th>\n",
       "      <th>bathroom</th>\n",
       "      <th>balcony</th>\n",
       "      <th>price</th>\n",
       "      <th>BHK</th>\n",
       "      <th>price_per_sqft</th>\n",
       "    </tr>\n",
       "  </thead>\n",
       "  <tbody>\n",
       "    <tr>\n",
       "      <th>0</th>\n",
       "      <td>1056.00</td>\n",
       "      <td>2.00</td>\n",
       "      <td>1.00</td>\n",
       "      <td>39.07</td>\n",
       "      <td>2</td>\n",
       "      <td>3699.81</td>\n",
       "    </tr>\n",
       "    <tr>\n",
       "      <th>1</th>\n",
       "      <td>2600.00</td>\n",
       "      <td>5.00</td>\n",
       "      <td>3.00</td>\n",
       "      <td>120.00</td>\n",
       "      <td>4</td>\n",
       "      <td>4615.38</td>\n",
       "    </tr>\n",
       "    <tr>\n",
       "      <th>2</th>\n",
       "      <td>1440.00</td>\n",
       "      <td>2.00</td>\n",
       "      <td>3.00</td>\n",
       "      <td>62.00</td>\n",
       "      <td>3</td>\n",
       "      <td>4305.56</td>\n",
       "    </tr>\n",
       "    <tr>\n",
       "      <th>3</th>\n",
       "      <td>1521.00</td>\n",
       "      <td>3.00</td>\n",
       "      <td>1.00</td>\n",
       "      <td>95.00</td>\n",
       "      <td>3</td>\n",
       "      <td>6245.89</td>\n",
       "    </tr>\n",
       "    <tr>\n",
       "      <th>4</th>\n",
       "      <td>1200.00</td>\n",
       "      <td>2.00</td>\n",
       "      <td>1.00</td>\n",
       "      <td>51.00</td>\n",
       "      <td>2</td>\n",
       "      <td>4250.00</td>\n",
       "    </tr>\n",
       "    <tr>\n",
       "      <th>5</th>\n",
       "      <td>1170.00</td>\n",
       "      <td>2.00</td>\n",
       "      <td>1.00</td>\n",
       "      <td>38.00</td>\n",
       "      <td>2</td>\n",
       "      <td>3247.86</td>\n",
       "    </tr>\n",
       "    <tr>\n",
       "      <th>6</th>\n",
       "      <td>2732.00</td>\n",
       "      <td>4.00</td>\n",
       "      <td>1.58</td>\n",
       "      <td>204.00</td>\n",
       "      <td>4</td>\n",
       "      <td>7467.06</td>\n",
       "    </tr>\n",
       "    <tr>\n",
       "      <th>7</th>\n",
       "      <td>3300.00</td>\n",
       "      <td>4.00</td>\n",
       "      <td>1.58</td>\n",
       "      <td>600.00</td>\n",
       "      <td>4</td>\n",
       "      <td>18181.82</td>\n",
       "    </tr>\n",
       "    <tr>\n",
       "      <th>8</th>\n",
       "      <td>1310.00</td>\n",
       "      <td>3.00</td>\n",
       "      <td>1.00</td>\n",
       "      <td>63.25</td>\n",
       "      <td>3</td>\n",
       "      <td>4828.24</td>\n",
       "    </tr>\n",
       "    <tr>\n",
       "      <th>9</th>\n",
       "      <td>1020.00</td>\n",
       "      <td>6.00</td>\n",
       "      <td>1.58</td>\n",
       "      <td>370.00</td>\n",
       "      <td>6</td>\n",
       "      <td>36274.51</td>\n",
       "    </tr>\n",
       "  </tbody>\n",
       "</table>\n",
       "</div>"
      ],
      "text/plain": [
       "   total_sqft  bathroom  balcony  price  BHK  price_per_sqft\n",
       "0     1056.00      2.00     1.00  39.07    2         3699.81\n",
       "1     2600.00      5.00     3.00 120.00    4         4615.38\n",
       "2     1440.00      2.00     3.00  62.00    3         4305.56\n",
       "3     1521.00      3.00     1.00  95.00    3         6245.89\n",
       "4     1200.00      2.00     1.00  51.00    2         4250.00\n",
       "5     1170.00      2.00     1.00  38.00    2         3247.86\n",
       "6     2732.00      4.00     1.58 204.00    4         7467.06\n",
       "7     3300.00      4.00     1.58 600.00    4        18181.82\n",
       "8     1310.00      3.00     1.00  63.25    3         4828.24\n",
       "9     1020.00      6.00     1.58 370.00    6        36274.51"
      ]
     },
     "execution_count": 35,
     "metadata": {},
     "output_type": "execute_result"
    }
   ],
   "source": [
    "Data_frame_numeric = Data_frame.select_dtypes(include=np.number)\n",
    "Data_frame_numeric.head(10)"
   ]
  },
  {
   "cell_type": "code",
   "execution_count": 36,
   "id": "f2148c2c-0b46-4c74-ac77-00da2f91d269",
   "metadata": {},
   "outputs": [
    {
     "data": {
      "text/html": [
       "<div>\n",
       "<style scoped>\n",
       "    .dataframe tbody tr th:only-of-type {\n",
       "        vertical-align: middle;\n",
       "    }\n",
       "\n",
       "    .dataframe tbody tr th {\n",
       "        vertical-align: top;\n",
       "    }\n",
       "\n",
       "    .dataframe thead th {\n",
       "        text-align: right;\n",
       "    }\n",
       "</style>\n",
       "<table border=\"1\" class=\"dataframe\">\n",
       "  <thead>\n",
       "    <tr style=\"text-align: right;\">\n",
       "      <th></th>\n",
       "      <th>area_type</th>\n",
       "      <th>location</th>\n",
       "      <th>total_sqft</th>\n",
       "      <th>bathroom</th>\n",
       "      <th>balcony</th>\n",
       "      <th>price</th>\n",
       "      <th>BHK</th>\n",
       "      <th>price_per_sqft</th>\n",
       "    </tr>\n",
       "  </thead>\n",
       "  <tbody>\n",
       "    <tr>\n",
       "      <th>0</th>\n",
       "      <td>Super built-up  Area</td>\n",
       "      <td>Electronic City Phase II</td>\n",
       "      <td>1056.00</td>\n",
       "      <td>2.00</td>\n",
       "      <td>1.00</td>\n",
       "      <td>39.07</td>\n",
       "      <td>2</td>\n",
       "      <td>3699.81</td>\n",
       "    </tr>\n",
       "    <tr>\n",
       "      <th>1</th>\n",
       "      <td>Plot  Area</td>\n",
       "      <td>Chikka Tirupathi</td>\n",
       "      <td>2600.00</td>\n",
       "      <td>5.00</td>\n",
       "      <td>3.00</td>\n",
       "      <td>120.00</td>\n",
       "      <td>4</td>\n",
       "      <td>4615.38</td>\n",
       "    </tr>\n",
       "    <tr>\n",
       "      <th>2</th>\n",
       "      <td>Built-up  Area</td>\n",
       "      <td>Uttarahalli</td>\n",
       "      <td>1440.00</td>\n",
       "      <td>2.00</td>\n",
       "      <td>3.00</td>\n",
       "      <td>62.00</td>\n",
       "      <td>3</td>\n",
       "      <td>4305.56</td>\n",
       "    </tr>\n",
       "    <tr>\n",
       "      <th>3</th>\n",
       "      <td>Super built-up  Area</td>\n",
       "      <td>Lingadheeranahalli</td>\n",
       "      <td>1521.00</td>\n",
       "      <td>3.00</td>\n",
       "      <td>1.00</td>\n",
       "      <td>95.00</td>\n",
       "      <td>3</td>\n",
       "      <td>6245.89</td>\n",
       "    </tr>\n",
       "    <tr>\n",
       "      <th>4</th>\n",
       "      <td>Super built-up  Area</td>\n",
       "      <td>Kothanur</td>\n",
       "      <td>1200.00</td>\n",
       "      <td>2.00</td>\n",
       "      <td>1.00</td>\n",
       "      <td>51.00</td>\n",
       "      <td>2</td>\n",
       "      <td>4250.00</td>\n",
       "    </tr>\n",
       "    <tr>\n",
       "      <th>5</th>\n",
       "      <td>Super built-up  Area</td>\n",
       "      <td>Whitefield</td>\n",
       "      <td>1170.00</td>\n",
       "      <td>2.00</td>\n",
       "      <td>1.00</td>\n",
       "      <td>38.00</td>\n",
       "      <td>2</td>\n",
       "      <td>3247.86</td>\n",
       "    </tr>\n",
       "    <tr>\n",
       "      <th>6</th>\n",
       "      <td>Super built-up  Area</td>\n",
       "      <td>Old Airport Road</td>\n",
       "      <td>2732.00</td>\n",
       "      <td>4.00</td>\n",
       "      <td>1.58</td>\n",
       "      <td>204.00</td>\n",
       "      <td>4</td>\n",
       "      <td>7467.06</td>\n",
       "    </tr>\n",
       "    <tr>\n",
       "      <th>7</th>\n",
       "      <td>Super built-up  Area</td>\n",
       "      <td>Rajaji Nagar</td>\n",
       "      <td>3300.00</td>\n",
       "      <td>4.00</td>\n",
       "      <td>1.58</td>\n",
       "      <td>600.00</td>\n",
       "      <td>4</td>\n",
       "      <td>18181.82</td>\n",
       "    </tr>\n",
       "    <tr>\n",
       "      <th>8</th>\n",
       "      <td>Super built-up  Area</td>\n",
       "      <td>Marathahalli</td>\n",
       "      <td>1310.00</td>\n",
       "      <td>3.00</td>\n",
       "      <td>1.00</td>\n",
       "      <td>63.25</td>\n",
       "      <td>3</td>\n",
       "      <td>4828.24</td>\n",
       "    </tr>\n",
       "    <tr>\n",
       "      <th>9</th>\n",
       "      <td>Plot  Area</td>\n",
       "      <td>Other</td>\n",
       "      <td>1020.00</td>\n",
       "      <td>6.00</td>\n",
       "      <td>1.58</td>\n",
       "      <td>370.00</td>\n",
       "      <td>6</td>\n",
       "      <td>36274.51</td>\n",
       "    </tr>\n",
       "  </tbody>\n",
       "</table>\n",
       "</div>"
      ],
      "text/plain": [
       "              area_type                  location  total_sqft  bathroom  \\\n",
       "0  Super built-up  Area  Electronic City Phase II     1056.00      2.00   \n",
       "1            Plot  Area          Chikka Tirupathi     2600.00      5.00   \n",
       "2        Built-up  Area               Uttarahalli     1440.00      2.00   \n",
       "3  Super built-up  Area        Lingadheeranahalli     1521.00      3.00   \n",
       "4  Super built-up  Area                  Kothanur     1200.00      2.00   \n",
       "5  Super built-up  Area                Whitefield     1170.00      2.00   \n",
       "6  Super built-up  Area          Old Airport Road     2732.00      4.00   \n",
       "7  Super built-up  Area              Rajaji Nagar     3300.00      4.00   \n",
       "8  Super built-up  Area              Marathahalli     1310.00      3.00   \n",
       "9            Plot  Area                     Other     1020.00      6.00   \n",
       "\n",
       "   balcony  price  BHK  price_per_sqft  \n",
       "0     1.00  39.07    2         3699.81  \n",
       "1     3.00 120.00    4         4615.38  \n",
       "2     3.00  62.00    3         4305.56  \n",
       "3     1.00  95.00    3         6245.89  \n",
       "4     1.00  51.00    2         4250.00  \n",
       "5     1.00  38.00    2         3247.86  \n",
       "6     1.58 204.00    4         7467.06  \n",
       "7     1.58 600.00    4        18181.82  \n",
       "8     1.00  63.25    3         4828.24  \n",
       "9     1.58 370.00    6        36274.51  "
      ]
     },
     "execution_count": 36,
     "metadata": {},
     "output_type": "execute_result"
    }
   ],
   "source": [
    "Data_frame.head(10)"
   ]
  },
  {
   "cell_type": "code",
   "execution_count": 37,
   "id": "e28997a0-8363-4421-b64e-231c86275353",
   "metadata": {},
   "outputs": [
    {
     "data": {
      "image/png": "[encoded data removed]",
      "text/plain": [
       "<Figure size 1440x720 with 1 Axes>"
      ]
     },
     "metadata": {
      "needs_background": "light"
     },
     "output_type": "display_data"
    },
    {
     "data": {
      "image/png": "[encoded data removed]",
      "text/plain": [
       "<Figure size 1440x720 with 1 Axes>"
      ]
     },
     "metadata": {
      "needs_background": "light"
     },
     "output_type": "display_data"
    },
    {
     "data": {
      "image/png": "[encoded data removed]",
      "text/plain": [
       "<Figure size 1440x720 with 1 Axes>"
      ]
     },
     "metadata": {
      "needs_background": "light"
     },
     "output_type": "display_data"
    },
    {
     "data": {
      "image/png": "[encoded data removed]",
      "text/plain": [
       "<Figure size 1440x720 with 1 Axes>"
      ]
     },
     "metadata": {
      "needs_background": "light"
     },
     "output_type": "display_data"
    },
    {
     "data": {
      "image/png": "[encoded data removed]",
      "text/plain": [
       "<Figure size 1440x720 with 1 Axes>"
      ]
     },
     "metadata": {
      "needs_background": "light"
     },
     "output_type": "display_data"
    },
    {
     "data": {
      "image/png": "[encoded data removed]",
      "text/plain": [
       "<Figure size 1440x720 with 1 Axes>"
      ]
     },
     "metadata": {
      "needs_background": "light"
     },
     "output_type": "display_data"
    }
   ],
   "source": [
    "for i in Data_frame_numeric.columns:\n",
    "    sns.boxplot(x=i, data=Data_frame_numeric)\n",
    "    plt.title(i)\n",
    "    plt.show()"
   ]
  },
  {
   "cell_type": "markdown",
   "id": "81b34b55-d975-45f5-b389-1b597c4d1ccb",
   "metadata": {},
   "source": [
    "#### Fixing Type 1 and Type 2 Outliers \n",
    "\n",
    "##### Problem in total_sqft, bathroom, price, BHK and price_per_sqft"
   ]
  },
  {
   "cell_type": "markdown",
   "id": "f8d41327-25f2-4a37-8f81-b573de33c277",
   "metadata": {},
   "source": [
    "#### total_sqft "
   ]
  },
  {
   "cell_type": "code",
   "execution_count": 38,
   "id": "317c2e2c-26f8-43a1-92c2-3ad106296280",
   "metadata": {},
   "outputs": [
    {
     "data": {
      "text/plain": [
       "count     13246.00\n",
       "mean       1909.25\n",
       "std       17324.68\n",
       "min           1.00\n",
       "25%        1100.00\n",
       "50%        1275.00\n",
       "75%        1678.75\n",
       "max     1306801.20\n",
       "Name: total_sqft, dtype: float64"
      ]
     },
     "execution_count": 38,
     "metadata": {},
     "output_type": "execute_result"
    }
   ],
   "source": [
    "Data_frame['total_sqft'].describe()"
   ]
  },
  {
   "cell_type": "markdown",
   "id": "f5b3fb44-17db-4f9a-aef0-7da5000b0dfc",
   "metadata": {},
   "source": [
    "##### Max total_sqft is really high, not in general range, Which again tells us about the presence of outliers "
   ]
  },
  {
   "cell_type": "code",
   "execution_count": 39,
   "id": "bbf09955-0895-4e5d-8000-e5db44c6e887",
   "metadata": {},
   "outputs": [
    {
     "data": {
      "image/png": "[encoded data removed]",
      "text/plain": [
       "<Figure size 1440x720 with 1 Axes>"
      ]
     },
     "metadata": {
      "needs_background": "light"
     },
     "output_type": "display_data"
    }
   ],
   "source": [
    "# total_sqft -> Treating outliers using Flooring and Capping\n",
    "sns.histplot(x='total_sqft', data=Data_frame)\n",
    "plt.xlim([0, 6000])\n",
    "plt.show()"
   ]
  },
  {
   "cell_type": "code",
   "execution_count": 40,
   "id": "78b96be3-a559-49ca-b2cf-23873ef40395",
   "metadata": {},
   "outputs": [
    {
     "data": {
      "image/png": "[encoded data removed]",
      "text/plain": [
       "<Figure size 1440x720 with 1 Axes>"
      ]
     },
     "metadata": {
      "needs_background": "light"
     },
     "output_type": "display_data"
    }
   ],
   "source": [
    "sns.boxplot(x='total_sqft', data=Data_frame)\n",
    "plt.show()"
   ]
  },
  {
   "cell_type": "code",
   "execution_count": 41,
   "id": "8cd40fb8-e0af-440a-9534-8fe833979a81",
   "metadata": {},
   "outputs": [],
   "source": [
    "# Applying Quantile Based Flooring and capping\n",
    "lower_bound = Data_frame['total_sqft'].quantile(0.10)\n",
    "upper_bound = Data_frame['total_sqft'].quantile(0.90)\n",
    "Data_frame['total_sqft'] = np.where(Data_frame['total_sqft'] < lower_bound, lower_bound, Data_frame['total_sqft'])\n",
    "Data_frame['total_sqft'] = np.where(Data_frame['total_sqft'] > upper_bound, upper_bound, Data_frame['total_sqft'])"
   ]
  },
  {
   "cell_type": "code",
   "execution_count": 42,
   "id": "8254cbbd-eeaf-48e3-9789-5d56cdad6aea",
   "metadata": {},
   "outputs": [
    {
     "data": {
      "image/png": "[encoded data removed]",
      "text/plain": [
       "<Figure size 1440x720 with 1 Axes>"
      ]
     },
     "metadata": {
      "needs_background": "light"
     },
     "output_type": "display_data"
    }
   ],
   "source": [
    "sns.boxplot(x='total_sqft', data=Data_frame)\n",
    "plt.show()"
   ]
  },
  {
   "cell_type": "code",
   "execution_count": 43,
   "id": "2facd40c-c6ee-4863-93be-be0bc1e35f08",
   "metadata": {},
   "outputs": [
    {
     "data": {
      "image/png": "[encoded data removed]",
      "text/plain": [
       "<Figure size 1440x720 with 1 Axes>"
      ]
     },
     "metadata": {
      "needs_background": "light"
     },
     "output_type": "display_data"
    }
   ],
   "source": [
    "sns.histplot(x='total_sqft', data=Data_frame)\n",
    "plt.xlim([0, 6000])\n",
    "plt.show()"
   ]
  },
  {
   "cell_type": "code",
   "execution_count": 44,
   "id": "1c006ed6-5772-4635-84bd-753c84d80a3a",
   "metadata": {},
   "outputs": [
    {
     "data": {
      "text/plain": [
       "count   13246.00\n",
       "mean     1438.32\n",
       "std       467.92\n",
       "min       900.00\n",
       "25%      1100.00\n",
       "50%      1275.00\n",
       "75%      1678.75\n",
       "max      2408.50\n",
       "Name: total_sqft, dtype: float64"
      ]
     },
     "execution_count": 44,
     "metadata": {},
     "output_type": "execute_result"
    }
   ],
   "source": [
    "Data_frame['total_sqft'].describe()"
   ]
  },
  {
   "cell_type": "markdown",
   "id": "0ee63d71-5f6c-422b-a8a8-56652ea27d75",
   "metadata": {},
   "source": [
    "#### bathroom"
   ]
  },
  {
   "cell_type": "code",
   "execution_count": 45,
   "id": "db53c3e2-522a-48ee-b064-86c5dae149c3",
   "metadata": {},
   "outputs": [
    {
     "data": {
      "text/plain": [
       "count   13246.00\n",
       "mean        2.69\n",
       "std         1.34\n",
       "min         1.00\n",
       "25%         2.00\n",
       "50%         2.00\n",
       "75%         3.00\n",
       "max        40.00\n",
       "Name: bathroom, dtype: float64"
      ]
     },
     "execution_count": 45,
     "metadata": {},
     "output_type": "execute_result"
    }
   ],
   "source": [
    "Data_frame['bathroom'].describe()"
   ]
  },
  {
   "cell_type": "markdown",
   "id": "de7743b2-cb65-48da-95fb-f5f9931bfd9d",
   "metadata": {},
   "source": [
    "##### 40 bathrooms seems a lot for any general case, again it tells us about the presence of outliers "
   ]
  },
  {
   "cell_type": "code",
   "execution_count": 46,
   "id": "a84622ba-f5af-4357-aaf2-e449c6c4fb1b",
   "metadata": {},
   "outputs": [],
   "source": [
    "# Bathroom - small quanitites of Outliers so Replace them with median \n",
    "median = Data_frame['bathroom'].quantile(0.50)\n",
    "upper_out = Data_frame['bathroom'].quantile(0.95)\n",
    "Data_frame['bathroom'] = np.where(Data_frame['bathroom'] > upper_out, median, Data_frame['bathroom'])"
   ]
  },
  {
   "cell_type": "code",
   "execution_count": 47,
   "id": "bc26af63-c04f-40b9-960c-1bf02b843a7f",
   "metadata": {},
   "outputs": [
    {
     "data": {
      "image/png": "[encoded data removed]",
      "text/plain": [
       "<Figure size 1440x720 with 1 Axes>"
      ]
     },
     "metadata": {
      "needs_background": "light"
     },
     "output_type": "display_data"
    }
   ],
   "source": [
    "sns.boxplot(x='bathroom', data=Data_frame)\n",
    "plt.show()"
   ]
  },
  {
   "cell_type": "code",
   "execution_count": 48,
   "id": "ecf52af1-4456-4484-8afe-33097e7978e2",
   "metadata": {},
   "outputs": [
    {
     "data": {
      "image/png": "[encoded data removed]",
      "text/plain": [
       "<Figure size 1440x720 with 1 Axes>"
      ]
     },
     "metadata": {
      "needs_background": "light"
     },
     "output_type": "display_data"
    }
   ],
   "source": [
    "plt.hist(Data_frame['bathroom'])\n",
    "plt.xlabel(\"Number of Bathrooms\")\n",
    "plt.ylabel(\"Count\")\n",
    "plt.show()"
   ]
  },
  {
   "cell_type": "code",
   "execution_count": 49,
   "id": "def22797-e709-4774-9061-d9921145d9ab",
   "metadata": {},
   "outputs": [
    {
     "data": {
      "text/plain": [
       "count   13246.00\n",
       "mean        2.49\n",
       "std         0.89\n",
       "min         1.00\n",
       "25%         2.00\n",
       "50%         2.00\n",
       "75%         3.00\n",
       "max         5.00\n",
       "Name: bathroom, dtype: float64"
      ]
     },
     "execution_count": 49,
     "metadata": {},
     "output_type": "execute_result"
    }
   ],
   "source": [
    "Data_frame['bathroom'].describe()"
   ]
  },
  {
   "cell_type": "markdown",
   "id": "df338bbc-21f9-4c22-a159-50139992fd99",
   "metadata": {},
   "source": [
    "#### price"
   ]
  },
  {
   "cell_type": "code",
   "execution_count": 50,
   "id": "77ae84a6-69f8-49b3-98f7-88b1a0865e13",
   "metadata": {},
   "outputs": [
    {
     "data": {
      "text/plain": [
       "count   13246.00\n",
       "mean      112.39\n",
       "std       149.08\n",
       "min         8.00\n",
       "25%        50.00\n",
       "50%        72.00\n",
       "75%       120.00\n",
       "max      3600.00\n",
       "Name: price, dtype: float64"
      ]
     },
     "execution_count": 50,
     "metadata": {},
     "output_type": "execute_result"
    }
   ],
   "source": [
    "Data_frame['price'].describe()"
   ]
  },
  {
   "cell_type": "code",
   "execution_count": 51,
   "id": "0722fde1-9792-4c7a-bed3-606ec03aa893",
   "metadata": {},
   "outputs": [
    {
     "data": {
      "image/png": "[encoded data removed]",
      "text/plain": [
       "<Figure size 1440x720 with 1 Axes>"
      ]
     },
     "metadata": {
      "needs_background": "light"
     },
     "output_type": "display_data"
    }
   ],
   "source": [
    "# price -> Treating outliers using Flooring and Capping\n",
    "sns.histplot(x='price', data=Data_frame)\n",
    "plt.xlim([0, 2000])\n",
    "plt.show()"
   ]
  },
  {
   "cell_type": "code",
   "execution_count": 52,
   "id": "7b9c91be-a7a5-438c-9d40-d84f0566e6e0",
   "metadata": {},
   "outputs": [],
   "source": [
    "# Applying Quantile Based Flooring and capping\n",
    "lower_bound = Data_frame['price'].quantile(0.10)\n",
    "upper_bound = Data_frame['price'].quantile(0.90)\n",
    "Data_frame['price'] = np.where(Data_frame['price'] < lower_bound, lower_bound, Data_frame['price'])\n",
    "Data_frame['price'] = np.where(Data_frame['price'] > upper_bound, upper_bound, Data_frame['price'])"
   ]
  },
  {
   "cell_type": "code",
   "execution_count": 53,
   "id": "034386be-f693-4336-b77f-40288680f87a",
   "metadata": {},
   "outputs": [
    {
     "data": {
      "image/png": "[encoded data removed]",
      "text/plain": [
       "<Figure size 1440x720 with 1 Axes>"
      ]
     },
     "metadata": {
      "needs_background": "light"
     },
     "output_type": "display_data"
    }
   ],
   "source": [
    "sns.boxplot(x='price', data=Data_frame)\n",
    "plt.show()"
   ]
  },
  {
   "cell_type": "code",
   "execution_count": 54,
   "id": "0e815e1b-2573-4908-ab00-5cff35139a76",
   "metadata": {},
   "outputs": [
    {
     "data": {
      "image/png": "[encoded data removed]",
      "text/plain": [
       "<Figure size 1440x720 with 1 Axes>"
      ]
     },
     "metadata": {
      "needs_background": "light"
     },
     "output_type": "display_data"
    }
   ],
   "source": [
    "sns.histplot(x='price', data=Data_frame)\n",
    "plt.xlim([0, 2000])\n",
    "plt.show()"
   ]
  },
  {
   "cell_type": "code",
   "execution_count": 55,
   "id": "7e76f3fc-6654-42f1-aa7c-1cb67a4c543f",
   "metadata": {},
   "outputs": [
    {
     "data": {
      "text/plain": [
       "count   13246.00\n",
       "mean       93.54\n",
       "std        57.59\n",
       "min        38.00\n",
       "25%        50.00\n",
       "50%        72.00\n",
       "75%       120.00\n",
       "max       220.00\n",
       "Name: price, dtype: float64"
      ]
     },
     "execution_count": 55,
     "metadata": {},
     "output_type": "execute_result"
    }
   ],
   "source": [
    "Data_frame['price'].describe()"
   ]
  },
  {
   "cell_type": "markdown",
   "id": "29636121-5e27-420c-91b5-1a8f2b8c3b27",
   "metadata": {},
   "source": [
    "#### BHK"
   ]
  },
  {
   "cell_type": "code",
   "execution_count": 56,
   "id": "08e65e60-a932-4d7f-9905-870152c9bbe5",
   "metadata": {},
   "outputs": [
    {
     "data": {
      "text/plain": [
       "count   13246.00\n",
       "mean        2.80\n",
       "std         1.30\n",
       "min         1.00\n",
       "25%         2.00\n",
       "50%         3.00\n",
       "75%         3.00\n",
       "max        43.00\n",
       "Name: BHK, dtype: float64"
      ]
     },
     "execution_count": 56,
     "metadata": {},
     "output_type": "execute_result"
    }
   ],
   "source": [
    "Data_frame['BHK'].describe()"
   ]
  },
  {
   "cell_type": "markdown",
   "id": "6ab5d7f7-9e80-4604-85b6-a608b7104753",
   "metadata": {},
   "source": [
    "##### 43 bedrooms for a house/real estate property is a lot for any general case, again tells us about the presence of outliers"
   ]
  },
  {
   "cell_type": "code",
   "execution_count": 57,
   "id": "f121debd-3e15-4a0c-b029-51fd430d36ed",
   "metadata": {},
   "outputs": [
    {
     "data": {
      "image/png": "[encoded data removed]",
      "text/plain": [
       "<Figure size 1440x720 with 1 Axes>"
      ]
     },
     "metadata": {
      "needs_background": "light"
     },
     "output_type": "display_data"
    }
   ],
   "source": [
    "plt.hist(Data_frame['BHK'])\n",
    "plt.xlabel(\"Number of Bedrooms\")\n",
    "plt.ylabel(\"Count\")\n",
    "plt.show()"
   ]
  },
  {
   "cell_type": "code",
   "execution_count": 58,
   "id": "9c3c62a3-de07-44b5-8e5a-440c5d49a618",
   "metadata": {},
   "outputs": [],
   "source": [
    "# BHK - small quanitites of Outliers so Replace them with median \n",
    "median = Data_frame['BHK'].quantile(0.50)\n",
    "upper_out = Data_frame['BHK'].quantile(0.98)\n",
    "Data_frame['BHK'] = np.where(Data_frame['BHK'] > upper_out, median, Data_frame['BHK'])"
   ]
  },
  {
   "cell_type": "code",
   "execution_count": 59,
   "id": "47f37bbc-c79c-4585-9310-b9883b86cd01",
   "metadata": {},
   "outputs": [
    {
     "data": {
      "image/png": "[encoded data removed]",
      "text/plain": [
       "<Figure size 1440x720 with 1 Axes>"
      ]
     },
     "metadata": {
      "needs_background": "light"
     },
     "output_type": "display_data"
    }
   ],
   "source": [
    "sns.boxplot(x='BHK', data=Data_frame)\n",
    "plt.show()"
   ]
  },
  {
   "cell_type": "code",
   "execution_count": 60,
   "id": "31649078-bed3-40db-9aba-c97eebc5389a",
   "metadata": {},
   "outputs": [
    {
     "data": {
      "image/png": "[encoded data removed]",
      "text/plain": [
       "<Figure size 1440x720 with 1 Axes>"
      ]
     },
     "metadata": {
      "needs_background": "light"
     },
     "output_type": "display_data"
    }
   ],
   "source": [
    "plt.hist(Data_frame['BHK'])\n",
    "plt.xlabel(\"Number of Bedrooms\")\n",
    "plt.ylabel(\"Count\")\n",
    "plt.show()"
   ]
  },
  {
   "cell_type": "code",
   "execution_count": 61,
   "id": "c5505ad0-c80b-4cdd-9a95-aca34fc74c25",
   "metadata": {},
   "outputs": [
    {
     "data": {
      "text/plain": [
       "count   13246.00\n",
       "mean        2.72\n",
       "std         1.01\n",
       "min         1.00\n",
       "25%         2.00\n",
       "50%         3.00\n",
       "75%         3.00\n",
       "max         7.00\n",
       "Name: BHK, dtype: float64"
      ]
     },
     "execution_count": 61,
     "metadata": {},
     "output_type": "execute_result"
    }
   ],
   "source": [
    "Data_frame['BHK'].describe()"
   ]
  },
  {
   "cell_type": "code",
   "execution_count": 62,
   "id": "c6b2d535-df08-4584-bb4b-36db5f8d10c6",
   "metadata": {},
   "outputs": [
    {
     "data": {
      "text/html": [
       "<div>\n",
       "<style scoped>\n",
       "    .dataframe tbody tr th:only-of-type {\n",
       "        vertical-align: middle;\n",
       "    }\n",
       "\n",
       "    .dataframe tbody tr th {\n",
       "        vertical-align: top;\n",
       "    }\n",
       "\n",
       "    .dataframe thead th {\n",
       "        text-align: right;\n",
       "    }\n",
       "</style>\n",
       "<table border=\"1\" class=\"dataframe\">\n",
       "  <thead>\n",
       "    <tr style=\"text-align: right;\">\n",
       "      <th></th>\n",
       "      <th>area_type</th>\n",
       "      <th>location</th>\n",
       "      <th>total_sqft</th>\n",
       "      <th>bathroom</th>\n",
       "      <th>balcony</th>\n",
       "      <th>price</th>\n",
       "      <th>BHK</th>\n",
       "      <th>price_per_sqft</th>\n",
       "    </tr>\n",
       "  </thead>\n",
       "  <tbody>\n",
       "    <tr>\n",
       "      <th>0</th>\n",
       "      <td>Super built-up  Area</td>\n",
       "      <td>Electronic City Phase II</td>\n",
       "      <td>1056.00</td>\n",
       "      <td>2.00</td>\n",
       "      <td>1.00</td>\n",
       "      <td>39.07</td>\n",
       "      <td>2.00</td>\n",
       "      <td>3699.81</td>\n",
       "    </tr>\n",
       "    <tr>\n",
       "      <th>1</th>\n",
       "      <td>Plot  Area</td>\n",
       "      <td>Chikka Tirupathi</td>\n",
       "      <td>2408.50</td>\n",
       "      <td>5.00</td>\n",
       "      <td>3.00</td>\n",
       "      <td>120.00</td>\n",
       "      <td>4.00</td>\n",
       "      <td>4615.38</td>\n",
       "    </tr>\n",
       "    <tr>\n",
       "      <th>2</th>\n",
       "      <td>Built-up  Area</td>\n",
       "      <td>Uttarahalli</td>\n",
       "      <td>1440.00</td>\n",
       "      <td>2.00</td>\n",
       "      <td>3.00</td>\n",
       "      <td>62.00</td>\n",
       "      <td>3.00</td>\n",
       "      <td>4305.56</td>\n",
       "    </tr>\n",
       "    <tr>\n",
       "      <th>3</th>\n",
       "      <td>Super built-up  Area</td>\n",
       "      <td>Lingadheeranahalli</td>\n",
       "      <td>1521.00</td>\n",
       "      <td>3.00</td>\n",
       "      <td>1.00</td>\n",
       "      <td>95.00</td>\n",
       "      <td>3.00</td>\n",
       "      <td>6245.89</td>\n",
       "    </tr>\n",
       "    <tr>\n",
       "      <th>4</th>\n",
       "      <td>Super built-up  Area</td>\n",
       "      <td>Kothanur</td>\n",
       "      <td>1200.00</td>\n",
       "      <td>2.00</td>\n",
       "      <td>1.00</td>\n",
       "      <td>51.00</td>\n",
       "      <td>2.00</td>\n",
       "      <td>4250.00</td>\n",
       "    </tr>\n",
       "    <tr>\n",
       "      <th>5</th>\n",
       "      <td>Super built-up  Area</td>\n",
       "      <td>Whitefield</td>\n",
       "      <td>1170.00</td>\n",
       "      <td>2.00</td>\n",
       "      <td>1.00</td>\n",
       "      <td>38.00</td>\n",
       "      <td>2.00</td>\n",
       "      <td>3247.86</td>\n",
       "    </tr>\n",
       "    <tr>\n",
       "      <th>6</th>\n",
       "      <td>Super built-up  Area</td>\n",
       "      <td>Old Airport Road</td>\n",
       "      <td>2408.50</td>\n",
       "      <td>4.00</td>\n",
       "      <td>1.58</td>\n",
       "      <td>204.00</td>\n",
       "      <td>4.00</td>\n",
       "      <td>7467.06</td>\n",
       "    </tr>\n",
       "    <tr>\n",
       "      <th>7</th>\n",
       "      <td>Super built-up  Area</td>\n",
       "      <td>Rajaji Nagar</td>\n",
       "      <td>2408.50</td>\n",
       "      <td>4.00</td>\n",
       "      <td>1.58</td>\n",
       "      <td>220.00</td>\n",
       "      <td>4.00</td>\n",
       "      <td>18181.82</td>\n",
       "    </tr>\n",
       "    <tr>\n",
       "      <th>8</th>\n",
       "      <td>Super built-up  Area</td>\n",
       "      <td>Marathahalli</td>\n",
       "      <td>1310.00</td>\n",
       "      <td>3.00</td>\n",
       "      <td>1.00</td>\n",
       "      <td>63.25</td>\n",
       "      <td>3.00</td>\n",
       "      <td>4828.24</td>\n",
       "    </tr>\n",
       "    <tr>\n",
       "      <th>9</th>\n",
       "      <td>Plot  Area</td>\n",
       "      <td>Other</td>\n",
       "      <td>1020.00</td>\n",
       "      <td>2.00</td>\n",
       "      <td>1.58</td>\n",
       "      <td>220.00</td>\n",
       "      <td>6.00</td>\n",
       "      <td>36274.51</td>\n",
       "    </tr>\n",
       "  </tbody>\n",
       "</table>\n",
       "</div>"
      ],
      "text/plain": [
       "              area_type                  location  total_sqft  bathroom  \\\n",
       "0  Super built-up  Area  Electronic City Phase II     1056.00      2.00   \n",
       "1            Plot  Area          Chikka Tirupathi     2408.50      5.00   \n",
       "2        Built-up  Area               Uttarahalli     1440.00      2.00   \n",
       "3  Super built-up  Area        Lingadheeranahalli     1521.00      3.00   \n",
       "4  Super built-up  Area                  Kothanur     1200.00      2.00   \n",
       "5  Super built-up  Area                Whitefield     1170.00      2.00   \n",
       "6  Super built-up  Area          Old Airport Road     2408.50      4.00   \n",
       "7  Super built-up  Area              Rajaji Nagar     2408.50      4.00   \n",
       "8  Super built-up  Area              Marathahalli     1310.00      3.00   \n",
       "9            Plot  Area                     Other     1020.00      2.00   \n",
       "\n",
       "   balcony  price  BHK  price_per_sqft  \n",
       "0     1.00  39.07 2.00         3699.81  \n",
       "1     3.00 120.00 4.00         4615.38  \n",
       "2     3.00  62.00 3.00         4305.56  \n",
       "3     1.00  95.00 3.00         6245.89  \n",
       "4     1.00  51.00 2.00         4250.00  \n",
       "5     1.00  38.00 2.00         3247.86  \n",
       "6     1.58 204.00 4.00         7467.06  \n",
       "7     1.58 220.00 4.00        18181.82  \n",
       "8     1.00  63.25 3.00         4828.24  \n",
       "9     1.58 220.00 6.00        36274.51  "
      ]
     },
     "execution_count": 62,
     "metadata": {},
     "output_type": "execute_result"
    }
   ],
   "source": [
    "Data_frame.head(10)"
   ]
  },
  {
   "cell_type": "markdown",
   "id": "0608e9b7-bbe6-423e-a634-cd57bd337da5",
   "metadata": {},
   "source": [
    "#### Type2\n",
    "##### In a General Real Esate Property / House, the number of Bathrooms depends on number of Bedrooms [BHK]. The equations in general is \n",
    "##### total Bathroom <= BHK + 1 [1 - extra for Guest]\n",
    "##### It is unusual to have 2 more bathrooms than number of bedrooms in a home"
   ]
  },
  {
   "cell_type": "code",
   "execution_count": 63,
   "id": "2de2e69f-d775-487c-a1f1-1cbc949fc8fe",
   "metadata": {},
   "outputs": [
    {
     "data": {
      "text/plain": [
       "(44, 8)"
      ]
     },
     "execution_count": 63,
     "metadata": {},
     "output_type": "execute_result"
    }
   ],
   "source": [
    "Data_frame[~(Data_frame['bathroom'] < (Data_frame['BHK'] + 2))].shape"
   ]
  },
  {
   "cell_type": "code",
   "execution_count": 64,
   "id": "6ff363be-90e6-4691-b569-ce03e2df2dc6",
   "metadata": {},
   "outputs": [
    {
     "data": {
      "text/plain": [
       "(13202, 8)"
      ]
     },
     "execution_count": 64,
     "metadata": {},
     "output_type": "execute_result"
    }
   ],
   "source": [
    "Data_frame[(Data_frame['bathroom'] < (Data_frame['BHK'] + 2))].shape"
   ]
  },
  {
   "cell_type": "code",
   "execution_count": 65,
   "id": "2722dbd3-5a20-4f2f-8d87-a64b805e19a0",
   "metadata": {},
   "outputs": [
    {
     "data": {
      "text/plain": [
       "(13246, 8)"
      ]
     },
     "execution_count": 65,
     "metadata": {},
     "output_type": "execute_result"
    }
   ],
   "source": [
    "Data_frame.shape"
   ]
  },
  {
   "cell_type": "code",
   "execution_count": 66,
   "id": "b5fab8cf-a04c-4098-81f1-9c9fc3c884c7",
   "metadata": {},
   "outputs": [
    {
     "data": {
      "text/plain": [
       "(13202, 8)"
      ]
     },
     "execution_count": 66,
     "metadata": {},
     "output_type": "execute_result"
    }
   ],
   "source": [
    "Data_frame = Data_frame[(Data_frame['bathroom'] < (Data_frame['BHK'] + 2))]\n",
    "Data_frame.shape"
   ]
  },
  {
   "cell_type": "code",
   "execution_count": 67,
   "id": "f48f04cc-a55f-4f29-9ab7-0785e918c01f",
   "metadata": {},
   "outputs": [],
   "source": [
    "Data_frame['balcony'] = Data_frame['balcony'].astype('int')"
   ]
  },
  {
   "cell_type": "code",
   "execution_count": 68,
   "id": "92d15f25-5fbb-48f9-af6c-10f565856bae",
   "metadata": {},
   "outputs": [
    {
     "data": {
      "text/html": [
       "<div>\n",
       "<style scoped>\n",
       "    .dataframe tbody tr th:only-of-type {\n",
       "        vertical-align: middle;\n",
       "    }\n",
       "\n",
       "    .dataframe tbody tr th {\n",
       "        vertical-align: top;\n",
       "    }\n",
       "\n",
       "    .dataframe thead th {\n",
       "        text-align: right;\n",
       "    }\n",
       "</style>\n",
       "<table border=\"1\" class=\"dataframe\">\n",
       "  <thead>\n",
       "    <tr style=\"text-align: right;\">\n",
       "      <th></th>\n",
       "      <th>area_type</th>\n",
       "      <th>location</th>\n",
       "      <th>total_sqft</th>\n",
       "      <th>bathroom</th>\n",
       "      <th>balcony</th>\n",
       "      <th>price</th>\n",
       "      <th>BHK</th>\n",
       "      <th>price_per_sqft</th>\n",
       "    </tr>\n",
       "  </thead>\n",
       "  <tbody>\n",
       "    <tr>\n",
       "      <th>0</th>\n",
       "      <td>Super built-up  Area</td>\n",
       "      <td>Electronic City Phase II</td>\n",
       "      <td>1056.00</td>\n",
       "      <td>2.00</td>\n",
       "      <td>1</td>\n",
       "      <td>39.07</td>\n",
       "      <td>2.00</td>\n",
       "      <td>3699.81</td>\n",
       "    </tr>\n",
       "    <tr>\n",
       "      <th>1</th>\n",
       "      <td>Plot  Area</td>\n",
       "      <td>Chikka Tirupathi</td>\n",
       "      <td>2408.50</td>\n",
       "      <td>5.00</td>\n",
       "      <td>3</td>\n",
       "      <td>120.00</td>\n",
       "      <td>4.00</td>\n",
       "      <td>4615.38</td>\n",
       "    </tr>\n",
       "    <tr>\n",
       "      <th>2</th>\n",
       "      <td>Built-up  Area</td>\n",
       "      <td>Uttarahalli</td>\n",
       "      <td>1440.00</td>\n",
       "      <td>2.00</td>\n",
       "      <td>3</td>\n",
       "      <td>62.00</td>\n",
       "      <td>3.00</td>\n",
       "      <td>4305.56</td>\n",
       "    </tr>\n",
       "    <tr>\n",
       "      <th>3</th>\n",
       "      <td>Super built-up  Area</td>\n",
       "      <td>Lingadheeranahalli</td>\n",
       "      <td>1521.00</td>\n",
       "      <td>3.00</td>\n",
       "      <td>1</td>\n",
       "      <td>95.00</td>\n",
       "      <td>3.00</td>\n",
       "      <td>6245.89</td>\n",
       "    </tr>\n",
       "    <tr>\n",
       "      <th>4</th>\n",
       "      <td>Super built-up  Area</td>\n",
       "      <td>Kothanur</td>\n",
       "      <td>1200.00</td>\n",
       "      <td>2.00</td>\n",
       "      <td>1</td>\n",
       "      <td>51.00</td>\n",
       "      <td>2.00</td>\n",
       "      <td>4250.00</td>\n",
       "    </tr>\n",
       "    <tr>\n",
       "      <th>5</th>\n",
       "      <td>Super built-up  Area</td>\n",
       "      <td>Whitefield</td>\n",
       "      <td>1170.00</td>\n",
       "      <td>2.00</td>\n",
       "      <td>1</td>\n",
       "      <td>38.00</td>\n",
       "      <td>2.00</td>\n",
       "      <td>3247.86</td>\n",
       "    </tr>\n",
       "    <tr>\n",
       "      <th>6</th>\n",
       "      <td>Super built-up  Area</td>\n",
       "      <td>Old Airport Road</td>\n",
       "      <td>2408.50</td>\n",
       "      <td>4.00</td>\n",
       "      <td>1</td>\n",
       "      <td>204.00</td>\n",
       "      <td>4.00</td>\n",
       "      <td>7467.06</td>\n",
       "    </tr>\n",
       "    <tr>\n",
       "      <th>7</th>\n",
       "      <td>Super built-up  Area</td>\n",
       "      <td>Rajaji Nagar</td>\n",
       "      <td>2408.50</td>\n",
       "      <td>4.00</td>\n",
       "      <td>1</td>\n",
       "      <td>220.00</td>\n",
       "      <td>4.00</td>\n",
       "      <td>18181.82</td>\n",
       "    </tr>\n",
       "    <tr>\n",
       "      <th>8</th>\n",
       "      <td>Super built-up  Area</td>\n",
       "      <td>Marathahalli</td>\n",
       "      <td>1310.00</td>\n",
       "      <td>3.00</td>\n",
       "      <td>1</td>\n",
       "      <td>63.25</td>\n",
       "      <td>3.00</td>\n",
       "      <td>4828.24</td>\n",
       "    </tr>\n",
       "    <tr>\n",
       "      <th>9</th>\n",
       "      <td>Plot  Area</td>\n",
       "      <td>Other</td>\n",
       "      <td>1020.00</td>\n",
       "      <td>2.00</td>\n",
       "      <td>1</td>\n",
       "      <td>220.00</td>\n",
       "      <td>6.00</td>\n",
       "      <td>36274.51</td>\n",
       "    </tr>\n",
       "  </tbody>\n",
       "</table>\n",
       "</div>"
      ],
      "text/plain": [
       "              area_type                  location  total_sqft  bathroom  \\\n",
       "0  Super built-up  Area  Electronic City Phase II     1056.00      2.00   \n",
       "1            Plot  Area          Chikka Tirupathi     2408.50      5.00   \n",
       "2        Built-up  Area               Uttarahalli     1440.00      2.00   \n",
       "3  Super built-up  Area        Lingadheeranahalli     1521.00      3.00   \n",
       "4  Super built-up  Area                  Kothanur     1200.00      2.00   \n",
       "5  Super built-up  Area                Whitefield     1170.00      2.00   \n",
       "6  Super built-up  Area          Old Airport Road     2408.50      4.00   \n",
       "7  Super built-up  Area              Rajaji Nagar     2408.50      4.00   \n",
       "8  Super built-up  Area              Marathahalli     1310.00      3.00   \n",
       "9            Plot  Area                     Other     1020.00      2.00   \n",
       "\n",
       "   balcony  price  BHK  price_per_sqft  \n",
       "0        1  39.07 2.00         3699.81  \n",
       "1        3 120.00 4.00         4615.38  \n",
       "2        3  62.00 3.00         4305.56  \n",
       "3        1  95.00 3.00         6245.89  \n",
       "4        1  51.00 2.00         4250.00  \n",
       "5        1  38.00 2.00         3247.86  \n",
       "6        1 204.00 4.00         7467.06  \n",
       "7        1 220.00 4.00        18181.82  \n",
       "8        1  63.25 3.00         4828.24  \n",
       "9        1 220.00 6.00        36274.51  "
      ]
     },
     "execution_count": 68,
     "metadata": {},
     "output_type": "execute_result"
    }
   ],
   "source": [
    "Data_frame.head(10)"
   ]
  },
  {
   "cell_type": "markdown",
   "id": "0a02d7dd-62c0-4418-867a-06b04d7cdbb3",
   "metadata": {},
   "source": [
    "##### price_per_sqft"
   ]
  },
  {
   "cell_type": "code",
   "execution_count": 69,
   "id": "d14d6920-133e-428e-b5b3-5c4db40d2566",
   "metadata": {},
   "outputs": [
    {
     "data": {
      "text/plain": [
       "count      13202.00\n",
       "mean        7905.90\n",
       "std       106722.03\n",
       "min            2.26\n",
       "25%         4258.92\n",
       "50%         5420.87\n",
       "75%         7298.74\n",
       "max     12000000.00\n",
       "Name: price_per_sqft, dtype: float64"
      ]
     },
     "execution_count": 69,
     "metadata": {},
     "output_type": "execute_result"
    }
   ],
   "source": [
    "Data_frame['price_per_sqft'].describe()"
   ]
  },
  {
   "cell_type": "markdown",
   "id": "0b1cbbc5-aa6b-4640-ba5f-a6c0ba54b370",
   "metadata": {},
   "source": [
    "##### Here we find that min price per sqft is 2.25 whereas max is 1.2e+07, this shows a wide variation in property prices."
   ]
  },
  {
   "cell_type": "code",
   "execution_count": 70,
   "id": "e13b1829-8640-4dd2-a32c-d5e110470439",
   "metadata": {},
   "outputs": [],
   "source": [
    "# Applying Quantile Based Flooring and capping\n",
    "lower_bound = Data_frame['price_per_sqft'].quantile(0.10)\n",
    "upper_bound = Data_frame['price_per_sqft'].quantile(0.90)\n",
    "Data_frame['price_per_sqft'] = np.where(Data_frame['price_per_sqft'] < lower_bound, lower_bound, Data_frame['price_per_sqft'])\n",
    "Data_frame['price_per_sqft'] = np.where(Data_frame['price_per_sqft'] > upper_bound, upper_bound, Data_frame['price_per_sqft'])"
   ]
  },
  {
   "cell_type": "code",
   "execution_count": 71,
   "id": "4d30cdfb-6467-46bd-bf35-6865fc59bf18",
   "metadata": {},
   "outputs": [
    {
     "data": {
      "image/png": "[encoded data removed]",
      "text/plain": [
       "<Figure size 1440x720 with 1 Axes>"
      ]
     },
     "metadata": {
      "needs_background": "light"
     },
     "output_type": "display_data"
    }
   ],
   "source": [
    "sns.boxplot(x='price_per_sqft', data=Data_frame)\n",
    "plt.show()"
   ]
  },
  {
   "cell_type": "code",
   "execution_count": 72,
   "id": "259d623f-2ef4-4982-9798-f5c7e74e1c03",
   "metadata": {},
   "outputs": [
    {
     "data": {
      "text/plain": [
       "count   13202.00\n",
       "mean     6185.92\n",
       "std      2504.90\n",
       "min      3500.00\n",
       "25%      4258.92\n",
       "50%      5420.87\n",
       "75%      7298.74\n",
       "max     11578.86\n",
       "Name: price_per_sqft, dtype: float64"
      ]
     },
     "execution_count": 72,
     "metadata": {},
     "output_type": "execute_result"
    }
   ],
   "source": [
    "Data_frame['price_per_sqft'].describe()"
   ]
  },
  {
   "cell_type": "markdown",
   "id": "91c267b6-4c09-45af-aac9-60b33e8977b9",
   "metadata": {},
   "source": [
    "#### Type2\n",
    "##### Problem here is that in some cases - price of 2bhk is more than price of 3bhk for similar sqft area and same location \n",
    "##### and hence is a unexpected error or outlier "
   ]
  },
  {
   "cell_type": "code",
   "execution_count": 73,
   "id": "864453a1-85cd-4408-9513-93c5ae8da7c4",
   "metadata": {},
   "outputs": [
    {
     "data": {
      "image/png": "[encoded data removed]",
      "text/plain": [
       "<Figure size 1440x720 with 1 Axes>"
      ]
     },
     "metadata": {
      "needs_background": "light"
     },
     "output_type": "display_data"
    }
   ],
   "source": [
    "# Checking by plotting scatter plot of different locations\n",
    "\n",
    "def plot_scatter_chart(df,location):\n",
    "    bhk2 = df[(df.location==location) & (df.BHK==2)]\n",
    "    bhk3 = df[(df.location==location) & (df.BHK==3)]\n",
    "    plt.scatter(bhk2.total_sqft,bhk2.price,color='blue',label='2 BHK', s=50)\n",
    "    plt.scatter(bhk3.total_sqft,bhk3.price,marker='+', color='green',label='3 BHK', s=50)\n",
    "    plt.xlabel(\"Total Square Feet Area\")\n",
    "    plt.ylabel(\"Price (Lakh Indian Rupees)\")\n",
    "    plt.title(location)\n",
    "    plt.legend()\n",
    "    \n",
    "plot_scatter_chart(Data_frame,\"Whitefield\")"
   ]
  },
  {
   "cell_type": "markdown",
   "id": "0334c679-b1fb-4488-b4a2-c1d4c6a8227d",
   "metadata": {},
   "source": [
    "##### Here Prices of 2bhk are more than 3bhk for similar or same total_sqft area, it means price_per_sqft of 2bhk should be more than 3bhk for the same location and similar total_sqft area \n",
    "##### So now we can remove those 3BHK whose price_per_sqft is less than mean price_per_sqft of 2 BHK \n",
    "\n",
    "##### We here are dealing with same location [ because Different Location will affect the price ]"
   ]
  },
  {
   "cell_type": "code",
   "execution_count": 74,
   "id": "6c8df387-6dd9-4ebd-b89a-af2e88bea673",
   "metadata": {},
   "outputs": [
    {
     "data": {
      "text/plain": [
       "(9087, 8)"
      ]
     },
     "execution_count": 74,
     "metadata": {},
     "output_type": "execute_result"
    }
   ],
   "source": [
    "def remove_bhk_outliers(df):\n",
    "    exclude_indices = np.array([])\n",
    "    for location, location_df in df.groupby('location'):\n",
    "        bhk_stats = {}\n",
    "        for bhk, bhk_df in location_df.groupby('BHK'):\n",
    "            bhk_stats[bhk] = {\n",
    "                'mean': np.mean(bhk_df.price_per_sqft),\n",
    "                'std': np.std(bhk_df.price_per_sqft),\n",
    "                'count': bhk_df.shape[0]\n",
    "            }\n",
    "        for bhk, bhk_df in location_df.groupby('BHK'):\n",
    "            stats = bhk_stats.get(bhk-1)\n",
    "            if stats and stats['count']>5:\n",
    "                exclude_indices = np.append(exclude_indices, bhk_df[bhk_df.price_per_sqft<(stats['mean'])].index.values)\n",
    "    return df.drop(exclude_indices,axis=0)\n",
    "Data_frame = remove_bhk_outliers(Data_frame)\n",
    "Data_frame.shape"
   ]
  },
  {
   "cell_type": "code",
   "execution_count": 75,
   "id": "98bf836a-2a72-4dd7-ab28-53b0d7479623",
   "metadata": {},
   "outputs": [
    {
     "data": {
      "image/png": "[encoded data removed]",
      "text/plain": [
       "<Figure size 1440x720 with 1 Axes>"
      ]
     },
     "metadata": {
      "needs_background": "light"
     },
     "output_type": "display_data"
    }
   ],
   "source": [
    "plot_scatter_chart(Data_frame,\"Whitefield\")"
   ]
  },
  {
   "cell_type": "code",
   "execution_count": 76,
   "id": "74f21f21-c3b6-4fcc-ad5a-e7d6068f7789",
   "metadata": {},
   "outputs": [
    {
     "data": {
      "text/html": [
       "<div>\n",
       "<style scoped>\n",
       "    .dataframe tbody tr th:only-of-type {\n",
       "        vertical-align: middle;\n",
       "    }\n",
       "\n",
       "    .dataframe tbody tr th {\n",
       "        vertical-align: top;\n",
       "    }\n",
       "\n",
       "    .dataframe thead th {\n",
       "        text-align: right;\n",
       "    }\n",
       "</style>\n",
       "<table border=\"1\" class=\"dataframe\">\n",
       "  <thead>\n",
       "    <tr style=\"text-align: right;\">\n",
       "      <th></th>\n",
       "      <th>area_type</th>\n",
       "      <th>location</th>\n",
       "      <th>total_sqft</th>\n",
       "      <th>bathroom</th>\n",
       "      <th>balcony</th>\n",
       "      <th>price</th>\n",
       "      <th>BHK</th>\n",
       "      <th>price_per_sqft</th>\n",
       "    </tr>\n",
       "  </thead>\n",
       "  <tbody>\n",
       "    <tr>\n",
       "      <th>0</th>\n",
       "      <td>Super built-up  Area</td>\n",
       "      <td>Electronic City Phase II</td>\n",
       "      <td>1056.00</td>\n",
       "      <td>2.00</td>\n",
       "      <td>1</td>\n",
       "      <td>39.07</td>\n",
       "      <td>2.00</td>\n",
       "      <td>3699.81</td>\n",
       "    </tr>\n",
       "    <tr>\n",
       "      <th>2</th>\n",
       "      <td>Built-up  Area</td>\n",
       "      <td>Uttarahalli</td>\n",
       "      <td>1440.00</td>\n",
       "      <td>2.00</td>\n",
       "      <td>3</td>\n",
       "      <td>62.00</td>\n",
       "      <td>3.00</td>\n",
       "      <td>4305.56</td>\n",
       "    </tr>\n",
       "    <tr>\n",
       "      <th>3</th>\n",
       "      <td>Super built-up  Area</td>\n",
       "      <td>Lingadheeranahalli</td>\n",
       "      <td>1521.00</td>\n",
       "      <td>3.00</td>\n",
       "      <td>1</td>\n",
       "      <td>95.00</td>\n",
       "      <td>3.00</td>\n",
       "      <td>6245.89</td>\n",
       "    </tr>\n",
       "    <tr>\n",
       "      <th>4</th>\n",
       "      <td>Super built-up  Area</td>\n",
       "      <td>Kothanur</td>\n",
       "      <td>1200.00</td>\n",
       "      <td>2.00</td>\n",
       "      <td>1</td>\n",
       "      <td>51.00</td>\n",
       "      <td>2.00</td>\n",
       "      <td>4250.00</td>\n",
       "    </tr>\n",
       "    <tr>\n",
       "      <th>6</th>\n",
       "      <td>Super built-up  Area</td>\n",
       "      <td>Old Airport Road</td>\n",
       "      <td>2408.50</td>\n",
       "      <td>4.00</td>\n",
       "      <td>1</td>\n",
       "      <td>204.00</td>\n",
       "      <td>4.00</td>\n",
       "      <td>7467.06</td>\n",
       "    </tr>\n",
       "    <tr>\n",
       "      <th>7</th>\n",
       "      <td>Super built-up  Area</td>\n",
       "      <td>Rajaji Nagar</td>\n",
       "      <td>2408.50</td>\n",
       "      <td>4.00</td>\n",
       "      <td>1</td>\n",
       "      <td>220.00</td>\n",
       "      <td>4.00</td>\n",
       "      <td>11578.86</td>\n",
       "    </tr>\n",
       "    <tr>\n",
       "      <th>9</th>\n",
       "      <td>Plot  Area</td>\n",
       "      <td>Other</td>\n",
       "      <td>1020.00</td>\n",
       "      <td>2.00</td>\n",
       "      <td>1</td>\n",
       "      <td>220.00</td>\n",
       "      <td>6.00</td>\n",
       "      <td>11578.86</td>\n",
       "    </tr>\n",
       "    <tr>\n",
       "      <th>11</th>\n",
       "      <td>Plot  Area</td>\n",
       "      <td>Whitefield</td>\n",
       "      <td>2408.50</td>\n",
       "      <td>5.00</td>\n",
       "      <td>3</td>\n",
       "      <td>220.00</td>\n",
       "      <td>4.00</td>\n",
       "      <td>10592.46</td>\n",
       "    </tr>\n",
       "    <tr>\n",
       "      <th>12</th>\n",
       "      <td>Super built-up  Area</td>\n",
       "      <td>7th Phase JP Nagar</td>\n",
       "      <td>1000.00</td>\n",
       "      <td>2.00</td>\n",
       "      <td>1</td>\n",
       "      <td>38.00</td>\n",
       "      <td>2.00</td>\n",
       "      <td>3800.00</td>\n",
       "    </tr>\n",
       "    <tr>\n",
       "      <th>13</th>\n",
       "      <td>Built-up  Area</td>\n",
       "      <td>Gottigere</td>\n",
       "      <td>1100.00</td>\n",
       "      <td>2.00</td>\n",
       "      <td>2</td>\n",
       "      <td>40.00</td>\n",
       "      <td>2.00</td>\n",
       "      <td>3636.36</td>\n",
       "    </tr>\n",
       "  </tbody>\n",
       "</table>\n",
       "</div>"
      ],
      "text/plain": [
       "               area_type                  location  total_sqft  bathroom  \\\n",
       "0   Super built-up  Area  Electronic City Phase II     1056.00      2.00   \n",
       "2         Built-up  Area               Uttarahalli     1440.00      2.00   \n",
       "3   Super built-up  Area        Lingadheeranahalli     1521.00      3.00   \n",
       "4   Super built-up  Area                  Kothanur     1200.00      2.00   \n",
       "6   Super built-up  Area          Old Airport Road     2408.50      4.00   \n",
       "7   Super built-up  Area              Rajaji Nagar     2408.50      4.00   \n",
       "9             Plot  Area                     Other     1020.00      2.00   \n",
       "11            Plot  Area                Whitefield     2408.50      5.00   \n",
       "12  Super built-up  Area        7th Phase JP Nagar     1000.00      2.00   \n",
       "13        Built-up  Area                 Gottigere     1100.00      2.00   \n",
       "\n",
       "    balcony  price  BHK  price_per_sqft  \n",
       "0         1  39.07 2.00         3699.81  \n",
       "2         3  62.00 3.00         4305.56  \n",
       "3         1  95.00 3.00         6245.89  \n",
       "4         1  51.00 2.00         4250.00  \n",
       "6         1 204.00 4.00         7467.06  \n",
       "7         1 220.00 4.00        11578.86  \n",
       "9         1 220.00 6.00        11578.86  \n",
       "11        3 220.00 4.00        10592.46  \n",
       "12        1  38.00 2.00         3800.00  \n",
       "13        2  40.00 2.00         3636.36  "
      ]
     },
     "execution_count": 76,
     "metadata": {},
     "output_type": "execute_result"
    }
   ],
   "source": [
    "Data_frame.head(10)"
   ]
  },
  {
   "cell_type": "code",
   "execution_count": 77,
   "id": "9b2a454f-b188-4933-9b95-8ccd0ef2a83a",
   "metadata": {},
   "outputs": [],
   "source": [
    "Data_frame.drop(['price_per_sqft'], axis=1, inplace=True)"
   ]
  },
  {
   "cell_type": "code",
   "execution_count": 78,
   "id": "5042be6e-4fd0-4210-b833-39ad784c1c69",
   "metadata": {},
   "outputs": [
    {
     "data": {
      "text/html": [
       "<div>\n",
       "<style scoped>\n",
       "    .dataframe tbody tr th:only-of-type {\n",
       "        vertical-align: middle;\n",
       "    }\n",
       "\n",
       "    .dataframe tbody tr th {\n",
       "        vertical-align: top;\n",
       "    }\n",
       "\n",
       "    .dataframe thead th {\n",
       "        text-align: right;\n",
       "    }\n",
       "</style>\n",
       "<table border=\"1\" class=\"dataframe\">\n",
       "  <thead>\n",
       "    <tr style=\"text-align: right;\">\n",
       "      <th></th>\n",
       "      <th>area_type</th>\n",
       "      <th>location</th>\n",
       "      <th>total_sqft</th>\n",
       "      <th>bathroom</th>\n",
       "      <th>balcony</th>\n",
       "      <th>price</th>\n",
       "      <th>BHK</th>\n",
       "    </tr>\n",
       "  </thead>\n",
       "  <tbody>\n",
       "    <tr>\n",
       "      <th>0</th>\n",
       "      <td>Super built-up  Area</td>\n",
       "      <td>Electronic City Phase II</td>\n",
       "      <td>1056.00</td>\n",
       "      <td>2.00</td>\n",
       "      <td>1</td>\n",
       "      <td>39.07</td>\n",
       "      <td>2.00</td>\n",
       "    </tr>\n",
       "    <tr>\n",
       "      <th>2</th>\n",
       "      <td>Built-up  Area</td>\n",
       "      <td>Uttarahalli</td>\n",
       "      <td>1440.00</td>\n",
       "      <td>2.00</td>\n",
       "      <td>3</td>\n",
       "      <td>62.00</td>\n",
       "      <td>3.00</td>\n",
       "    </tr>\n",
       "    <tr>\n",
       "      <th>3</th>\n",
       "      <td>Super built-up  Area</td>\n",
       "      <td>Lingadheeranahalli</td>\n",
       "      <td>1521.00</td>\n",
       "      <td>3.00</td>\n",
       "      <td>1</td>\n",
       "      <td>95.00</td>\n",
       "      <td>3.00</td>\n",
       "    </tr>\n",
       "    <tr>\n",
       "      <th>4</th>\n",
       "      <td>Super built-up  Area</td>\n",
       "      <td>Kothanur</td>\n",
       "      <td>1200.00</td>\n",
       "      <td>2.00</td>\n",
       "      <td>1</td>\n",
       "      <td>51.00</td>\n",
       "      <td>2.00</td>\n",
       "    </tr>\n",
       "    <tr>\n",
       "      <th>6</th>\n",
       "      <td>Super built-up  Area</td>\n",
       "      <td>Old Airport Road</td>\n",
       "      <td>2408.50</td>\n",
       "      <td>4.00</td>\n",
       "      <td>1</td>\n",
       "      <td>204.00</td>\n",
       "      <td>4.00</td>\n",
       "    </tr>\n",
       "    <tr>\n",
       "      <th>7</th>\n",
       "      <td>Super built-up  Area</td>\n",
       "      <td>Rajaji Nagar</td>\n",
       "      <td>2408.50</td>\n",
       "      <td>4.00</td>\n",
       "      <td>1</td>\n",
       "      <td>220.00</td>\n",
       "      <td>4.00</td>\n",
       "    </tr>\n",
       "    <tr>\n",
       "      <th>9</th>\n",
       "      <td>Plot  Area</td>\n",
       "      <td>Other</td>\n",
       "      <td>1020.00</td>\n",
       "      <td>2.00</td>\n",
       "      <td>1</td>\n",
       "      <td>220.00</td>\n",
       "      <td>6.00</td>\n",
       "    </tr>\n",
       "    <tr>\n",
       "      <th>11</th>\n",
       "      <td>Plot  Area</td>\n",
       "      <td>Whitefield</td>\n",
       "      <td>2408.50</td>\n",
       "      <td>5.00</td>\n",
       "      <td>3</td>\n",
       "      <td>220.00</td>\n",
       "      <td>4.00</td>\n",
       "    </tr>\n",
       "    <tr>\n",
       "      <th>12</th>\n",
       "      <td>Super built-up  Area</td>\n",
       "      <td>7th Phase JP Nagar</td>\n",
       "      <td>1000.00</td>\n",
       "      <td>2.00</td>\n",
       "      <td>1</td>\n",
       "      <td>38.00</td>\n",
       "      <td>2.00</td>\n",
       "    </tr>\n",
       "    <tr>\n",
       "      <th>13</th>\n",
       "      <td>Built-up  Area</td>\n",
       "      <td>Gottigere</td>\n",
       "      <td>1100.00</td>\n",
       "      <td>2.00</td>\n",
       "      <td>2</td>\n",
       "      <td>40.00</td>\n",
       "      <td>2.00</td>\n",
       "    </tr>\n",
       "  </tbody>\n",
       "</table>\n",
       "</div>"
      ],
      "text/plain": [
       "               area_type                  location  total_sqft  bathroom  \\\n",
       "0   Super built-up  Area  Electronic City Phase II     1056.00      2.00   \n",
       "2         Built-up  Area               Uttarahalli     1440.00      2.00   \n",
       "3   Super built-up  Area        Lingadheeranahalli     1521.00      3.00   \n",
       "4   Super built-up  Area                  Kothanur     1200.00      2.00   \n",
       "6   Super built-up  Area          Old Airport Road     2408.50      4.00   \n",
       "7   Super built-up  Area              Rajaji Nagar     2408.50      4.00   \n",
       "9             Plot  Area                     Other     1020.00      2.00   \n",
       "11            Plot  Area                Whitefield     2408.50      5.00   \n",
       "12  Super built-up  Area        7th Phase JP Nagar     1000.00      2.00   \n",
       "13        Built-up  Area                 Gottigere     1100.00      2.00   \n",
       "\n",
       "    balcony  price  BHK  \n",
       "0         1  39.07 2.00  \n",
       "2         3  62.00 3.00  \n",
       "3         1  95.00 3.00  \n",
       "4         1  51.00 2.00  \n",
       "6         1 204.00 4.00  \n",
       "7         1 220.00 4.00  \n",
       "9         1 220.00 6.00  \n",
       "11        3 220.00 4.00  \n",
       "12        1  38.00 2.00  \n",
       "13        2  40.00 2.00  "
      ]
     },
     "execution_count": 78,
     "metadata": {},
     "output_type": "execute_result"
    }
   ],
   "source": [
    "Data_frame.head(10)"
   ]
  },
  {
   "cell_type": "markdown",
   "id": "1578fd6d-fd81-434d-b6ae-21ba0923bf8b",
   "metadata": {},
   "source": [
    "#### Type2\n",
    "#### In general Square ft per Bedroom is 300 \n",
    "#### anything less than that is suspicious and can be declared as outlier"
   ]
  },
  {
   "cell_type": "code",
   "execution_count": 79,
   "id": "66dc76d2-86db-43cd-bd7b-9d8990815f0d",
   "metadata": {},
   "outputs": [
    {
     "data": {
      "text/html": [
       "<div>\n",
       "<style scoped>\n",
       "    .dataframe tbody tr th:only-of-type {\n",
       "        vertical-align: middle;\n",
       "    }\n",
       "\n",
       "    .dataframe tbody tr th {\n",
       "        vertical-align: top;\n",
       "    }\n",
       "\n",
       "    .dataframe thead th {\n",
       "        text-align: right;\n",
       "    }\n",
       "</style>\n",
       "<table border=\"1\" class=\"dataframe\">\n",
       "  <thead>\n",
       "    <tr style=\"text-align: right;\">\n",
       "      <th></th>\n",
       "      <th>area_type</th>\n",
       "      <th>location</th>\n",
       "      <th>total_sqft</th>\n",
       "      <th>bathroom</th>\n",
       "      <th>balcony</th>\n",
       "      <th>price</th>\n",
       "      <th>BHK</th>\n",
       "    </tr>\n",
       "  </thead>\n",
       "  <tbody>\n",
       "    <tr>\n",
       "      <th>9</th>\n",
       "      <td>Plot  Area</td>\n",
       "      <td>Other</td>\n",
       "      <td>1020.00</td>\n",
       "      <td>2.00</td>\n",
       "      <td>1</td>\n",
       "      <td>220.00</td>\n",
       "      <td>6.00</td>\n",
       "    </tr>\n",
       "    <tr>\n",
       "      <th>58</th>\n",
       "      <td>Plot  Area</td>\n",
       "      <td>Other</td>\n",
       "      <td>1407.00</td>\n",
       "      <td>4.00</td>\n",
       "      <td>1</td>\n",
       "      <td>150.00</td>\n",
       "      <td>6.00</td>\n",
       "    </tr>\n",
       "    <tr>\n",
       "      <th>89</th>\n",
       "      <td>Plot  Area</td>\n",
       "      <td>Rajaji Nagar</td>\n",
       "      <td>900.00</td>\n",
       "      <td>2.00</td>\n",
       "      <td>3</td>\n",
       "      <td>160.00</td>\n",
       "      <td>6.00</td>\n",
       "    </tr>\n",
       "    <tr>\n",
       "      <th>129</th>\n",
       "      <td>Plot  Area</td>\n",
       "      <td>Other</td>\n",
       "      <td>950.00</td>\n",
       "      <td>2.00</td>\n",
       "      <td>0</td>\n",
       "      <td>115.00</td>\n",
       "      <td>7.00</td>\n",
       "    </tr>\n",
       "    <tr>\n",
       "      <th>149</th>\n",
       "      <td>Plot  Area</td>\n",
       "      <td>Other</td>\n",
       "      <td>1034.00</td>\n",
       "      <td>5.00</td>\n",
       "      <td>1</td>\n",
       "      <td>185.00</td>\n",
       "      <td>6.00</td>\n",
       "    </tr>\n",
       "    <tr>\n",
       "      <th>176</th>\n",
       "      <td>Plot  Area</td>\n",
       "      <td>Kumaraswami Layout</td>\n",
       "      <td>900.00</td>\n",
       "      <td>3.00</td>\n",
       "      <td>2</td>\n",
       "      <td>85.00</td>\n",
       "      <td>5.00</td>\n",
       "    </tr>\n",
       "    <tr>\n",
       "      <th>193</th>\n",
       "      <td>Plot  Area</td>\n",
       "      <td>Other</td>\n",
       "      <td>1800.00</td>\n",
       "      <td>2.00</td>\n",
       "      <td>1</td>\n",
       "      <td>220.00</td>\n",
       "      <td>7.00</td>\n",
       "    </tr>\n",
       "    <tr>\n",
       "      <th>258</th>\n",
       "      <td>Plot  Area</td>\n",
       "      <td>Other</td>\n",
       "      <td>1200.00</td>\n",
       "      <td>5.00</td>\n",
       "      <td>1</td>\n",
       "      <td>170.00</td>\n",
       "      <td>5.00</td>\n",
       "    </tr>\n",
       "    <tr>\n",
       "      <th>282</th>\n",
       "      <td>Plot  Area</td>\n",
       "      <td>Other</td>\n",
       "      <td>1450.00</td>\n",
       "      <td>2.00</td>\n",
       "      <td>0</td>\n",
       "      <td>220.00</td>\n",
       "      <td>6.00</td>\n",
       "    </tr>\n",
       "    <tr>\n",
       "      <th>315</th>\n",
       "      <td>Plot  Area</td>\n",
       "      <td>Other</td>\n",
       "      <td>1200.00</td>\n",
       "      <td>5.00</td>\n",
       "      <td>2</td>\n",
       "      <td>180.00</td>\n",
       "      <td>5.00</td>\n",
       "    </tr>\n",
       "  </tbody>\n",
       "</table>\n",
       "</div>"
      ],
      "text/plain": [
       "      area_type            location  total_sqft  bathroom  balcony  price  BHK\n",
       "9    Plot  Area               Other     1020.00      2.00        1 220.00 6.00\n",
       "58   Plot  Area               Other     1407.00      4.00        1 150.00 6.00\n",
       "89   Plot  Area        Rajaji Nagar      900.00      2.00        3 160.00 6.00\n",
       "129  Plot  Area               Other      950.00      2.00        0 115.00 7.00\n",
       "149  Plot  Area               Other     1034.00      5.00        1 185.00 6.00\n",
       "176  Plot  Area  Kumaraswami Layout      900.00      3.00        2  85.00 5.00\n",
       "193  Plot  Area               Other     1800.00      2.00        1 220.00 7.00\n",
       "258  Plot  Area               Other     1200.00      5.00        1 170.00 5.00\n",
       "282  Plot  Area               Other     1450.00      2.00        0 220.00 6.00\n",
       "315  Plot  Area               Other     1200.00      5.00        2 180.00 5.00"
      ]
     },
     "execution_count": 79,
     "metadata": {},
     "output_type": "execute_result"
    }
   ],
   "source": [
    "#Check\n",
    "Data_frame[Data_frame.total_sqft/Data_frame.BHK<300].head(10)"
   ]
  },
  {
   "cell_type": "code",
   "execution_count": 80,
   "id": "b82102d2-0b52-4e7f-b81c-6d175ed5a9a3",
   "metadata": {},
   "outputs": [
    {
     "data": {
      "text/plain": [
       "(8649, 7)"
      ]
     },
     "execution_count": 80,
     "metadata": {},
     "output_type": "execute_result"
    }
   ],
   "source": [
    "Data_frame=Data_frame[~(Data_frame.total_sqft/Data_frame.BHK<300)]\n",
    "Data_frame.shape"
   ]
  },
  {
   "cell_type": "code",
   "execution_count": 81,
   "id": "d9693b6c-6b89-491b-b9c9-65afdeb33bd6",
   "metadata": {},
   "outputs": [
    {
     "data": {
      "text/html": [
       "<div>\n",
       "<style scoped>\n",
       "    .dataframe tbody tr th:only-of-type {\n",
       "        vertical-align: middle;\n",
       "    }\n",
       "\n",
       "    .dataframe tbody tr th {\n",
       "        vertical-align: top;\n",
       "    }\n",
       "\n",
       "    .dataframe thead th {\n",
       "        text-align: right;\n",
       "    }\n",
       "</style>\n",
       "<table border=\"1\" class=\"dataframe\">\n",
       "  <thead>\n",
       "    <tr style=\"text-align: right;\">\n",
       "      <th></th>\n",
       "      <th>area_type</th>\n",
       "      <th>location</th>\n",
       "      <th>total_sqft</th>\n",
       "      <th>bathroom</th>\n",
       "      <th>balcony</th>\n",
       "      <th>price</th>\n",
       "      <th>BHK</th>\n",
       "    </tr>\n",
       "  </thead>\n",
       "  <tbody>\n",
       "    <tr>\n",
       "      <th>0</th>\n",
       "      <td>Super built-up  Area</td>\n",
       "      <td>Electronic City Phase II</td>\n",
       "      <td>1056.00</td>\n",
       "      <td>2.00</td>\n",
       "      <td>1</td>\n",
       "      <td>39.07</td>\n",
       "      <td>2.00</td>\n",
       "    </tr>\n",
       "    <tr>\n",
       "      <th>2</th>\n",
       "      <td>Built-up  Area</td>\n",
       "      <td>Uttarahalli</td>\n",
       "      <td>1440.00</td>\n",
       "      <td>2.00</td>\n",
       "      <td>3</td>\n",
       "      <td>62.00</td>\n",
       "      <td>3.00</td>\n",
       "    </tr>\n",
       "    <tr>\n",
       "      <th>3</th>\n",
       "      <td>Super built-up  Area</td>\n",
       "      <td>Lingadheeranahalli</td>\n",
       "      <td>1521.00</td>\n",
       "      <td>3.00</td>\n",
       "      <td>1</td>\n",
       "      <td>95.00</td>\n",
       "      <td>3.00</td>\n",
       "    </tr>\n",
       "    <tr>\n",
       "      <th>4</th>\n",
       "      <td>Super built-up  Area</td>\n",
       "      <td>Kothanur</td>\n",
       "      <td>1200.00</td>\n",
       "      <td>2.00</td>\n",
       "      <td>1</td>\n",
       "      <td>51.00</td>\n",
       "      <td>2.00</td>\n",
       "    </tr>\n",
       "    <tr>\n",
       "      <th>6</th>\n",
       "      <td>Super built-up  Area</td>\n",
       "      <td>Old Airport Road</td>\n",
       "      <td>2408.50</td>\n",
       "      <td>4.00</td>\n",
       "      <td>1</td>\n",
       "      <td>204.00</td>\n",
       "      <td>4.00</td>\n",
       "    </tr>\n",
       "    <tr>\n",
       "      <th>7</th>\n",
       "      <td>Super built-up  Area</td>\n",
       "      <td>Rajaji Nagar</td>\n",
       "      <td>2408.50</td>\n",
       "      <td>4.00</td>\n",
       "      <td>1</td>\n",
       "      <td>220.00</td>\n",
       "      <td>4.00</td>\n",
       "    </tr>\n",
       "    <tr>\n",
       "      <th>11</th>\n",
       "      <td>Plot  Area</td>\n",
       "      <td>Whitefield</td>\n",
       "      <td>2408.50</td>\n",
       "      <td>5.00</td>\n",
       "      <td>3</td>\n",
       "      <td>220.00</td>\n",
       "      <td>4.00</td>\n",
       "    </tr>\n",
       "    <tr>\n",
       "      <th>12</th>\n",
       "      <td>Super built-up  Area</td>\n",
       "      <td>7th Phase JP Nagar</td>\n",
       "      <td>1000.00</td>\n",
       "      <td>2.00</td>\n",
       "      <td>1</td>\n",
       "      <td>38.00</td>\n",
       "      <td>2.00</td>\n",
       "    </tr>\n",
       "    <tr>\n",
       "      <th>13</th>\n",
       "      <td>Built-up  Area</td>\n",
       "      <td>Gottigere</td>\n",
       "      <td>1100.00</td>\n",
       "      <td>2.00</td>\n",
       "      <td>2</td>\n",
       "      <td>40.00</td>\n",
       "      <td>2.00</td>\n",
       "    </tr>\n",
       "    <tr>\n",
       "      <th>14</th>\n",
       "      <td>Plot  Area</td>\n",
       "      <td>Sarjapur</td>\n",
       "      <td>2250.00</td>\n",
       "      <td>3.00</td>\n",
       "      <td>2</td>\n",
       "      <td>148.00</td>\n",
       "      <td>3.00</td>\n",
       "    </tr>\n",
       "    <tr>\n",
       "      <th>15</th>\n",
       "      <td>Super built-up  Area</td>\n",
       "      <td>Mysore Road</td>\n",
       "      <td>1175.00</td>\n",
       "      <td>2.00</td>\n",
       "      <td>2</td>\n",
       "      <td>73.50</td>\n",
       "      <td>2.00</td>\n",
       "    </tr>\n",
       "    <tr>\n",
       "      <th>16</th>\n",
       "      <td>Super built-up  Area</td>\n",
       "      <td>Bisuvanahalli</td>\n",
       "      <td>1180.00</td>\n",
       "      <td>3.00</td>\n",
       "      <td>2</td>\n",
       "      <td>48.00</td>\n",
       "      <td>3.00</td>\n",
       "    </tr>\n",
       "    <tr>\n",
       "      <th>18</th>\n",
       "      <td>Super built-up  Area</td>\n",
       "      <td>Other</td>\n",
       "      <td>2408.50</td>\n",
       "      <td>4.00</td>\n",
       "      <td>2</td>\n",
       "      <td>220.00</td>\n",
       "      <td>3.00</td>\n",
       "    </tr>\n",
       "    <tr>\n",
       "      <th>20</th>\n",
       "      <td>Built-up  Area</td>\n",
       "      <td>Kengeri</td>\n",
       "      <td>900.00</td>\n",
       "      <td>1.00</td>\n",
       "      <td>1</td>\n",
       "      <td>38.00</td>\n",
       "      <td>1.00</td>\n",
       "    </tr>\n",
       "    <tr>\n",
       "      <th>21</th>\n",
       "      <td>Super built-up  Area</td>\n",
       "      <td>Binny Pete</td>\n",
       "      <td>1755.00</td>\n",
       "      <td>3.00</td>\n",
       "      <td>1</td>\n",
       "      <td>122.00</td>\n",
       "      <td>3.00</td>\n",
       "    </tr>\n",
       "    <tr>\n",
       "      <th>22</th>\n",
       "      <td>Plot  Area</td>\n",
       "      <td>Thanisandra</td>\n",
       "      <td>2408.50</td>\n",
       "      <td>5.00</td>\n",
       "      <td>2</td>\n",
       "      <td>220.00</td>\n",
       "      <td>4.00</td>\n",
       "    </tr>\n",
       "    <tr>\n",
       "      <th>23</th>\n",
       "      <td>Super built-up  Area</td>\n",
       "      <td>Bellandur</td>\n",
       "      <td>1767.00</td>\n",
       "      <td>3.00</td>\n",
       "      <td>1</td>\n",
       "      <td>103.00</td>\n",
       "      <td>3.00</td>\n",
       "    </tr>\n",
       "    <tr>\n",
       "      <th>24</th>\n",
       "      <td>Super built-up  Area</td>\n",
       "      <td>Other</td>\n",
       "      <td>900.00</td>\n",
       "      <td>1.00</td>\n",
       "      <td>0</td>\n",
       "      <td>38.00</td>\n",
       "      <td>1.00</td>\n",
       "    </tr>\n",
       "    <tr>\n",
       "      <th>28</th>\n",
       "      <td>Super built-up  Area</td>\n",
       "      <td>Ramagondanahalli</td>\n",
       "      <td>1151.00</td>\n",
       "      <td>2.00</td>\n",
       "      <td>2</td>\n",
       "      <td>48.77</td>\n",
       "      <td>2.00</td>\n",
       "    </tr>\n",
       "    <tr>\n",
       "      <th>29</th>\n",
       "      <td>Super built-up  Area</td>\n",
       "      <td>Electronic City</td>\n",
       "      <td>1025.00</td>\n",
       "      <td>2.00</td>\n",
       "      <td>1</td>\n",
       "      <td>47.00</td>\n",
       "      <td>3.00</td>\n",
       "    </tr>\n",
       "  </tbody>\n",
       "</table>\n",
       "</div>"
      ],
      "text/plain": [
       "               area_type                  location  total_sqft  bathroom  \\\n",
       "0   Super built-up  Area  Electronic City Phase II     1056.00      2.00   \n",
       "2         Built-up  Area               Uttarahalli     1440.00      2.00   \n",
       "3   Super built-up  Area        Lingadheeranahalli     1521.00      3.00   \n",
       "4   Super built-up  Area                  Kothanur     1200.00      2.00   \n",
       "6   Super built-up  Area          Old Airport Road     2408.50      4.00   \n",
       "7   Super built-up  Area              Rajaji Nagar     2408.50      4.00   \n",
       "11            Plot  Area                Whitefield     2408.50      5.00   \n",
       "12  Super built-up  Area        7th Phase JP Nagar     1000.00      2.00   \n",
       "13        Built-up  Area                 Gottigere     1100.00      2.00   \n",
       "14            Plot  Area                  Sarjapur     2250.00      3.00   \n",
       "15  Super built-up  Area               Mysore Road     1175.00      2.00   \n",
       "16  Super built-up  Area             Bisuvanahalli     1180.00      3.00   \n",
       "18  Super built-up  Area                     Other     2408.50      4.00   \n",
       "20        Built-up  Area                   Kengeri      900.00      1.00   \n",
       "21  Super built-up  Area                Binny Pete     1755.00      3.00   \n",
       "22            Plot  Area               Thanisandra     2408.50      5.00   \n",
       "23  Super built-up  Area                 Bellandur     1767.00      3.00   \n",
       "24  Super built-up  Area                     Other      900.00      1.00   \n",
       "28  Super built-up  Area          Ramagondanahalli     1151.00      2.00   \n",
       "29  Super built-up  Area           Electronic City     1025.00      2.00   \n",
       "\n",
       "    balcony  price  BHK  \n",
       "0         1  39.07 2.00  \n",
       "2         3  62.00 3.00  \n",
       "3         1  95.00 3.00  \n",
       "4         1  51.00 2.00  \n",
       "6         1 204.00 4.00  \n",
       "7         1 220.00 4.00  \n",
       "11        3 220.00 4.00  \n",
       "12        1  38.00 2.00  \n",
       "13        2  40.00 2.00  \n",
       "14        2 148.00 3.00  \n",
       "15        2  73.50 2.00  \n",
       "16        2  48.00 3.00  \n",
       "18        2 220.00 3.00  \n",
       "20        1  38.00 1.00  \n",
       "21        1 122.00 3.00  \n",
       "22        2 220.00 4.00  \n",
       "23        1 103.00 3.00  \n",
       "24        0  38.00 1.00  \n",
       "28        2  48.77 2.00  \n",
       "29        1  47.00 3.00  "
      ]
     },
     "execution_count": 81,
     "metadata": {},
     "output_type": "execute_result"
    }
   ],
   "source": [
    "Data_frame.head(20)"
   ]
  },
  {
   "cell_type": "markdown",
   "id": "88624440-463e-4523-bb6c-46e119425a5c",
   "metadata": {},
   "source": [
    "## <font color = 'blue'> Lets Correlate </font>\n",
    "#### Finding Correlation between Independent and dependent Variables / features "
   ]
  },
  {
   "cell_type": "code",
   "execution_count": 82,
   "id": "d5e15de0-bf95-472e-b552-b734ef43f62a",
   "metadata": {},
   "outputs": [
    {
     "data": {
      "text/html": [
       "<div>\n",
       "<style scoped>\n",
       "    .dataframe tbody tr th:only-of-type {\n",
       "        vertical-align: middle;\n",
       "    }\n",
       "\n",
       "    .dataframe tbody tr th {\n",
       "        vertical-align: top;\n",
       "    }\n",
       "\n",
       "    .dataframe thead th {\n",
       "        text-align: right;\n",
       "    }\n",
       "</style>\n",
       "<table border=\"1\" class=\"dataframe\">\n",
       "  <thead>\n",
       "    <tr style=\"text-align: right;\">\n",
       "      <th></th>\n",
       "      <th>total_sqft</th>\n",
       "      <th>bathroom</th>\n",
       "      <th>balcony</th>\n",
       "      <th>BHK</th>\n",
       "    </tr>\n",
       "  </thead>\n",
       "  <tbody>\n",
       "    <tr>\n",
       "      <th>total_sqft</th>\n",
       "      <td>1.00</td>\n",
       "      <td>0.70</td>\n",
       "      <td>0.26</td>\n",
       "      <td>0.74</td>\n",
       "    </tr>\n",
       "    <tr>\n",
       "      <th>bathroom</th>\n",
       "      <td>0.70</td>\n",
       "      <td>1.00</td>\n",
       "      <td>0.28</td>\n",
       "      <td>0.76</td>\n",
       "    </tr>\n",
       "    <tr>\n",
       "      <th>balcony</th>\n",
       "      <td>0.26</td>\n",
       "      <td>0.28</td>\n",
       "      <td>1.00</td>\n",
       "      <td>0.25</td>\n",
       "    </tr>\n",
       "    <tr>\n",
       "      <th>BHK</th>\n",
       "      <td>0.74</td>\n",
       "      <td>0.76</td>\n",
       "      <td>0.25</td>\n",
       "      <td>1.00</td>\n",
       "    </tr>\n",
       "  </tbody>\n",
       "</table>\n",
       "</div>"
      ],
      "text/plain": [
       "            total_sqft  bathroom  balcony  BHK\n",
       "total_sqft        1.00      0.70     0.26 0.74\n",
       "bathroom          0.70      1.00     0.28 0.76\n",
       "balcony           0.26      0.28     1.00 0.25\n",
       "BHK               0.74      0.76     0.25 1.00"
      ]
     },
     "execution_count": 82,
     "metadata": {},
     "output_type": "execute_result"
    }
   ],
   "source": [
    "num_corr = Data_frame[['total_sqft', 'bathroom', 'balcony', 'BHK']].corr()\n",
    "num_corr"
   ]
  },
  {
   "cell_type": "code",
   "execution_count": 83,
   "id": "f1cce3de-fafc-40b2-80ba-58e99a6f8b78",
   "metadata": {},
   "outputs": [
    {
     "data": {
      "image/png": "[encoded data removed]",
      "text/plain": [
       "<Figure size 1440x720 with 2 Axes>"
      ]
     },
     "metadata": {
      "needs_background": "light"
     },
     "output_type": "display_data"
    }
   ],
   "source": [
    "sns.heatmap(num_corr, cmap='RdBu')\n",
    "plt.title(\"Heatmap of Correlation between numeric Independent Features\")\n",
    "plt.show()"
   ]
  },
  {
   "cell_type": "markdown",
   "id": "d1df7a16-df7c-4969-ae14-977479a47f03",
   "metadata": {},
   "source": [
    "#### Lets Find Correlation between each Independent feature and Dependent feature [aka - Target]"
   ]
  },
  {
   "cell_type": "code",
   "execution_count": 84,
   "id": "edaf5ced-960c-438b-b389-b5329b310d71",
   "metadata": {},
   "outputs": [
    {
     "data": {
      "text/html": [
       "<div>\n",
       "<style scoped>\n",
       "    .dataframe tbody tr th:only-of-type {\n",
       "        vertical-align: middle;\n",
       "    }\n",
       "\n",
       "    .dataframe tbody tr th {\n",
       "        vertical-align: top;\n",
       "    }\n",
       "\n",
       "    .dataframe thead th {\n",
       "        text-align: right;\n",
       "    }\n",
       "</style>\n",
       "<table border=\"1\" class=\"dataframe\">\n",
       "  <thead>\n",
       "    <tr style=\"text-align: right;\">\n",
       "      <th></th>\n",
       "      <th>total_sqft</th>\n",
       "      <th>price</th>\n",
       "    </tr>\n",
       "  </thead>\n",
       "  <tbody>\n",
       "    <tr>\n",
       "      <th>total_sqft</th>\n",
       "      <td>1.00</td>\n",
       "      <td>0.83</td>\n",
       "    </tr>\n",
       "    <tr>\n",
       "      <th>price</th>\n",
       "      <td>0.83</td>\n",
       "      <td>1.00</td>\n",
       "    </tr>\n",
       "  </tbody>\n",
       "</table>\n",
       "</div>"
      ],
      "text/plain": [
       "            total_sqft  price\n",
       "total_sqft        1.00   0.83\n",
       "price             0.83   1.00"
      ]
     },
     "execution_count": 84,
     "metadata": {},
     "output_type": "execute_result"
    }
   ],
   "source": [
    "corr_tot_pr = Data_frame[['total_sqft', 'price']].corr()\n",
    "corr_tot_pr"
   ]
  },
  {
   "cell_type": "code",
   "execution_count": 85,
   "id": "394fe04a-ef8f-424b-98c2-1dab6f51a426",
   "metadata": {},
   "outputs": [
    {
     "data": {
      "text/plain": [
       "PearsonRResult(statistic=0.8285039606691426, pvalue=0.0)"
      ]
     },
     "execution_count": 85,
     "metadata": {},
     "output_type": "execute_result"
    }
   ],
   "source": [
    "pearson_tot_pr = stats.pearsonr(Data_frame['total_sqft'], Data_frame['price'])\n",
    "pearson_tot_pr"
   ]
  },
  {
   "cell_type": "code",
   "execution_count": 86,
   "id": "9ae377b9-d768-4a1b-94ac-967df6bb950e",
   "metadata": {},
   "outputs": [
    {
     "data": {
      "text/html": [
       "<div>\n",
       "<style scoped>\n",
       "    .dataframe tbody tr th:only-of-type {\n",
       "        vertical-align: middle;\n",
       "    }\n",
       "\n",
       "    .dataframe tbody tr th {\n",
       "        vertical-align: top;\n",
       "    }\n",
       "\n",
       "    .dataframe thead th {\n",
       "        text-align: right;\n",
       "    }\n",
       "</style>\n",
       "<table border=\"1\" class=\"dataframe\">\n",
       "  <thead>\n",
       "    <tr style=\"text-align: right;\">\n",
       "      <th></th>\n",
       "      <th>bathroom</th>\n",
       "      <th>price</th>\n",
       "    </tr>\n",
       "  </thead>\n",
       "  <tbody>\n",
       "    <tr>\n",
       "      <th>bathroom</th>\n",
       "      <td>1.00</td>\n",
       "      <td>0.68</td>\n",
       "    </tr>\n",
       "    <tr>\n",
       "      <th>price</th>\n",
       "      <td>0.68</td>\n",
       "      <td>1.00</td>\n",
       "    </tr>\n",
       "  </tbody>\n",
       "</table>\n",
       "</div>"
      ],
      "text/plain": [
       "          bathroom  price\n",
       "bathroom      1.00   0.68\n",
       "price         0.68   1.00"
      ]
     },
     "execution_count": 86,
     "metadata": {},
     "output_type": "execute_result"
    }
   ],
   "source": [
    "corr_bath_pr = Data_frame[['bathroom', 'price']].corr()\n",
    "corr_bath_pr"
   ]
  },
  {
   "cell_type": "code",
   "execution_count": 87,
   "id": "75a8e551-8bb2-438e-b3e6-0ca04d3d3327",
   "metadata": {},
   "outputs": [
    {
     "data": {
      "text/plain": [
       "PearsonRResult(statistic=0.6770449958631651, pvalue=0.0)"
      ]
     },
     "execution_count": 87,
     "metadata": {},
     "output_type": "execute_result"
    }
   ],
   "source": [
    "pearson_bath_pr = stats.pearsonr(Data_frame['bathroom'], Data_frame['price'])\n",
    "pearson_bath_pr"
   ]
  },
  {
   "cell_type": "code",
   "execution_count": 88,
   "id": "b300fb71-ea5a-420f-aa41-49706541976a",
   "metadata": {},
   "outputs": [
    {
     "data": {
      "text/html": [
       "<div>\n",
       "<style scoped>\n",
       "    .dataframe tbody tr th:only-of-type {\n",
       "        vertical-align: middle;\n",
       "    }\n",
       "\n",
       "    .dataframe tbody tr th {\n",
       "        vertical-align: top;\n",
       "    }\n",
       "\n",
       "    .dataframe thead th {\n",
       "        text-align: right;\n",
       "    }\n",
       "</style>\n",
       "<table border=\"1\" class=\"dataframe\">\n",
       "  <thead>\n",
       "    <tr style=\"text-align: right;\">\n",
       "      <th></th>\n",
       "      <th>balcony</th>\n",
       "      <th>price</th>\n",
       "    </tr>\n",
       "  </thead>\n",
       "  <tbody>\n",
       "    <tr>\n",
       "      <th>balcony</th>\n",
       "      <td>1.00</td>\n",
       "      <td>0.19</td>\n",
       "    </tr>\n",
       "    <tr>\n",
       "      <th>price</th>\n",
       "      <td>0.19</td>\n",
       "      <td>1.00</td>\n",
       "    </tr>\n",
       "  </tbody>\n",
       "</table>\n",
       "</div>"
      ],
      "text/plain": [
       "         balcony  price\n",
       "balcony     1.00   0.19\n",
       "price       0.19   1.00"
      ]
     },
     "execution_count": 88,
     "metadata": {},
     "output_type": "execute_result"
    }
   ],
   "source": [
    "corr_bal_pr = Data_frame[['balcony', 'price']].corr()\n",
    "corr_bal_pr"
   ]
  },
  {
   "cell_type": "code",
   "execution_count": 89,
   "id": "7477443b-9399-4c58-b469-21013c428a5d",
   "metadata": {},
   "outputs": [
    {
     "data": {
      "text/plain": [
       "PearsonRResult(statistic=0.18543413063519218, pvalue=9.17122318161299e-68)"
      ]
     },
     "execution_count": 89,
     "metadata": {},
     "output_type": "execute_result"
    }
   ],
   "source": [
    "pearson_bal_pr = stats.pearsonr(Data_frame['balcony'], Data_frame['price'])\n",
    "pearson_bal_pr"
   ]
  },
  {
   "cell_type": "code",
   "execution_count": 90,
   "id": "efb2c860-7e20-436c-8ee5-3cae8d751b50",
   "metadata": {},
   "outputs": [
    {
     "data": {
      "text/html": [
       "<div>\n",
       "<style scoped>\n",
       "    .dataframe tbody tr th:only-of-type {\n",
       "        vertical-align: middle;\n",
       "    }\n",
       "\n",
       "    .dataframe tbody tr th {\n",
       "        vertical-align: top;\n",
       "    }\n",
       "\n",
       "    .dataframe thead th {\n",
       "        text-align: right;\n",
       "    }\n",
       "</style>\n",
       "<table border=\"1\" class=\"dataframe\">\n",
       "  <thead>\n",
       "    <tr style=\"text-align: right;\">\n",
       "      <th></th>\n",
       "      <th>BHK</th>\n",
       "      <th>price</th>\n",
       "    </tr>\n",
       "  </thead>\n",
       "  <tbody>\n",
       "    <tr>\n",
       "      <th>BHK</th>\n",
       "      <td>1.00</td>\n",
       "      <td>0.72</td>\n",
       "    </tr>\n",
       "    <tr>\n",
       "      <th>price</th>\n",
       "      <td>0.72</td>\n",
       "      <td>1.00</td>\n",
       "    </tr>\n",
       "  </tbody>\n",
       "</table>\n",
       "</div>"
      ],
      "text/plain": [
       "       BHK  price\n",
       "BHK   1.00   0.72\n",
       "price 0.72   1.00"
      ]
     },
     "execution_count": 90,
     "metadata": {},
     "output_type": "execute_result"
    }
   ],
   "source": [
    "corr_bhk_pr = Data_frame[['BHK', 'price']].corr()\n",
    "corr_bhk_pr"
   ]
  },
  {
   "cell_type": "code",
   "execution_count": 91,
   "id": "d9a2cc03-7691-4c62-9b70-9b2f247c30bf",
   "metadata": {},
   "outputs": [
    {
     "data": {
      "text/plain": [
       "PearsonRResult(statistic=0.7199808512611198, pvalue=0.0)"
      ]
     },
     "execution_count": 91,
     "metadata": {},
     "output_type": "execute_result"
    }
   ],
   "source": [
    "pearson_bhk_pr = stats.pearsonr(Data_frame['BHK'], Data_frame['price'])\n",
    "pearson_bhk_pr"
   ]
  },
  {
   "cell_type": "markdown",
   "id": "3b92cd44-d486-4816-bab2-80c734bf6b5a",
   "metadata": {},
   "source": [
    "#### The P value from pearson correlation is 0 ( < 0.05 ) so our Correlation coef are statically significant \n",
    "#### balcony the weakest while total_sqft the strongest \n",
    "#### Correlation is not equal to causation -> Balcony might be weakest but is an important feature in deciding the price of a Property"
   ]
  },
  {
   "cell_type": "markdown",
   "id": "d3e7f54a-6fa3-4d3b-bce4-587632f6ca18",
   "metadata": {},
   "source": [
    "#### Lets Understand the Categorical Features \n",
    "#### Lets Find average price of category from categorical features "
   ]
  },
  {
   "cell_type": "code",
   "execution_count": 92,
   "id": "6e97e01c-ba07-4fe0-b92a-5e73e05fcd10",
   "metadata": {},
   "outputs": [
    {
     "data": {
      "text/html": [
       "<div>\n",
       "<style scoped>\n",
       "    .dataframe tbody tr th:only-of-type {\n",
       "        vertical-align: middle;\n",
       "    }\n",
       "\n",
       "    .dataframe tbody tr th {\n",
       "        vertical-align: top;\n",
       "    }\n",
       "\n",
       "    .dataframe thead th {\n",
       "        text-align: right;\n",
       "    }\n",
       "</style>\n",
       "<table border=\"1\" class=\"dataframe\">\n",
       "  <thead>\n",
       "    <tr style=\"text-align: right;\">\n",
       "      <th></th>\n",
       "      <th>avg-price</th>\n",
       "    </tr>\n",
       "    <tr>\n",
       "      <th>area_type</th>\n",
       "      <th></th>\n",
       "    </tr>\n",
       "  </thead>\n",
       "  <tbody>\n",
       "    <tr>\n",
       "      <th>Plot  Area</th>\n",
       "      <td>154.02</td>\n",
       "    </tr>\n",
       "    <tr>\n",
       "      <th>Built-up  Area</th>\n",
       "      <td>100.70</td>\n",
       "    </tr>\n",
       "    <tr>\n",
       "      <th>Super built-up  Area</th>\n",
       "      <td>91.00</td>\n",
       "    </tr>\n",
       "    <tr>\n",
       "      <th>Carpet  Area</th>\n",
       "      <td>89.06</td>\n",
       "    </tr>\n",
       "  </tbody>\n",
       "</table>\n",
       "</div>"
      ],
      "text/plain": [
       "                      avg-price\n",
       "area_type                      \n",
       "Plot  Area               154.02\n",
       "Built-up  Area           100.70\n",
       "Super built-up  Area      91.00\n",
       "Carpet  Area              89.06"
      ]
     },
     "execution_count": 92,
     "metadata": {},
     "output_type": "execute_result"
    }
   ],
   "source": [
    "df1 = Data_frame[['area_type', 'price']]\n",
    "df_g = df1.groupby(['area_type'], as_index=False).mean().sort_values(ascending=False, by='price')\n",
    "df_g.rename(columns={'price':'avg-price'}, inplace=True)\n",
    "df_g.set_index('area_type', inplace=True)\n",
    "df_g"
   ]
  },
  {
   "cell_type": "code",
   "execution_count": 93,
   "id": "3442daa5-4ef4-49b6-a811-5053ccfe9ace",
   "metadata": {},
   "outputs": [
    {
     "data": {
      "text/html": [
       "<div>\n",
       "<style scoped>\n",
       "    .dataframe tbody tr th:only-of-type {\n",
       "        vertical-align: middle;\n",
       "    }\n",
       "\n",
       "    .dataframe tbody tr th {\n",
       "        vertical-align: top;\n",
       "    }\n",
       "\n",
       "    .dataframe thead th {\n",
       "        text-align: right;\n",
       "    }\n",
       "</style>\n",
       "<table border=\"1\" class=\"dataframe\">\n",
       "  <thead>\n",
       "    <tr style=\"text-align: right;\">\n",
       "      <th></th>\n",
       "      <th>avg-price</th>\n",
       "    </tr>\n",
       "    <tr>\n",
       "      <th>location</th>\n",
       "      <th></th>\n",
       "    </tr>\n",
       "  </thead>\n",
       "  <tbody>\n",
       "    <tr>\n",
       "      <th>2nd Stage Nagarbhavi</th>\n",
       "      <td>198.89</td>\n",
       "    </tr>\n",
       "    <tr>\n",
       "      <th>Rajaji Nagar</th>\n",
       "      <td>193.96</td>\n",
       "    </tr>\n",
       "    <tr>\n",
       "      <th>Frazer Town</th>\n",
       "      <td>179.23</td>\n",
       "    </tr>\n",
       "    <tr>\n",
       "      <th>Iblur Village</th>\n",
       "      <td>176.43</td>\n",
       "    </tr>\n",
       "    <tr>\n",
       "      <th>Indira Nagar</th>\n",
       "      <td>174.34</td>\n",
       "    </tr>\n",
       "    <tr>\n",
       "      <th>Cooke Town</th>\n",
       "      <td>171.50</td>\n",
       "    </tr>\n",
       "    <tr>\n",
       "      <th>Malleshwaram</th>\n",
       "      <td>168.21</td>\n",
       "    </tr>\n",
       "    <tr>\n",
       "      <th>Old Airport Road</th>\n",
       "      <td>165.02</td>\n",
       "    </tr>\n",
       "    <tr>\n",
       "      <th>Koramangala</th>\n",
       "      <td>162.04</td>\n",
       "    </tr>\n",
       "    <tr>\n",
       "      <th>Hosakerehalli</th>\n",
       "      <td>161.07</td>\n",
       "    </tr>\n",
       "  </tbody>\n",
       "</table>\n",
       "</div>"
      ],
      "text/plain": [
       "                      avg-price\n",
       "location                       \n",
       "2nd Stage Nagarbhavi     198.89\n",
       "Rajaji Nagar             193.96\n",
       "Frazer Town              179.23\n",
       "Iblur Village            176.43\n",
       "Indira Nagar             174.34\n",
       "Cooke Town               171.50\n",
       "Malleshwaram             168.21\n",
       "Old Airport Road         165.02\n",
       "Koramangala              162.04\n",
       "Hosakerehalli            161.07"
      ]
     },
     "execution_count": 93,
     "metadata": {},
     "output_type": "execute_result"
    }
   ],
   "source": [
    "df2 = Data_frame[['location', 'price']]\n",
    "df_l = df2.groupby(['location'], as_index=False).mean().sort_values(ascending=False, by='price')\n",
    "df_l.rename(columns={'price':'avg-price'}, inplace=True)\n",
    "df_l.set_index('location', inplace=True)\n",
    "df_l.head(10)"
   ]
  },
  {
   "cell_type": "code",
   "execution_count": 94,
   "id": "089202e2-56f5-4134-b346-d22ca5b6057b",
   "metadata": {},
   "outputs": [
    {
     "data": {
      "text/html": [
       "<div>\n",
       "<style scoped>\n",
       "    .dataframe tbody tr th:only-of-type {\n",
       "        vertical-align: middle;\n",
       "    }\n",
       "\n",
       "    .dataframe tbody tr th {\n",
       "        vertical-align: top;\n",
       "    }\n",
       "\n",
       "    .dataframe thead th {\n",
       "        text-align: right;\n",
       "    }\n",
       "</style>\n",
       "<table border=\"1\" class=\"dataframe\">\n",
       "  <thead>\n",
       "    <tr style=\"text-align: right;\">\n",
       "      <th>location</th>\n",
       "      <th>1st Phase JP Nagar</th>\n",
       "      <th>2nd Stage Nagarbhavi</th>\n",
       "      <th>5th Phase JP Nagar</th>\n",
       "      <th>6th Phase JP Nagar</th>\n",
       "      <th>7th Phase JP Nagar</th>\n",
       "      <th>8th Phase JP Nagar</th>\n",
       "      <th>9th Phase JP Nagar</th>\n",
       "      <th>Abbigere</th>\n",
       "      <th>Akshaya Nagar</th>\n",
       "      <th>Ambalipura</th>\n",
       "      <th>...</th>\n",
       "      <th>Uttarahalli</th>\n",
       "      <th>Varthur</th>\n",
       "      <th>Vidyaranyapura</th>\n",
       "      <th>Vijayanagar</th>\n",
       "      <th>Vittasandra</th>\n",
       "      <th>Whitefield</th>\n",
       "      <th>Yelachenahalli</th>\n",
       "      <th>Yelahanka</th>\n",
       "      <th>Yelahanka New Town</th>\n",
       "      <th>Yeshwanthpur</th>\n",
       "    </tr>\n",
       "    <tr>\n",
       "      <th>area_type</th>\n",
       "      <th></th>\n",
       "      <th></th>\n",
       "      <th></th>\n",
       "      <th></th>\n",
       "      <th></th>\n",
       "      <th></th>\n",
       "      <th></th>\n",
       "      <th></th>\n",
       "      <th></th>\n",
       "      <th></th>\n",
       "      <th></th>\n",
       "      <th></th>\n",
       "      <th></th>\n",
       "      <th></th>\n",
       "      <th></th>\n",
       "      <th></th>\n",
       "      <th></th>\n",
       "      <th></th>\n",
       "      <th></th>\n",
       "      <th></th>\n",
       "      <th></th>\n",
       "    </tr>\n",
       "  </thead>\n",
       "  <tbody>\n",
       "    <tr>\n",
       "      <th>Built-up  Area</th>\n",
       "      <td>100.60</td>\n",
       "      <td>170.00</td>\n",
       "      <td>65.77</td>\n",
       "      <td>81.00</td>\n",
       "      <td>105.76</td>\n",
       "      <td>110.60</td>\n",
       "      <td>84.38</td>\n",
       "      <td>99.67</td>\n",
       "      <td>73.22</td>\n",
       "      <td>140.00</td>\n",
       "      <td>...</td>\n",
       "      <td>51.83</td>\n",
       "      <td>56.00</td>\n",
       "      <td>56.00</td>\n",
       "      <td>119.80</td>\n",
       "      <td>0.00</td>\n",
       "      <td>151.28</td>\n",
       "      <td>128.33</td>\n",
       "      <td>101.95</td>\n",
       "      <td>51.56</td>\n",
       "      <td>112.40</td>\n",
       "    </tr>\n",
       "    <tr>\n",
       "      <th>Carpet  Area</th>\n",
       "      <td>0.00</td>\n",
       "      <td>0.00</td>\n",
       "      <td>0.00</td>\n",
       "      <td>0.00</td>\n",
       "      <td>0.00</td>\n",
       "      <td>38.00</td>\n",
       "      <td>0.00</td>\n",
       "      <td>0.00</td>\n",
       "      <td>0.00</td>\n",
       "      <td>0.00</td>\n",
       "      <td>...</td>\n",
       "      <td>88.00</td>\n",
       "      <td>0.00</td>\n",
       "      <td>0.00</td>\n",
       "      <td>0.00</td>\n",
       "      <td>0.00</td>\n",
       "      <td>0.00</td>\n",
       "      <td>0.00</td>\n",
       "      <td>0.00</td>\n",
       "      <td>38.00</td>\n",
       "      <td>0.00</td>\n",
       "    </tr>\n",
       "    <tr>\n",
       "      <th>Plot  Area</th>\n",
       "      <td>210.00</td>\n",
       "      <td>202.50</td>\n",
       "      <td>206.25</td>\n",
       "      <td>135.00</td>\n",
       "      <td>172.50</td>\n",
       "      <td>178.75</td>\n",
       "      <td>113.40</td>\n",
       "      <td>120.00</td>\n",
       "      <td>161.67</td>\n",
       "      <td>0.00</td>\n",
       "      <td>...</td>\n",
       "      <td>184.67</td>\n",
       "      <td>115.14</td>\n",
       "      <td>127.88</td>\n",
       "      <td>185.29</td>\n",
       "      <td>0.00</td>\n",
       "      <td>193.33</td>\n",
       "      <td>160.00</td>\n",
       "      <td>130.75</td>\n",
       "      <td>180.00</td>\n",
       "      <td>141.67</td>\n",
       "    </tr>\n",
       "    <tr>\n",
       "      <th>Super built-up  Area</th>\n",
       "      <td>136.71</td>\n",
       "      <td>0.00</td>\n",
       "      <td>69.25</td>\n",
       "      <td>108.50</td>\n",
       "      <td>91.36</td>\n",
       "      <td>58.48</td>\n",
       "      <td>57.74</td>\n",
       "      <td>39.87</td>\n",
       "      <td>86.77</td>\n",
       "      <td>86.99</td>\n",
       "      <td>...</td>\n",
       "      <td>54.45</td>\n",
       "      <td>63.52</td>\n",
       "      <td>52.42</td>\n",
       "      <td>87.39</td>\n",
       "      <td>68.43</td>\n",
       "      <td>108.23</td>\n",
       "      <td>74.40</td>\n",
       "      <td>85.88</td>\n",
       "      <td>42.54</td>\n",
       "      <td>91.56</td>\n",
       "    </tr>\n",
       "  </tbody>\n",
       "</table>\n",
       "<p>4 rows × 181 columns</p>\n",
       "</div>"
      ],
      "text/plain": [
       "location              1st Phase JP Nagar  2nd Stage Nagarbhavi  \\\n",
       "area_type                                                        \n",
       "Built-up  Area                    100.60                170.00   \n",
       "Carpet  Area                        0.00                  0.00   \n",
       "Plot  Area                        210.00                202.50   \n",
       "Super built-up  Area              136.71                  0.00   \n",
       "\n",
       "location              5th Phase JP Nagar  6th Phase JP Nagar  \\\n",
       "area_type                                                      \n",
       "Built-up  Area                     65.77               81.00   \n",
       "Carpet  Area                        0.00                0.00   \n",
       "Plot  Area                        206.25              135.00   \n",
       "Super built-up  Area               69.25              108.50   \n",
       "\n",
       "location              7th Phase JP Nagar  8th Phase JP Nagar  \\\n",
       "area_type                                                      \n",
       "Built-up  Area                    105.76              110.60   \n",
       "Carpet  Area                        0.00               38.00   \n",
       "Plot  Area                        172.50              178.75   \n",
       "Super built-up  Area               91.36               58.48   \n",
       "\n",
       "location              9th Phase JP Nagar  Abbigere  Akshaya Nagar  Ambalipura  \\\n",
       "area_type                                                                       \n",
       "Built-up  Area                     84.38     99.67          73.22      140.00   \n",
       "Carpet  Area                        0.00      0.00           0.00        0.00   \n",
       "Plot  Area                        113.40    120.00         161.67        0.00   \n",
       "Super built-up  Area               57.74     39.87          86.77       86.99   \n",
       "\n",
       "location              ...  Uttarahalli  Varthur  Vidyaranyapura  Vijayanagar  \\\n",
       "area_type             ...                                                      \n",
       "Built-up  Area        ...        51.83    56.00           56.00       119.80   \n",
       "Carpet  Area          ...        88.00     0.00            0.00         0.00   \n",
       "Plot  Area            ...       184.67   115.14          127.88       185.29   \n",
       "Super built-up  Area  ...        54.45    63.52           52.42        87.39   \n",
       "\n",
       "location              Vittasandra  Whitefield  Yelachenahalli  Yelahanka  \\\n",
       "area_type                                                                  \n",
       "Built-up  Area               0.00      151.28          128.33     101.95   \n",
       "Carpet  Area                 0.00        0.00            0.00       0.00   \n",
       "Plot  Area                   0.00      193.33          160.00     130.75   \n",
       "Super built-up  Area        68.43      108.23           74.40      85.88   \n",
       "\n",
       "location              Yelahanka New Town  Yeshwanthpur  \n",
       "area_type                                               \n",
       "Built-up  Area                     51.56        112.40  \n",
       "Carpet  Area                       38.00          0.00  \n",
       "Plot  Area                        180.00        141.67  \n",
       "Super built-up  Area               42.54         91.56  \n",
       "\n",
       "[4 rows x 181 columns]"
      ]
     },
     "execution_count": 94,
     "metadata": {},
     "output_type": "execute_result"
    }
   ],
   "source": [
    "df3 = Data_frame[['area_type','location', 'price']]\n",
    "df_p = df3.groupby(['area_type','location'], as_index=False).mean().sort_values(ascending=False, by='price')\n",
    "df_p.set_index('area_type', inplace=True)\n",
    "df_p.rename(columns={'price':'avg-price'}, inplace=True)\n",
    "df_pivot = pd.pivot_table(df_p, index='area_type', columns='location', values='avg-price')\n",
    "df_pivot.fillna(0, inplace=True)\n",
    "df_pivot "
   ]
  },
  {
   "cell_type": "code",
   "execution_count": 95,
   "id": "ab098e68-0553-4649-bbf2-e0bb6528de76",
   "metadata": {},
   "outputs": [
    {
     "data": {
      "text/plain": [
       "Index(['area_type', 'location', 'total_sqft', 'bathroom', 'balcony', 'price',\n",
       "       'BHK'],\n",
       "      dtype='object')"
      ]
     },
     "execution_count": 95,
     "metadata": {},
     "output_type": "execute_result"
    }
   ],
   "source": [
    "Data_frame.columns"
   ]
  },
  {
   "cell_type": "code",
   "execution_count": 96,
   "id": "46d2d95a-18a6-4bef-832a-cf93f4cc902a",
   "metadata": {},
   "outputs": [
    {
     "data": {
      "text/plain": [
       "Text(0, 0.5, 'bathroom')"
      ]
     },
     "execution_count": 96,
     "metadata": {},
     "output_type": "execute_result"
    },
    {
     "data": {
      "image/png": "[encoded data removed]",
      "text/plain": [
       "<Figure size 1440x720 with 1 Axes>"
      ]
     },
     "metadata": {
      "needs_background": "light"
     },
     "output_type": "display_data"
    }
   ],
   "source": [
    "# Bathroom and BHK\n",
    "sns.barplot(x='BHK', y='bathroom', data=Data_frame, palette='Blues')\n",
    "plt.title('Bar Plot - bathroom and BHK')\n",
    "plt.xlabel('BHK')\n",
    "plt.ylabel('bathroom') "
   ]
  },
  {
   "cell_type": "code",
   "execution_count": 97,
   "id": "7f1fc507-77a0-4e09-94b6-c00317977b6e",
   "metadata": {},
   "outputs": [
    {
     "data": {
      "text/plain": [
       "0        1\n",
       "2        3\n",
       "3        1\n",
       "4        1\n",
       "6        1\n",
       "        ..\n",
       "13314    3\n",
       "13316    1\n",
       "13317    1\n",
       "13318    1\n",
       "13319    1\n",
       "Name: balcony, Length: 8649, dtype: int32"
      ]
     },
     "execution_count": 97,
     "metadata": {},
     "output_type": "execute_result"
    }
   ],
   "source": [
    "Data_frame.balcony"
   ]
  },
  {
   "cell_type": "code",
   "execution_count": 98,
   "id": "6c11cabb-0d56-4836-a895-5d453f950cc5",
   "metadata": {},
   "outputs": [
    {
     "data": {
      "text/plain": [
       "Text(0, 0.5, 'balcony')"
      ]
     },
     "execution_count": 98,
     "metadata": {},
     "output_type": "execute_result"
    },
    {
     "data": {
      "image/png": "[encoded data removed]",
      "text/plain": [
       "<Figure size 1440x720 with 1 Axes>"
      ]
     },
     "metadata": {
      "needs_background": "light"
     },
     "output_type": "display_data"
    }
   ],
   "source": [
    "# Balconies and BHK\n",
    "sns.barplot(x='BHK', y='balcony', data=Data_frame, palette='Blues')\n",
    "plt.title('Bar Plot - balcony and BHK')\n",
    "plt.xlabel('BHK')\n",
    "plt.ylabel('balcony') "
   ]
  },
  {
   "cell_type": "code",
   "execution_count": 99,
   "id": "bbdfc3de-2fad-4f52-90e2-35064294bcce",
   "metadata": {},
   "outputs": [],
   "source": [
    "Data_frame.to_csv(\"Cleaned_data.csv\")"
   ]
  },
  {
   "cell_type": "markdown",
   "id": "ed53eb70-53fd-4188-8004-8fa170e60f15",
   "metadata": {},
   "source": [
    "## <font color = 'green'> Model Building - ENCODING </font>\n",
    "#### Encoding the Categoricals features - area_type and location"
   ]
  },
  {
   "cell_type": "code",
   "execution_count": 100,
   "id": "d5127e00-fa8c-4e7f-b845-bd5dcdf06a3e",
   "metadata": {},
   "outputs": [],
   "source": [
    "one_dum = pd.get_dummies(Data_frame['area_type'])\n",
    "Data_frame = pd.concat([Data_frame, one_dum], axis=1)\n",
    "Data_frame.drop(['area_type'], axis=1, inplace=True)"
   ]
  },
  {
   "cell_type": "code",
   "execution_count": 101,
   "id": "bac160ad-1524-4051-8d59-cbdcbcf2f2a9",
   "metadata": {},
   "outputs": [
    {
     "data": {
      "text/html": [
       "<div>\n",
       "<style scoped>\n",
       "    .dataframe tbody tr th:only-of-type {\n",
       "        vertical-align: middle;\n",
       "    }\n",
       "\n",
       "    .dataframe tbody tr th {\n",
       "        vertical-align: top;\n",
       "    }\n",
       "\n",
       "    .dataframe thead th {\n",
       "        text-align: right;\n",
       "    }\n",
       "</style>\n",
       "<table border=\"1\" class=\"dataframe\">\n",
       "  <thead>\n",
       "    <tr style=\"text-align: right;\">\n",
       "      <th></th>\n",
       "      <th>location</th>\n",
       "      <th>total_sqft</th>\n",
       "      <th>bathroom</th>\n",
       "      <th>balcony</th>\n",
       "      <th>price</th>\n",
       "      <th>BHK</th>\n",
       "      <th>Built-up  Area</th>\n",
       "      <th>Carpet  Area</th>\n",
       "      <th>Plot  Area</th>\n",
       "      <th>Super built-up  Area</th>\n",
       "    </tr>\n",
       "  </thead>\n",
       "  <tbody>\n",
       "    <tr>\n",
       "      <th>0</th>\n",
       "      <td>Electronic City Phase II</td>\n",
       "      <td>1056.00</td>\n",
       "      <td>2.00</td>\n",
       "      <td>1</td>\n",
       "      <td>39.07</td>\n",
       "      <td>2.00</td>\n",
       "      <td>0</td>\n",
       "      <td>0</td>\n",
       "      <td>0</td>\n",
       "      <td>1</td>\n",
       "    </tr>\n",
       "    <tr>\n",
       "      <th>2</th>\n",
       "      <td>Uttarahalli</td>\n",
       "      <td>1440.00</td>\n",
       "      <td>2.00</td>\n",
       "      <td>3</td>\n",
       "      <td>62.00</td>\n",
       "      <td>3.00</td>\n",
       "      <td>1</td>\n",
       "      <td>0</td>\n",
       "      <td>0</td>\n",
       "      <td>0</td>\n",
       "    </tr>\n",
       "    <tr>\n",
       "      <th>3</th>\n",
       "      <td>Lingadheeranahalli</td>\n",
       "      <td>1521.00</td>\n",
       "      <td>3.00</td>\n",
       "      <td>1</td>\n",
       "      <td>95.00</td>\n",
       "      <td>3.00</td>\n",
       "      <td>0</td>\n",
       "      <td>0</td>\n",
       "      <td>0</td>\n",
       "      <td>1</td>\n",
       "    </tr>\n",
       "    <tr>\n",
       "      <th>4</th>\n",
       "      <td>Kothanur</td>\n",
       "      <td>1200.00</td>\n",
       "      <td>2.00</td>\n",
       "      <td>1</td>\n",
       "      <td>51.00</td>\n",
       "      <td>2.00</td>\n",
       "      <td>0</td>\n",
       "      <td>0</td>\n",
       "      <td>0</td>\n",
       "      <td>1</td>\n",
       "    </tr>\n",
       "    <tr>\n",
       "      <th>6</th>\n",
       "      <td>Old Airport Road</td>\n",
       "      <td>2408.50</td>\n",
       "      <td>4.00</td>\n",
       "      <td>1</td>\n",
       "      <td>204.00</td>\n",
       "      <td>4.00</td>\n",
       "      <td>0</td>\n",
       "      <td>0</td>\n",
       "      <td>0</td>\n",
       "      <td>1</td>\n",
       "    </tr>\n",
       "    <tr>\n",
       "      <th>7</th>\n",
       "      <td>Rajaji Nagar</td>\n",
       "      <td>2408.50</td>\n",
       "      <td>4.00</td>\n",
       "      <td>1</td>\n",
       "      <td>220.00</td>\n",
       "      <td>4.00</td>\n",
       "      <td>0</td>\n",
       "      <td>0</td>\n",
       "      <td>0</td>\n",
       "      <td>1</td>\n",
       "    </tr>\n",
       "    <tr>\n",
       "      <th>11</th>\n",
       "      <td>Whitefield</td>\n",
       "      <td>2408.50</td>\n",
       "      <td>5.00</td>\n",
       "      <td>3</td>\n",
       "      <td>220.00</td>\n",
       "      <td>4.00</td>\n",
       "      <td>0</td>\n",
       "      <td>0</td>\n",
       "      <td>1</td>\n",
       "      <td>0</td>\n",
       "    </tr>\n",
       "    <tr>\n",
       "      <th>12</th>\n",
       "      <td>7th Phase JP Nagar</td>\n",
       "      <td>1000.00</td>\n",
       "      <td>2.00</td>\n",
       "      <td>1</td>\n",
       "      <td>38.00</td>\n",
       "      <td>2.00</td>\n",
       "      <td>0</td>\n",
       "      <td>0</td>\n",
       "      <td>0</td>\n",
       "      <td>1</td>\n",
       "    </tr>\n",
       "    <tr>\n",
       "      <th>13</th>\n",
       "      <td>Gottigere</td>\n",
       "      <td>1100.00</td>\n",
       "      <td>2.00</td>\n",
       "      <td>2</td>\n",
       "      <td>40.00</td>\n",
       "      <td>2.00</td>\n",
       "      <td>1</td>\n",
       "      <td>0</td>\n",
       "      <td>0</td>\n",
       "      <td>0</td>\n",
       "    </tr>\n",
       "    <tr>\n",
       "      <th>14</th>\n",
       "      <td>Sarjapur</td>\n",
       "      <td>2250.00</td>\n",
       "      <td>3.00</td>\n",
       "      <td>2</td>\n",
       "      <td>148.00</td>\n",
       "      <td>3.00</td>\n",
       "      <td>0</td>\n",
       "      <td>0</td>\n",
       "      <td>1</td>\n",
       "      <td>0</td>\n",
       "    </tr>\n",
       "  </tbody>\n",
       "</table>\n",
       "</div>"
      ],
      "text/plain": [
       "                    location  total_sqft  bathroom  balcony  price  BHK  \\\n",
       "0   Electronic City Phase II     1056.00      2.00        1  39.07 2.00   \n",
       "2                Uttarahalli     1440.00      2.00        3  62.00 3.00   \n",
       "3         Lingadheeranahalli     1521.00      3.00        1  95.00 3.00   \n",
       "4                   Kothanur     1200.00      2.00        1  51.00 2.00   \n",
       "6           Old Airport Road     2408.50      4.00        1 204.00 4.00   \n",
       "7               Rajaji Nagar     2408.50      4.00        1 220.00 4.00   \n",
       "11                Whitefield     2408.50      5.00        3 220.00 4.00   \n",
       "12        7th Phase JP Nagar     1000.00      2.00        1  38.00 2.00   \n",
       "13                 Gottigere     1100.00      2.00        2  40.00 2.00   \n",
       "14                  Sarjapur     2250.00      3.00        2 148.00 3.00   \n",
       "\n",
       "    Built-up  Area  Carpet  Area  Plot  Area  Super built-up  Area  \n",
       "0                0             0           0                     1  \n",
       "2                1             0           0                     0  \n",
       "3                0             0           0                     1  \n",
       "4                0             0           0                     1  \n",
       "6                0             0           0                     1  \n",
       "7                0             0           0                     1  \n",
       "11               0             0           1                     0  \n",
       "12               0             0           0                     1  \n",
       "13               1             0           0                     0  \n",
       "14               0             0           1                     0  "
      ]
     },
     "execution_count": 101,
     "metadata": {},
     "output_type": "execute_result"
    }
   ],
   "source": [
    "Data_frame.head(10)"
   ]
  },
  {
   "cell_type": "code",
   "execution_count": 102,
   "id": "75853969-00ed-40b5-9418-552a87d2f803",
   "metadata": {},
   "outputs": [],
   "source": [
    "ne_dum = pd.get_dummies(Data_frame['location'])\n",
    "Data_frame = pd.concat([Data_frame, ne_dum], axis=1)\n",
    "Data_frame.drop(['location'], axis=1, inplace=True)"
   ]
  },
  {
   "cell_type": "code",
   "execution_count": 103,
   "id": "de56efbe-f5e6-459b-b5dd-1b3939fe26e9",
   "metadata": {},
   "outputs": [
    {
     "data": {
      "text/html": [
       "<div>\n",
       "<style scoped>\n",
       "    .dataframe tbody tr th:only-of-type {\n",
       "        vertical-align: middle;\n",
       "    }\n",
       "\n",
       "    .dataframe tbody tr th {\n",
       "        vertical-align: top;\n",
       "    }\n",
       "\n",
       "    .dataframe thead th {\n",
       "        text-align: right;\n",
       "    }\n",
       "</style>\n",
       "<table border=\"1\" class=\"dataframe\">\n",
       "  <thead>\n",
       "    <tr style=\"text-align: right;\">\n",
       "      <th></th>\n",
       "      <th>total_sqft</th>\n",
       "      <th>bathroom</th>\n",
       "      <th>balcony</th>\n",
       "      <th>price</th>\n",
       "      <th>BHK</th>\n",
       "      <th>Built-up  Area</th>\n",
       "      <th>Carpet  Area</th>\n",
       "      <th>Plot  Area</th>\n",
       "      <th>Super built-up  Area</th>\n",
       "      <th>1st Phase JP Nagar</th>\n",
       "      <th>...</th>\n",
       "      <th>Uttarahalli</th>\n",
       "      <th>Varthur</th>\n",
       "      <th>Vidyaranyapura</th>\n",
       "      <th>Vijayanagar</th>\n",
       "      <th>Vittasandra</th>\n",
       "      <th>Whitefield</th>\n",
       "      <th>Yelachenahalli</th>\n",
       "      <th>Yelahanka</th>\n",
       "      <th>Yelahanka New Town</th>\n",
       "      <th>Yeshwanthpur</th>\n",
       "    </tr>\n",
       "  </thead>\n",
       "  <tbody>\n",
       "    <tr>\n",
       "      <th>0</th>\n",
       "      <td>1056.00</td>\n",
       "      <td>2.00</td>\n",
       "      <td>1</td>\n",
       "      <td>39.07</td>\n",
       "      <td>2.00</td>\n",
       "      <td>0</td>\n",
       "      <td>0</td>\n",
       "      <td>0</td>\n",
       "      <td>1</td>\n",
       "      <td>0</td>\n",
       "      <td>...</td>\n",
       "      <td>0</td>\n",
       "      <td>0</td>\n",
       "      <td>0</td>\n",
       "      <td>0</td>\n",
       "      <td>0</td>\n",
       "      <td>0</td>\n",
       "      <td>0</td>\n",
       "      <td>0</td>\n",
       "      <td>0</td>\n",
       "      <td>0</td>\n",
       "    </tr>\n",
       "    <tr>\n",
       "      <th>2</th>\n",
       "      <td>1440.00</td>\n",
       "      <td>2.00</td>\n",
       "      <td>3</td>\n",
       "      <td>62.00</td>\n",
       "      <td>3.00</td>\n",
       "      <td>1</td>\n",
       "      <td>0</td>\n",
       "      <td>0</td>\n",
       "      <td>0</td>\n",
       "      <td>0</td>\n",
       "      <td>...</td>\n",
       "      <td>1</td>\n",
       "      <td>0</td>\n",
       "      <td>0</td>\n",
       "      <td>0</td>\n",
       "      <td>0</td>\n",
       "      <td>0</td>\n",
       "      <td>0</td>\n",
       "      <td>0</td>\n",
       "      <td>0</td>\n",
       "      <td>0</td>\n",
       "    </tr>\n",
       "    <tr>\n",
       "      <th>3</th>\n",
       "      <td>1521.00</td>\n",
       "      <td>3.00</td>\n",
       "      <td>1</td>\n",
       "      <td>95.00</td>\n",
       "      <td>3.00</td>\n",
       "      <td>0</td>\n",
       "      <td>0</td>\n",
       "      <td>0</td>\n",
       "      <td>1</td>\n",
       "      <td>0</td>\n",
       "      <td>...</td>\n",
       "      <td>0</td>\n",
       "      <td>0</td>\n",
       "      <td>0</td>\n",
       "      <td>0</td>\n",
       "      <td>0</td>\n",
       "      <td>0</td>\n",
       "      <td>0</td>\n",
       "      <td>0</td>\n",
       "      <td>0</td>\n",
       "      <td>0</td>\n",
       "    </tr>\n",
       "    <tr>\n",
       "      <th>4</th>\n",
       "      <td>1200.00</td>\n",
       "      <td>2.00</td>\n",
       "      <td>1</td>\n",
       "      <td>51.00</td>\n",
       "      <td>2.00</td>\n",
       "      <td>0</td>\n",
       "      <td>0</td>\n",
       "      <td>0</td>\n",
       "      <td>1</td>\n",
       "      <td>0</td>\n",
       "      <td>...</td>\n",
       "      <td>0</td>\n",
       "      <td>0</td>\n",
       "      <td>0</td>\n",
       "      <td>0</td>\n",
       "      <td>0</td>\n",
       "      <td>0</td>\n",
       "      <td>0</td>\n",
       "      <td>0</td>\n",
       "      <td>0</td>\n",
       "      <td>0</td>\n",
       "    </tr>\n",
       "    <tr>\n",
       "      <th>6</th>\n",
       "      <td>2408.50</td>\n",
       "      <td>4.00</td>\n",
       "      <td>1</td>\n",
       "      <td>204.00</td>\n",
       "      <td>4.00</td>\n",
       "      <td>0</td>\n",
       "      <td>0</td>\n",
       "      <td>0</td>\n",
       "      <td>1</td>\n",
       "      <td>0</td>\n",
       "      <td>...</td>\n",
       "      <td>0</td>\n",
       "      <td>0</td>\n",
       "      <td>0</td>\n",
       "      <td>0</td>\n",
       "      <td>0</td>\n",
       "      <td>0</td>\n",
       "      <td>0</td>\n",
       "      <td>0</td>\n",
       "      <td>0</td>\n",
       "      <td>0</td>\n",
       "    </tr>\n",
       "    <tr>\n",
       "      <th>7</th>\n",
       "      <td>2408.50</td>\n",
       "      <td>4.00</td>\n",
       "      <td>1</td>\n",
       "      <td>220.00</td>\n",
       "      <td>4.00</td>\n",
       "      <td>0</td>\n",
       "      <td>0</td>\n",
       "      <td>0</td>\n",
       "      <td>1</td>\n",
       "      <td>0</td>\n",
       "      <td>...</td>\n",
       "      <td>0</td>\n",
       "      <td>0</td>\n",
       "      <td>0</td>\n",
       "      <td>0</td>\n",
       "      <td>0</td>\n",
       "      <td>0</td>\n",
       "      <td>0</td>\n",
       "      <td>0</td>\n",
       "      <td>0</td>\n",
       "      <td>0</td>\n",
       "    </tr>\n",
       "    <tr>\n",
       "      <th>11</th>\n",
       "      <td>2408.50</td>\n",
       "      <td>5.00</td>\n",
       "      <td>3</td>\n",
       "      <td>220.00</td>\n",
       "      <td>4.00</td>\n",
       "      <td>0</td>\n",
       "      <td>0</td>\n",
       "      <td>1</td>\n",
       "      <td>0</td>\n",
       "      <td>0</td>\n",
       "      <td>...</td>\n",
       "      <td>0</td>\n",
       "      <td>0</td>\n",
       "      <td>0</td>\n",
       "      <td>0</td>\n",
       "      <td>0</td>\n",
       "      <td>1</td>\n",
       "      <td>0</td>\n",
       "      <td>0</td>\n",
       "      <td>0</td>\n",
       "      <td>0</td>\n",
       "    </tr>\n",
       "    <tr>\n",
       "      <th>12</th>\n",
       "      <td>1000.00</td>\n",
       "      <td>2.00</td>\n",
       "      <td>1</td>\n",
       "      <td>38.00</td>\n",
       "      <td>2.00</td>\n",
       "      <td>0</td>\n",
       "      <td>0</td>\n",
       "      <td>0</td>\n",
       "      <td>1</td>\n",
       "      <td>0</td>\n",
       "      <td>...</td>\n",
       "      <td>0</td>\n",
       "      <td>0</td>\n",
       "      <td>0</td>\n",
       "      <td>0</td>\n",
       "      <td>0</td>\n",
       "      <td>0</td>\n",
       "      <td>0</td>\n",
       "      <td>0</td>\n",
       "      <td>0</td>\n",
       "      <td>0</td>\n",
       "    </tr>\n",
       "    <tr>\n",
       "      <th>13</th>\n",
       "      <td>1100.00</td>\n",
       "      <td>2.00</td>\n",
       "      <td>2</td>\n",
       "      <td>40.00</td>\n",
       "      <td>2.00</td>\n",
       "      <td>1</td>\n",
       "      <td>0</td>\n",
       "      <td>0</td>\n",
       "      <td>0</td>\n",
       "      <td>0</td>\n",
       "      <td>...</td>\n",
       "      <td>0</td>\n",
       "      <td>0</td>\n",
       "      <td>0</td>\n",
       "      <td>0</td>\n",
       "      <td>0</td>\n",
       "      <td>0</td>\n",
       "      <td>0</td>\n",
       "      <td>0</td>\n",
       "      <td>0</td>\n",
       "      <td>0</td>\n",
       "    </tr>\n",
       "    <tr>\n",
       "      <th>14</th>\n",
       "      <td>2250.00</td>\n",
       "      <td>3.00</td>\n",
       "      <td>2</td>\n",
       "      <td>148.00</td>\n",
       "      <td>3.00</td>\n",
       "      <td>0</td>\n",
       "      <td>0</td>\n",
       "      <td>1</td>\n",
       "      <td>0</td>\n",
       "      <td>0</td>\n",
       "      <td>...</td>\n",
       "      <td>0</td>\n",
       "      <td>0</td>\n",
       "      <td>0</td>\n",
       "      <td>0</td>\n",
       "      <td>0</td>\n",
       "      <td>0</td>\n",
       "      <td>0</td>\n",
       "      <td>0</td>\n",
       "      <td>0</td>\n",
       "      <td>0</td>\n",
       "    </tr>\n",
       "  </tbody>\n",
       "</table>\n",
       "<p>10 rows × 190 columns</p>\n",
       "</div>"
      ],
      "text/plain": [
       "    total_sqft  bathroom  balcony  price  BHK  Built-up  Area  Carpet  Area  \\\n",
       "0      1056.00      2.00        1  39.07 2.00               0             0   \n",
       "2      1440.00      2.00        3  62.00 3.00               1             0   \n",
       "3      1521.00      3.00        1  95.00 3.00               0             0   \n",
       "4      1200.00      2.00        1  51.00 2.00               0             0   \n",
       "6      2408.50      4.00        1 204.00 4.00               0             0   \n",
       "7      2408.50      4.00        1 220.00 4.00               0             0   \n",
       "11     2408.50      5.00        3 220.00 4.00               0             0   \n",
       "12     1000.00      2.00        1  38.00 2.00               0             0   \n",
       "13     1100.00      2.00        2  40.00 2.00               1             0   \n",
       "14     2250.00      3.00        2 148.00 3.00               0             0   \n",
       "\n",
       "    Plot  Area  Super built-up  Area  1st Phase JP Nagar  ...  Uttarahalli  \\\n",
       "0            0                     1                   0  ...            0   \n",
       "2            0                     0                   0  ...            1   \n",
       "3            0                     1                   0  ...            0   \n",
       "4            0                     1                   0  ...            0   \n",
       "6            0                     1                   0  ...            0   \n",
       "7            0                     1                   0  ...            0   \n",
       "11           1                     0                   0  ...            0   \n",
       "12           0                     1                   0  ...            0   \n",
       "13           0                     0                   0  ...            0   \n",
       "14           1                     0                   0  ...            0   \n",
       "\n",
       "    Varthur  Vidyaranyapura  Vijayanagar  Vittasandra  Whitefield  \\\n",
       "0         0               0            0            0           0   \n",
       "2         0               0            0            0           0   \n",
       "3         0               0            0            0           0   \n",
       "4         0               0            0            0           0   \n",
       "6         0               0            0            0           0   \n",
       "7         0               0            0            0           0   \n",
       "11        0               0            0            0           1   \n",
       "12        0               0            0            0           0   \n",
       "13        0               0            0            0           0   \n",
       "14        0               0            0            0           0   \n",
       "\n",
       "    Yelachenahalli  Yelahanka  Yelahanka New Town  Yeshwanthpur  \n",
       "0                0          0                   0             0  \n",
       "2                0          0                   0             0  \n",
       "3                0          0                   0             0  \n",
       "4                0          0                   0             0  \n",
       "6                0          0                   0             0  \n",
       "7                0          0                   0             0  \n",
       "11               0          0                   0             0  \n",
       "12               0          0                   0             0  \n",
       "13               0          0                   0             0  \n",
       "14               0          0                   0             0  \n",
       "\n",
       "[10 rows x 190 columns]"
      ]
     },
     "execution_count": 103,
     "metadata": {},
     "output_type": "execute_result"
    }
   ],
   "source": [
    "Data_frame.head(10)"
   ]
  },
  {
   "cell_type": "markdown",
   "id": "67520e94-5bfb-42b5-86ae-b8a8c8312a30",
   "metadata": {},
   "source": [
    "# <font color = 'green'> Model Building - Building a Regression Model </font>\n",
    "### Spliting using Train-Test Split"
   ]
  },
  {
   "cell_type": "code",
   "execution_count": 104,
   "id": "5c3a174b-c27a-4243-8196-be84df35b65e",
   "metadata": {},
   "outputs": [
    {
     "data": {
      "text/plain": [
       "(8649, 190)"
      ]
     },
     "execution_count": 104,
     "metadata": {},
     "output_type": "execute_result"
    }
   ],
   "source": [
    "Data_frame.shape"
   ]
  },
  {
   "cell_type": "code",
   "execution_count": 105,
   "id": "13fbaa4d-fd94-45ea-8a36-cea0bffbdd1e",
   "metadata": {},
   "outputs": [
    {
     "data": {
      "text/plain": [
       "(8649, 189)"
      ]
     },
     "execution_count": 105,
     "metadata": {},
     "output_type": "execute_result"
    }
   ],
   "source": [
    "X = Data_frame.drop(['price'], axis=1)\n",
    "X.shape"
   ]
  },
  {
   "cell_type": "code",
   "execution_count": 106,
   "id": "5b9d3924-4707-448d-8206-b282db6f3d48",
   "metadata": {},
   "outputs": [
    {
     "data": {
      "text/plain": [
       "(8649,)"
      ]
     },
     "execution_count": 106,
     "metadata": {},
     "output_type": "execute_result"
    }
   ],
   "source": [
    "Y = Data_frame['price']\n",
    "Y.shape"
   ]
  },
  {
   "cell_type": "code",
   "execution_count": 107,
   "id": "55a9e056-459b-45f2-b3ac-8fb7634f3a9b",
   "metadata": {},
   "outputs": [
    {
     "name": "stdout",
     "output_type": "stream",
     "text": [
      "(7178, 189) \n",
      " (1471, 189) \n",
      " (7178,) \n",
      " (1471,)\n"
     ]
    }
   ],
   "source": [
    "X_train, X_test, Y_train, Y_test = train_test_split(X, Y, test_size=0.17, random_state=42)\n",
    "print(f\"{X_train.shape} \\n {X_test.shape} \\n {Y_train.shape} \\n {Y_test.shape}\")"
   ]
  },
  {
   "cell_type": "markdown",
   "id": "2054652f-70a5-4c10-ac47-fc6ad05b6678",
   "metadata": {},
   "source": [
    "## <font color = 'blue'>Multiple Linear Regression</font> Model"
   ]
  },
  {
   "cell_type": "code",
   "execution_count": 108,
   "id": "baae5c15-94e8-4435-bcf4-53d00f294ab0",
   "metadata": {},
   "outputs": [
    {
     "data": {
      "text/plain": [
       "array([ 57.32483864,  73.93253326,  75.08778381, ..., 173.538908  ,\n",
       "        63.62570763, 123.63618851])"
      ]
     },
     "execution_count": 108,
     "metadata": {},
     "output_type": "execute_result"
    }
   ],
   "source": [
    "LinearModel = LinearRegression()\n",
    "LinearModel.fit(X_train, Y_train)\n",
    "Y_pred = LinearModel.predict(X_test)\n",
    "Y_pred"
   ]
  },
  {
   "cell_type": "code",
   "execution_count": 109,
   "id": "16174d1f-906f-495a-b50f-ff428e3367a1",
   "metadata": {},
   "outputs": [
    {
     "data": {
      "text/plain": [
       "array([ 45.46298981,  63.34943581,  63.38291359, ...,  56.06560135,\n",
       "       124.39947891, 188.36702919])"
      ]
     },
     "execution_count": 109,
     "metadata": {},
     "output_type": "execute_result"
    }
   ],
   "source": [
    "Y_pred_train = LinearModel.predict(X_train)\n",
    "Y_pred_train"
   ]
  },
  {
   "cell_type": "code",
   "execution_count": 110,
   "id": "487d4a38-cf93-4626-8364-a120a57d8ae6",
   "metadata": {},
   "outputs": [
    {
     "data": {
      "text/plain": [
       "669.3272102182345"
      ]
     },
     "execution_count": 110,
     "metadata": {},
     "output_type": "execute_result"
    }
   ],
   "source": [
    "# mse value - Test\n",
    "MSE = mse(Y_test, Y_pred)\n",
    "MSE"
   ]
  },
  {
   "cell_type": "code",
   "execution_count": 111,
   "id": "5850cc46-e518-490a-8765-6b35b5cdce41",
   "metadata": {},
   "outputs": [
    {
     "data": {
      "text/plain": [
       "631.122755440182"
      ]
     },
     "execution_count": 111,
     "metadata": {},
     "output_type": "execute_result"
    }
   ],
   "source": [
    "# mse value - train\n",
    "MSE_t = mse(Y_train, Y_pred_train)\n",
    "MSE_t"
   ]
  },
  {
   "cell_type": "markdown",
   "id": "f0f7cf94-129f-47ae-af32-cf579f9f9737",
   "metadata": {},
   "source": [
    "#### <b> R square value - train and test </b>"
   ]
  },
  {
   "cell_type": "code",
   "execution_count": 112,
   "id": "9a436eae-9935-47c2-bb88-4feac6fc97fe",
   "metadata": {},
   "outputs": [
    {
     "data": {
      "text/plain": [
       "0.8287983143616725"
      ]
     },
     "execution_count": 112,
     "metadata": {},
     "output_type": "execute_result"
    }
   ],
   "source": [
    "# R^2 Value - Train\n",
    "r2_val_t = LinearModel.score(X_train, Y_train)\n",
    "r2_val_t"
   ]
  },
  {
   "cell_type": "code",
   "execution_count": 113,
   "id": "e2900ce2-7901-4ed9-9452-0caf7aadb1b6",
   "metadata": {},
   "outputs": [
    {
     "data": {
      "text/plain": [
       "0.8245794352187885"
      ]
     },
     "execution_count": 113,
     "metadata": {},
     "output_type": "execute_result"
    }
   ],
   "source": [
    "# R^2 Value - Test\n",
    "r2_val = LinearModel.score(X_test, Y_test)\n",
    "r2_val"
   ]
  },
  {
   "cell_type": "code",
   "execution_count": 114,
   "id": "620333f2-c53f-4f8e-a500-62b5adeefaa5",
   "metadata": {},
   "outputs": [
    {
     "data": {
      "text/plain": [
       "0.8245794352187885"
      ]
     },
     "execution_count": 114,
     "metadata": {},
     "output_type": "execute_result"
    }
   ],
   "source": [
    "from sklearn.metrics import r2_score\n",
    "r2_score(Y_test, Y_pred)"
   ]
  },
  {
   "cell_type": "code",
   "execution_count": 115,
   "id": "5acb560e-878f-4e13-9b56-fd90e23eec92",
   "metadata": {},
   "outputs": [
    {
     "data": {
      "text/plain": [
       "0.8287983143616725"
      ]
     },
     "execution_count": 115,
     "metadata": {},
     "output_type": "execute_result"
    }
   ],
   "source": [
    "r2_score(Y_train, Y_pred_train)"
   ]
  },
  {
   "cell_type": "code",
   "execution_count": 116,
   "id": "ff8879b7-b721-46b3-8ab2-b910266a118a",
   "metadata": {},
   "outputs": [
    {
     "data": {
      "text/plain": [
       "10372950466.186283"
      ]
     },
     "execution_count": 116,
     "metadata": {},
     "output_type": "execute_result"
    }
   ],
   "source": [
    "LinearModel.intercept_"
   ]
  },
  {
   "cell_type": "code",
   "execution_count": 117,
   "id": "706b661e-5f12-4cf9-ac3a-763448785972",
   "metadata": {},
   "outputs": [
    {
     "name": "stdout",
     "output_type": "stream",
     "text": [
      "0.07695125286592912\n",
      "5.237583683370573\n",
      "-0.33457158931832875\n",
      "6.425386181877485\n",
      "-10367393798.675901\n",
      "-10367393796.478601\n"
     ]
    }
   ],
   "source": [
    "for i in range(0, 6):\n",
    "    print(LinearModel.coef_[i])"
   ]
  },
  {
   "cell_type": "markdown",
   "id": "c6de3e4b-3b37-4c58-aa06-3b3e68891da7",
   "metadata": {},
   "source": [
    "#### <b> Dist and Scatter Plot </b>"
   ]
  },
  {
   "cell_type": "code",
   "execution_count": 118,
   "id": "af1237a7-5c50-4da1-9d14-08b0054ef204",
   "metadata": {},
   "outputs": [
    {
     "data": {
      "image/png": "[encoded data removed]",
      "text/plain": [
       "<Figure size 1440x720 with 1 Axes>"
      ]
     },
     "metadata": {
      "needs_background": "light"
     },
     "output_type": "display_data"
    }
   ],
   "source": [
    "# Dist Plot\n",
    "axis = sns.distplot(x=Y_test, hist=False, color='red', label='Actual Data')\n",
    "sns.distplot(x=Y_pred, hist=False, color='blue', label='Predicted Data', ax=axis)\n",
    "plt.xlabel('Price')\n",
    "plt.title('Actual value vs Predicted Value')\n",
    "plt.legend(loc='best')\n",
    "plt.show()"
   ]
  },
  {
   "cell_type": "code",
   "execution_count": 119,
   "id": "b1d85ec5-40ae-4ec0-8867-6c1ad4080e89",
   "metadata": {},
   "outputs": [
    {
     "ename": "TypeError",
     "evalue": "regplot() takes from 0 to 1 positional arguments but 2 positional arguments (and 1 keyword-only argument) were given",
     "output_type": "error",
     "traceback": [
      "\u001b[1;31m---------------------------------------------------------------------------\u001b[0m",
      "\u001b[1;31mTypeError\u001b[0m                                 Traceback (most recent call last)",
      "\u001b[1;32me:\\django projects\\projectfolio\\projectfolio\\pythonnotebooks\\houseproject\\Bengaluru_Real_Estate_Price.ipynb Cell 144\u001b[0m in \u001b[0;36m<cell line: 5>\u001b[1;34m()\u001b[0m\n\u001b[0;32m      <a href='vscode-notebook-cell:/e%3A/django%20projects/projectfolio/projectfolio/pythonnotebooks/houseproject/Bengaluru_Real_Estate_Price.ipynb#Y263sZmlsZQ%3D%3D?line=1'>2</a>\u001b[0m sns\u001b[39m.\u001b[39mset(color_codes\u001b[39m=\u001b[39m\u001b[39mTrue\u001b[39;00m)\n\u001b[0;32m      <a href='vscode-notebook-cell:/e%3A/django%20projects/projectfolio/projectfolio/pythonnotebooks/houseproject/Bengaluru_Real_Estate_Price.ipynb#Y263sZmlsZQ%3D%3D?line=2'>3</a>\u001b[0m sns\u001b[39m.\u001b[39mset_style(\u001b[39m\"\u001b[39m\u001b[39mwhite\u001b[39m\u001b[39m\"\u001b[39m)\n\u001b[1;32m----> <a href='vscode-notebook-cell:/e%3A/django%20projects/projectfolio/projectfolio/pythonnotebooks/houseproject/Bengaluru_Real_Estate_Price.ipynb#Y263sZmlsZQ%3D%3D?line=4'>5</a>\u001b[0m ax \u001b[39m=\u001b[39m sns\u001b[39m.\u001b[39;49mregplot(Y_test, Y_pred, scatter_kws\u001b[39m=\u001b[39;49m{\u001b[39m'\u001b[39;49m\u001b[39malpha\u001b[39;49m\u001b[39m'\u001b[39;49m:\u001b[39m0.4\u001b[39;49m})\n\u001b[0;32m      <a href='vscode-notebook-cell:/e%3A/django%20projects/projectfolio/projectfolio/pythonnotebooks/houseproject/Bengaluru_Real_Estate_Price.ipynb#Y263sZmlsZQ%3D%3D?line=5'>6</a>\u001b[0m ax\u001b[39m.\u001b[39mset_xlabel(\u001b[39m'\u001b[39m\u001b[39mOriginal Value - Price\u001b[39m\u001b[39m'\u001b[39m, fontsize\u001b[39m=\u001b[39m\u001b[39m'\u001b[39m\u001b[39mlarge\u001b[39m\u001b[39m'\u001b[39m, fontweight\u001b[39m=\u001b[39m\u001b[39m'\u001b[39m\u001b[39mbold\u001b[39m\u001b[39m'\u001b[39m)\n\u001b[0;32m      <a href='vscode-notebook-cell:/e%3A/django%20projects/projectfolio/projectfolio/pythonnotebooks/houseproject/Bengaluru_Real_Estate_Price.ipynb#Y263sZmlsZQ%3D%3D?line=6'>7</a>\u001b[0m ax\u001b[39m.\u001b[39mset_ylabel(\u001b[39m'\u001b[39m\u001b[39mPredicted Value - Price\u001b[39m\u001b[39m'\u001b[39m, fontsize\u001b[39m=\u001b[39m\u001b[39m'\u001b[39m\u001b[39mlarge\u001b[39m\u001b[39m'\u001b[39m, fontweight\u001b[39m=\u001b[39m\u001b[39m'\u001b[39m\u001b[39mbold\u001b[39m\u001b[39m'\u001b[39m)\n",
      "\u001b[1;31mTypeError\u001b[0m: regplot() takes from 0 to 1 positional arguments but 2 positional arguments (and 1 keyword-only argument) were given"
     ]
    }
   ],
   "source": [
    "# Scatter Plot\n",
    "sns.set(color_codes=True)\n",
    "sns.set_style(\"white\")\n",
    "\n",
    "ax = sns.regplot(Y_test, Y_pred, scatter_kws={'alpha':0.4})\n",
    "ax.set_xlabel('Original Value - Price', fontsize='large', fontweight='bold')\n",
    "ax.set_ylabel('Predicted Value - Price', fontsize='large', fontweight='bold')\n",
    "ax.set_xlim(35, 135)\n",
    "ax.set_ylim(15, 135)\n",
    "plt.show"
   ]
  },
  {
   "cell_type": "markdown",
   "id": "622893a3-dbf0-42d4-bfd3-bd8f87d8dac1",
   "metadata": {},
   "source": [
    "#### <font color = 'red'>Using K Fold cross validation score to measure accuracy of our LinearRegression model</font>"
   ]
  },
  {
   "cell_type": "code",
   "execution_count": null,
   "id": "01b4e836-a6e6-453f-a5c1-f9dbee490746",
   "metadata": {},
   "outputs": [
    {
     "data": {
      "text/plain": [
       "array([0.8191147 , 0.83416413, 0.82546283, 0.82257307, 0.8044227 ,\n",
       "       0.81934791, 0.84248468, 0.80032209])"
      ]
     },
     "execution_count": 116,
     "metadata": {},
     "output_type": "execute_result"
    }
   ],
   "source": [
    "cv = KFold(n_splits=8, random_state=None)\n",
    "cross_val_score(LinearRegression(), X, Y, cv=cv)"
   ]
  },
  {
   "cell_type": "code",
   "execution_count": null,
   "id": "856edde8-716a-401e-9a61-9aa7624f0e9c",
   "metadata": {},
   "outputs": [
    {
     "name": "stdout",
     "output_type": "stream",
     "text": [
      "Average Accuracy - 0.8209865138368877\n"
     ]
    }
   ],
   "source": [
    "result = cross_val_score(LinearRegression(), X, Y, cv=cv)\n",
    "print(f\"Average Accuracy - {result.mean()}\")"
   ]
  },
  {
   "cell_type": "markdown",
   "id": "9953a623-f379-4405-a8ad-22c65a4ce96b",
   "metadata": {},
   "source": [
    "## Decision tree for Regression / Prediction ?"
   ]
  },
  {
   "cell_type": "code",
   "execution_count": null,
   "id": "9d3fe48a-f73c-4e7d-b074-3b2619f1942b",
   "metadata": {},
   "outputs": [],
   "source": [
    "Tree_model = DecisionTreeRegressor(max_depth=5)\n",
    "Tree_model.fit(X_train, Y_train)\n",
    "Y_hat = Tree_model.predict(X_test)"
   ]
  },
  {
   "cell_type": "code",
   "execution_count": null,
   "id": "37b78563-cbf6-4374-b5fb-018550e2cb45",
   "metadata": {},
   "outputs": [
    {
     "data": {
      "text/plain": [
       "0.8004133365466866"
      ]
     },
     "execution_count": 119,
     "metadata": {},
     "output_type": "execute_result"
    }
   ],
   "source": [
    "# R^2 Value\n",
    "r2_val_t = Tree_model.score(X_test, Y_test)\n",
    "r2_val_t"
   ]
  },
  {
   "cell_type": "code",
   "execution_count": null,
   "id": "b4bc363d-15fc-4c1c-aca9-29db48158879",
   "metadata": {},
   "outputs": [
    {
     "data": {
      "text/plain": [
       "array([0.80489968, 0.79509544, 0.79364274, 0.77423932, 0.78333249,\n",
       "       0.73676151, 0.77471187, 0.81736563, 0.77536051, 0.76885779])"
      ]
     },
     "execution_count": 120,
     "metadata": {},
     "output_type": "execute_result"
    }
   ],
   "source": [
    "cvt = KFold(n_splits=10, random_state=None)\n",
    "cross_val_score(DecisionTreeRegressor(max_depth=5), X, Y, cv=cvt)"
   ]
  },
  {
   "cell_type": "code",
   "execution_count": null,
   "id": "4a150b0a-eaa8-4e1b-8e19-aaddc38d5af3",
   "metadata": {},
   "outputs": [
    {
     "name": "stdout",
     "output_type": "stream",
     "text": [
      "Average Accuracy - 0.7938149994438387\n"
     ]
    }
   ],
   "source": [
    "result_t = cross_val_score(DecisionTreeRegressor(max_depth=6), X, Y, cv=cvt)\n",
    "print(f\"Average Accuracy - {result_t.mean()}\")"
   ]
  },
  {
   "cell_type": "code",
   "execution_count": null,
   "id": "a6dd656d-a985-4c7d-aac6-5360d3de2561",
   "metadata": {},
   "outputs": [
    {
     "data": {
      "text/plain": [
       "Index(['total_sqft', 'bathroom', 'balcony', 'BHK', 'Built-up  Area',\n",
       "       'Carpet  Area', 'Plot  Area', 'Super built-up  Area',\n",
       "       '1st Phase JP Nagar', '2nd Stage Nagarbhavi',\n",
       "       ...\n",
       "       'Uttarahalli', 'Varthur', 'Vidyaranyapura', 'Vijayanagar',\n",
       "       'Vittasandra', 'Whitefield', 'Yelachenahalli', 'Yelahanka',\n",
       "       'Yelahanka New Town', 'Yeshwanthpur'],\n",
       "      dtype='object', length=189)"
      ]
     },
     "execution_count": 122,
     "metadata": {},
     "output_type": "execute_result"
    }
   ],
   "source": [
    "X.columns"
   ]
  },
  {
   "cell_type": "markdown",
   "id": "ffb3df8d-70d4-4ff2-a559-617f8f103faf",
   "metadata": {},
   "source": [
    "#### Multiple Linear Regression Model gives better Accuracy than Decision tree"
   ]
  },
  {
   "cell_type": "markdown",
   "id": "3ed483fd-9d5b-4ec0-b0dc-e85eea73ae57",
   "metadata": {},
   "source": [
    "## Random Forest"
   ]
  },
  {
   "cell_type": "code",
   "execution_count": null,
   "id": "b94bd677-8201-4266-ac91-a04179fe1a95",
   "metadata": {},
   "outputs": [],
   "source": [
    "rf = RandomForestRegressor(n_estimators=105)\n",
    "rf.fit(X_train, Y_train)\n",
    "Y_pred_rf = rf.predict(X_test)"
   ]
  },
  {
   "cell_type": "code",
   "execution_count": null,
   "id": "1d695748-a84a-49a3-b92a-6392305b17e4",
   "metadata": {},
   "outputs": [
    {
     "data": {
      "text/plain": [
       "0.8396315443638427"
      ]
     },
     "execution_count": 124,
     "metadata": {},
     "output_type": "execute_result"
    }
   ],
   "source": [
    "# R^2 Value\n",
    "r2_val_rf = rf.score(X_test, Y_test)\n",
    "r2_val_rf"
   ]
  },
  {
   "cell_type": "code",
   "execution_count": null,
   "id": "1094f22d-bcef-481f-9b8e-f4b7e9c9c1c7",
   "metadata": {},
   "outputs": [
    {
     "data": {
      "text/plain": [
       "array([0.82305731, 0.82231108, 0.80880818, 0.80875766, 0.79775566,\n",
       "       0.80311752, 0.82756003, 0.79074143])"
      ]
     },
     "execution_count": 125,
     "metadata": {},
     "output_type": "execute_result"
    }
   ],
   "source": [
    "cvt = KFold(n_splits=8, random_state=None)\n",
    "cross_val_score(RandomForestRegressor(max_depth=6, n_estimators=105), X, Y, cv=cvt)"
   ]
  },
  {
   "cell_type": "code",
   "execution_count": null,
   "id": "35a87a64-a753-423d-8e0e-40979923ba04",
   "metadata": {},
   "outputs": [
    {
     "name": "stdout",
     "output_type": "stream",
     "text": [
      "Average Accuracy - 0.8103284551016381\n"
     ]
    }
   ],
   "source": [
    "result_t = cross_val_score(RandomForestRegressor(max_depth=6, n_estimators=105), X, Y, cv=cvt)\n",
    "print(f\"Average Accuracy - {result_t.mean()}\")"
   ]
  },
  {
   "cell_type": "markdown",
   "id": "d1643dbf-d554-4c66-a071-36837f40ae1f",
   "metadata": {},
   "source": [
    "## Using Lazy-Predict"
   ]
  },
  {
   "cell_type": "code",
   "execution_count": null,
   "id": "bbec0924-5fa9-4eda-9a3d-24152b0b0f70",
   "metadata": {},
   "outputs": [
    {
     "ename": "NameError",
     "evalue": "name 'X_train' is not defined",
     "output_type": "error",
     "traceback": [
      "\u001b[1;31m---------------------------------------------------------------------------\u001b[0m",
      "\u001b[1;31mNameError\u001b[0m                                 Traceback (most recent call last)",
      "\u001b[1;32me:\\django projects\\projectfolio\\projectfolio\\pythonnotebooks\\houseproject\\Bengaluru_Real_Estate_Price.ipynb Cell 161\u001b[0m in \u001b[0;36m<cell line: 4>\u001b[1;34m()\u001b[0m\n\u001b[0;32m      <a href='vscode-notebook-cell:/e%3A/django%20projects/projectfolio/projectfolio/pythonnotebooks/houseproject/Bengaluru_Real_Estate_Price.ipynb#Y316sZmlsZQ%3D%3D?line=1'>2</a>\u001b[0m \u001b[39mfrom\u001b[39;00m \u001b[39mlazypredict\u001b[39;00m\u001b[39m.\u001b[39;00m\u001b[39mSupervised\u001b[39;00m \u001b[39mimport\u001b[39;00m LazyRegressor\n\u001b[0;32m      <a href='vscode-notebook-cell:/e%3A/django%20projects/projectfolio/projectfolio/pythonnotebooks/houseproject/Bengaluru_Real_Estate_Price.ipynb#Y316sZmlsZQ%3D%3D?line=2'>3</a>\u001b[0m clf \u001b[39m=\u001b[39m LazyRegressor(verbose\u001b[39m=\u001b[39m\u001b[39m0\u001b[39m,ignore_warnings\u001b[39m=\u001b[39m\u001b[39mTrue\u001b[39;00m, custom_metric\u001b[39m=\u001b[39m\u001b[39mNone\u001b[39;00m)\n\u001b[1;32m----> <a href='vscode-notebook-cell:/e%3A/django%20projects/projectfolio/projectfolio/pythonnotebooks/houseproject/Bengaluru_Real_Estate_Price.ipynb#Y316sZmlsZQ%3D%3D?line=3'>4</a>\u001b[0m models_test,predictions_test \u001b[39m=\u001b[39m clf\u001b[39m.\u001b[39mfit(X_train, X_test, Y_train, Y_test)\n",
      "\u001b[1;31mNameError\u001b[0m: name 'X_train' is not defined"
     ]
    }
   ],
   "source": [
    "import lazypredict\n",
    "from lazypredict.Supervised import LazyRegressor\n",
    "clf = LazyRegressor(verbose=0,ignore_warnings=True, custom_metric=None)\n",
    "models_test,predictions_test = clf.fit(X_train, X_test, Y_train, Y_test)"
   ]
  },
  {
   "cell_type": "code",
   "execution_count": null,
   "id": "24cc7a20-5652-474c-abb3-78acef307f4f",
   "metadata": {
    "collapsed": true,
    "jupyter": {
     "outputs_hidden": true
    },
    "tags": []
   },
   "outputs": [],
   "source": [
    "predictions_test"
   ]
  },
  {
   "cell_type": "markdown",
   "id": "db002e35-504b-4f5d-bd27-46545b84bd7b",
   "metadata": {},
   "source": [
    "### <b>Result</b> -  Using Linear Regression as the Base model as it gives a good result and is less time consuming"
   ]
  },
  {
   "cell_type": "markdown",
   "id": "f5f536b3-93b5-4164-87be-7dc23009e7e7",
   "metadata": {},
   "source": [
    "## <b> Testing Model for Few Properties </b>"
   ]
  },
  {
   "cell_type": "code",
   "execution_count": 120,
   "id": "5eca9727-d9fd-484f-9446-bd2ef1022dd0",
   "metadata": {},
   "outputs": [],
   "source": [
    "def predict_price(area_type, location, sqft, balcony, bathroom, BHK):\n",
    "    area_index = np.where(X.columns==area_type)[0][0]\n",
    "    loc_index = np.where(X.columns==location)[0][0]\n",
    "    \n",
    "    lis = np.zeros(len(X.columns))\n",
    "    lis[0] = sqft\n",
    "    lis[1] = bathroom\n",
    "    lis[2] = balcony\n",
    "    lis[3] = BHK\n",
    "    \n",
    "    if loc_index >=0 and area_index >=0:\n",
    "        lis[area_index] = 1\n",
    "        lis[loc_index] = 1\n",
    "    \n",
    "    return round(LinearModel.predict([lis])[0], 2)\n",
    "    "
   ]
  },
  {
   "cell_type": "code",
   "execution_count": 121,
   "id": "4db5c927-892a-4642-b2ac-1b81b877bff6",
   "metadata": {},
   "outputs": [
    {
     "data": {
      "text/plain": [
       "86.68"
      ]
     },
     "execution_count": 121,
     "metadata": {},
     "output_type": "execute_result"
    }
   ],
   "source": [
    "predict_price('Carpet  Area', 'Whitefield', 1250, 2, 2, 3)"
   ]
  },
  {
   "cell_type": "markdown",
   "id": "373cde2e-fc5a-4b61-bfec-63d217786d44",
   "metadata": {},
   "source": [
    "## Export the Model to a Pickle File "
   ]
  },
  {
   "cell_type": "code",
   "execution_count": 122,
   "id": "d36cf527-ded4-4a10-9a87-5a8f887815bb",
   "metadata": {},
   "outputs": [],
   "source": [
    "import pickle\n",
    "with open('bangalore_home_prices_model.pickle', 'wb') as obj:\n",
    "    pickle.dump(LinearModel, obj)"
   ]
  },
  {
   "cell_type": "markdown",
   "id": "6e9c948c-aab1-408d-bc62-8642a3e044e7",
   "metadata": {},
   "source": [
    "## Importing Columns \n"
   ]
  },
  {
   "cell_type": "code",
   "execution_count": 123,
   "id": "de01d79c-8b37-45ea-99aa-d1e4696b2fc2",
   "metadata": {},
   "outputs": [],
   "source": [
    "import json\n",
    "columns = {\n",
    "    'Columns': [col.lower() for col in X.columns]\n",
    "}\n",
    "with open(\"Columns.json\", 'w') as f:\n",
    "    f.write(json.dumps(columns))"
   ]
  },
  {
   "cell_type": "code",
   "execution_count": null,
   "id": "ba00faf5-ad08-48dd-b2e4-8e961abd9be5",
   "metadata": {},
   "outputs": [],
   "source": []
  }
 ],
 "metadata": {
  "kernelspec": {
   "display_name": "Python 3.10.5 64-bit",
   "language": "python",
   "name": "python3"
  },
  "language_info": {
   "codemirror_mode": {
    "name": "ipython",
    "version": 3
   },
   "file_extension": ".py",
   "mimetype": "text/x-python",
   "name": "python",
   "nbconvert_exporter": "python",
   "pygments_lexer": "ipython3",
   "version": "3.10.5"
  },
  "vscode": {
   "interpreter": {
    "hash": "1c9155b390a856af6d5480c6595dc541f45b3de0f4ac811d8cd4cdadb94bea32"
   }
  }
 },
 "nbformat": 4,
 "nbformat_minor": 5
}
