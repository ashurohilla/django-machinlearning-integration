{
 "cells": [
  {
   "cell_type": "code",
   "execution_count": 3,
   "metadata": {},
   "outputs": [],
   "source": [
    "import pandas as pd\n",
    "import numpy as np\n",
    "\n",
    "from sklearn.model_selection import train_test_split\n",
    "from sklearn.preprocessing import MinMaxScaler\n",
    "from sklearn.linear_model import LogisticRegression\n",
    "\n",
    "from sklearn.metrics import classification_report, confusion_matrix, accuracy_score\n",
    "\n",
    "# load dataset\n",
    "dataset = pd.read_csv('E:/django projects/projectfolio/projectfolio/pythonnotebooks/titanicproject/datasets/train.csv', encoding='latin-1')\n",
    "dataset = dataset.rename(columns=lambda x: x.strip().lower())\n",
    "dataset.head()\n",
    "\n",
    "# cleaning missing values\n",
    "dataset = dataset[['pclass', 'sex', 'age', 'sibsp', 'parch', 'fare', 'embarked', 'survived']]\n",
    "dataset['sex'] = dataset['sex'].map({'male':0, 'female':1})\n",
    "dataset['age'] = pd.to_numeric(dataset['age'], errors='coerce')\n",
    "dataset['age'] = dataset['age'].fillna(np.mean(dataset['age']))\n",
    "\n",
    "# dummy variables\n",
    "embarked_dummies = pd.get_dummies(dataset['embarked'])\n",
    "dataset = pd.concat([dataset, embarked_dummies], axis=1)\n",
    "dataset = dataset.drop(['embarked'], axis=1)\n",
    "\n",
    "X = dataset.drop(['survived'], axis=1)\n",
    "y = dataset['survived']\n",
    "\n",
    "# scaling features \n",
    "sc = MinMaxScaler(feature_range=(0,1))\n",
    "X_scaled = sc.fit_transform(X)\n",
    "\n",
    "# model fit\n",
    "log_model = LogisticRegression(C=1)\n",
    "log_model.fit(X_scaled, y)\n",
    "\n",
    "# saving model as a pickle\n",
    "import pickle\n",
    "pickle.dump(log_model,open(\"titanic_survival_ml_model.sav\", \"wb\"))\n",
    "pickle.dump(sc, open(\"scaler.sav\", \"wb\"))"
   ]
  },
  {
   "cell_type": "code",
   "execution_count": null,
   "metadata": {},
   "outputs": [],
   "source": []
  }
 ],
 "metadata": {
  "kernelspec": {
   "display_name": "Python 3.10.5 64-bit",
   "language": "python",
   "name": "python3"
  },
  "language_info": {
   "codemirror_mode": {
    "name": "ipython",
    "version": 3
   },
   "file_extension": ".py",
   "mimetype": "text/x-python",
   "name": "python",
   "nbconvert_exporter": "python",
   "pygments_lexer": "ipython3",
   "version": "3.10.5"
  },
  "orig_nbformat": 4,
  "vscode": {
   "interpreter": {
    "hash": "1c9155b390a856af6d5480c6595dc541f45b3de0f4ac811d8cd4cdadb94bea32"
   }
  }
 },
 "nbformat": 4,
 "nbformat_minor": 2
}
